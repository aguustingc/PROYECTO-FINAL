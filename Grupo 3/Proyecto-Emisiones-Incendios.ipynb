{
 "cells": [
  {
   "cell_type": "markdown",
   "metadata": {},
   "source": [
    "### PUNTOS 1 a 8"
   ]
  },
  {
   "cell_type": "markdown",
   "metadata": {},
   "source": [
    "1. Generar un DataFrame con los datos de los cuatro ﬁcheros."
   ]
  },
  {
   "cell_type": "code",
   "execution_count": 3,
   "metadata": {},
   "outputs": [
    {
     "output_type": "execute_result",
     "data": {
      "text/plain": [
       "      PROVINCIA  MUNICIPIO  ESTACION  MAGNITUD PUNTO_MUESTREO   ANO  MES  \\\n",
       "0            28         79         4         1  28079004_1_38  2016    1   \n",
       "1            28         79         4         1  28079004_1_38  2016    2   \n",
       "2            28         79         4         1  28079004_1_38  2016    3   \n",
       "3            28         79         4         1  28079004_1_38  2016    4   \n",
       "4            28         79         4         1  28079004_1_38  2016    5   \n",
       "...         ...        ...       ...       ...            ...   ...  ...   \n",
       "7261         28         79        60        14  28079060_14_6  2019    8   \n",
       "7262         28         79        60        14  28079060_14_6  2019    9   \n",
       "7263         28         79        60        14  28079060_14_6  2019   10   \n",
       "7264         28         79        60        14  28079060_14_6  2019   11   \n",
       "7265         28         79        60        14  28079060_14_6  2019   12   \n",
       "\n",
       "       D01 V01    D02  ...   D27  V27   D28  V28   D29  V29    D30  V30   D31  \\\n",
       "0      8.0   V    7.0  ...   9.0    V   7.0    V   8.0    V    9.0    V   9.0   \n",
       "1     12.0   V   13.0  ...   7.0    V   8.0    V   9.0    V    0.0    N   0.0   \n",
       "2     11.0   V   10.0  ...   8.0    V   7.0    V   8.0    V   10.0    V   8.0   \n",
       "3      8.0   V    9.0  ...   9.0    V   8.0    V   8.0    V    8.0    V   0.0   \n",
       "4      7.0   V    8.0  ...   7.0    V   7.0    V   7.0    V    7.0    V   7.0   \n",
       "...    ...  ..    ...  ...   ...  ...   ...  ...   ...  ...    ...  ...   ...   \n",
       "7261  94.0   V  104.0  ...  88.0    V  90.0    V  99.0    V  108.0    V  98.0   \n",
       "7262  88.0   V   82.0  ...  54.0    V  68.0    V  70.0    V   55.0    V   0.0   \n",
       "7263  44.0   V   75.0  ...  28.0    V  33.0    V  16.0    V   19.0    V  47.0   \n",
       "7264  41.0   V   55.0  ...  55.0    V  52.0    V  47.0    V   56.0    V   0.0   \n",
       "7265  47.0   V   53.0  ...  17.0    V  13.0    V  14.0    V    5.0    V   4.0   \n",
       "\n",
       "      V31  \n",
       "0       V  \n",
       "1       N  \n",
       "2       V  \n",
       "3       N  \n",
       "4       V  \n",
       "...   ...  \n",
       "7261    V  \n",
       "7262    N  \n",
       "7263    V  \n",
       "7264    N  \n",
       "7265    V  \n",
       "\n",
       "[7266 rows x 69 columns]"
      ],
      "text/html": "<div>\n<style scoped>\n    .dataframe tbody tr th:only-of-type {\n        vertical-align: middle;\n    }\n\n    .dataframe tbody tr th {\n        vertical-align: top;\n    }\n\n    .dataframe thead th {\n        text-align: right;\n    }\n</style>\n<table border=\"1\" class=\"dataframe\">\n  <thead>\n    <tr style=\"text-align: right;\">\n      <th></th>\n      <th>PROVINCIA</th>\n      <th>MUNICIPIO</th>\n      <th>ESTACION</th>\n      <th>MAGNITUD</th>\n      <th>PUNTO_MUESTREO</th>\n      <th>ANO</th>\n      <th>MES</th>\n      <th>D01</th>\n      <th>V01</th>\n      <th>D02</th>\n      <th>...</th>\n      <th>D27</th>\n      <th>V27</th>\n      <th>D28</th>\n      <th>V28</th>\n      <th>D29</th>\n      <th>V29</th>\n      <th>D30</th>\n      <th>V30</th>\n      <th>D31</th>\n      <th>V31</th>\n    </tr>\n  </thead>\n  <tbody>\n    <tr>\n      <th>0</th>\n      <td>28</td>\n      <td>79</td>\n      <td>4</td>\n      <td>1</td>\n      <td>28079004_1_38</td>\n      <td>2016</td>\n      <td>1</td>\n      <td>8.0</td>\n      <td>V</td>\n      <td>7.0</td>\n      <td>...</td>\n      <td>9.0</td>\n      <td>V</td>\n      <td>7.0</td>\n      <td>V</td>\n      <td>8.0</td>\n      <td>V</td>\n      <td>9.0</td>\n      <td>V</td>\n      <td>9.0</td>\n      <td>V</td>\n    </tr>\n    <tr>\n      <th>1</th>\n      <td>28</td>\n      <td>79</td>\n      <td>4</td>\n      <td>1</td>\n      <td>28079004_1_38</td>\n      <td>2016</td>\n      <td>2</td>\n      <td>12.0</td>\n      <td>V</td>\n      <td>13.0</td>\n      <td>...</td>\n      <td>7.0</td>\n      <td>V</td>\n      <td>8.0</td>\n      <td>V</td>\n      <td>9.0</td>\n      <td>V</td>\n      <td>0.0</td>\n      <td>N</td>\n      <td>0.0</td>\n      <td>N</td>\n    </tr>\n    <tr>\n      <th>2</th>\n      <td>28</td>\n      <td>79</td>\n      <td>4</td>\n      <td>1</td>\n      <td>28079004_1_38</td>\n      <td>2016</td>\n      <td>3</td>\n      <td>11.0</td>\n      <td>V</td>\n      <td>10.0</td>\n      <td>...</td>\n      <td>8.0</td>\n      <td>V</td>\n      <td>7.0</td>\n      <td>V</td>\n      <td>8.0</td>\n      <td>V</td>\n      <td>10.0</td>\n      <td>V</td>\n      <td>8.0</td>\n      <td>V</td>\n    </tr>\n    <tr>\n      <th>3</th>\n      <td>28</td>\n      <td>79</td>\n      <td>4</td>\n      <td>1</td>\n      <td>28079004_1_38</td>\n      <td>2016</td>\n      <td>4</td>\n      <td>8.0</td>\n      <td>V</td>\n      <td>9.0</td>\n      <td>...</td>\n      <td>9.0</td>\n      <td>V</td>\n      <td>8.0</td>\n      <td>V</td>\n      <td>8.0</td>\n      <td>V</td>\n      <td>8.0</td>\n      <td>V</td>\n      <td>0.0</td>\n      <td>N</td>\n    </tr>\n    <tr>\n      <th>4</th>\n      <td>28</td>\n      <td>79</td>\n      <td>4</td>\n      <td>1</td>\n      <td>28079004_1_38</td>\n      <td>2016</td>\n      <td>5</td>\n      <td>7.0</td>\n      <td>V</td>\n      <td>8.0</td>\n      <td>...</td>\n      <td>7.0</td>\n      <td>V</td>\n      <td>7.0</td>\n      <td>V</td>\n      <td>7.0</td>\n      <td>V</td>\n      <td>7.0</td>\n      <td>V</td>\n      <td>7.0</td>\n      <td>V</td>\n    </tr>\n    <tr>\n      <th>...</th>\n      <td>...</td>\n      <td>...</td>\n      <td>...</td>\n      <td>...</td>\n      <td>...</td>\n      <td>...</td>\n      <td>...</td>\n      <td>...</td>\n      <td>...</td>\n      <td>...</td>\n      <td>...</td>\n      <td>...</td>\n      <td>...</td>\n      <td>...</td>\n      <td>...</td>\n      <td>...</td>\n      <td>...</td>\n      <td>...</td>\n      <td>...</td>\n      <td>...</td>\n      <td>...</td>\n    </tr>\n    <tr>\n      <th>7261</th>\n      <td>28</td>\n      <td>79</td>\n      <td>60</td>\n      <td>14</td>\n      <td>28079060_14_6</td>\n      <td>2019</td>\n      <td>8</td>\n      <td>94.0</td>\n      <td>V</td>\n      <td>104.0</td>\n      <td>...</td>\n      <td>88.0</td>\n      <td>V</td>\n      <td>90.0</td>\n      <td>V</td>\n      <td>99.0</td>\n      <td>V</td>\n      <td>108.0</td>\n      <td>V</td>\n      <td>98.0</td>\n      <td>V</td>\n    </tr>\n    <tr>\n      <th>7262</th>\n      <td>28</td>\n      <td>79</td>\n      <td>60</td>\n      <td>14</td>\n      <td>28079060_14_6</td>\n      <td>2019</td>\n      <td>9</td>\n      <td>88.0</td>\n      <td>V</td>\n      <td>82.0</td>\n      <td>...</td>\n      <td>54.0</td>\n      <td>V</td>\n      <td>68.0</td>\n      <td>V</td>\n      <td>70.0</td>\n      <td>V</td>\n      <td>55.0</td>\n      <td>V</td>\n      <td>0.0</td>\n      <td>N</td>\n    </tr>\n    <tr>\n      <th>7263</th>\n      <td>28</td>\n      <td>79</td>\n      <td>60</td>\n      <td>14</td>\n      <td>28079060_14_6</td>\n      <td>2019</td>\n      <td>10</td>\n      <td>44.0</td>\n      <td>V</td>\n      <td>75.0</td>\n      <td>...</td>\n      <td>28.0</td>\n      <td>V</td>\n      <td>33.0</td>\n      <td>V</td>\n      <td>16.0</td>\n      <td>V</td>\n      <td>19.0</td>\n      <td>V</td>\n      <td>47.0</td>\n      <td>V</td>\n    </tr>\n    <tr>\n      <th>7264</th>\n      <td>28</td>\n      <td>79</td>\n      <td>60</td>\n      <td>14</td>\n      <td>28079060_14_6</td>\n      <td>2019</td>\n      <td>11</td>\n      <td>41.0</td>\n      <td>V</td>\n      <td>55.0</td>\n      <td>...</td>\n      <td>55.0</td>\n      <td>V</td>\n      <td>52.0</td>\n      <td>V</td>\n      <td>47.0</td>\n      <td>V</td>\n      <td>56.0</td>\n      <td>V</td>\n      <td>0.0</td>\n      <td>N</td>\n    </tr>\n    <tr>\n      <th>7265</th>\n      <td>28</td>\n      <td>79</td>\n      <td>60</td>\n      <td>14</td>\n      <td>28079060_14_6</td>\n      <td>2019</td>\n      <td>12</td>\n      <td>47.0</td>\n      <td>V</td>\n      <td>53.0</td>\n      <td>...</td>\n      <td>17.0</td>\n      <td>V</td>\n      <td>13.0</td>\n      <td>V</td>\n      <td>14.0</td>\n      <td>V</td>\n      <td>5.0</td>\n      <td>V</td>\n      <td>4.0</td>\n      <td>V</td>\n    </tr>\n  </tbody>\n</table>\n<p>7266 rows × 69 columns</p>\n</div>"
     },
     "metadata": {},
     "execution_count": 3
    }
   ],
   "source": [
    "import pandas as pd\n",
    "\n",
    "# Importamos dataset\n",
    "df_2016 = pd.read_csv('DataFrames/emisiones-2016.csv', sep=';')\n",
    "df_2017 = pd.read_csv('DataFrames/emisiones-2017.csv', sep=';')\n",
    "df_2018 = pd.read_csv('DataFrames/emisiones-2018.csv', sep=';')\n",
    "df_2019 = pd.read_csv('DataFrames/emisiones-2019.csv', sep=';')\n",
    "\n",
    "dfs = [df_2016,\n",
    "       df_2017,\n",
    "       df_2018,\n",
    "       df_2019]\n",
    "\n",
    "# Ignoro index, dado que al concatenar datasets mantendrán su indice sino no lo modifico.\n",
    "dfPrincipal = pd.concat(dfs, ignore_index=True)\n",
    "dfPrincipal"
   ]
  },
  {
   "source": [
    "2. Filtrar columnas por Estación, Magnitud,Año,Mes,D01,D02,etc. "
   ],
   "cell_type": "markdown",
   "metadata": {}
  },
  {
   "cell_type": "code",
   "execution_count": 4,
   "metadata": {},
   "outputs": [
    {
     "output_type": "execute_result",
     "data": {
      "text/plain": [
       "      ESTACION  MAGNITUD   ANO  MES   D01    D02    D03   D04   D05   D06  \\\n",
       "0            4         1  2016    1   8.0    7.0    6.0   6.0   7.0   6.0   \n",
       "1            4         1  2016    2  12.0   13.0    9.0   9.0  11.0   9.0   \n",
       "2            4         1  2016    3  11.0   10.0    9.0   9.0   7.0   8.0   \n",
       "3            4         1  2016    4   8.0    9.0    9.0   8.0   8.0   9.0   \n",
       "4            4         1  2016    5   7.0    8.0    9.0   9.0   8.0   8.0   \n",
       "...        ...       ...   ...  ...   ...    ...    ...   ...   ...   ...   \n",
       "7261        60        14  2019    8  94.0  104.0  106.0  99.0  77.0  82.0   \n",
       "7262        60        14  2019    9  88.0   82.0   80.0  92.0  79.0  75.0   \n",
       "7263        60        14  2019   10  44.0   75.0   44.0  54.0  65.0  68.0   \n",
       "7264        60        14  2019   11  41.0   55.0   79.0  65.0  64.0  51.0   \n",
       "7265        60        14  2019   12  47.0   53.0   45.0  44.0  49.0  41.0   \n",
       "\n",
       "      ...   D22   D23    D24   D25   D26   D27   D28   D29    D30   D31  \n",
       "0     ...  10.0  11.0   11.0  13.0  12.0   9.0   7.0   8.0    9.0   9.0  \n",
       "1     ...  11.0  10.0    9.0   8.0   7.0   7.0   8.0   9.0    0.0   0.0  \n",
       "2     ...   8.0   8.0    9.0   9.0   9.0   8.0   7.0   8.0   10.0   8.0  \n",
       "3     ...   8.0   8.0    8.0   8.0   9.0   9.0   8.0   8.0    8.0   0.0  \n",
       "4     ...   7.0   7.0    8.0   7.0   7.0   7.0   7.0   7.0    7.0   7.0  \n",
       "...   ...   ...   ...    ...   ...   ...   ...   ...   ...    ...   ...  \n",
       "7261  ...  86.0  97.0  104.0  96.0  85.0  88.0  90.0  99.0  108.0  98.0  \n",
       "7262  ...  59.0  46.0   49.0  69.0  57.0  54.0  68.0  70.0   55.0   0.0  \n",
       "7263  ...  37.0  39.0   45.0  21.0  23.0  28.0  33.0  16.0   19.0  47.0  \n",
       "7264  ...  38.0  75.0   69.0  45.0  35.0  55.0  52.0  47.0   56.0   0.0  \n",
       "7265  ...  68.0  36.0    9.0  11.0  10.0  17.0  13.0  14.0    5.0   4.0  \n",
       "\n",
       "[7266 rows x 35 columns]"
      ],
      "text/html": "<div>\n<style scoped>\n    .dataframe tbody tr th:only-of-type {\n        vertical-align: middle;\n    }\n\n    .dataframe tbody tr th {\n        vertical-align: top;\n    }\n\n    .dataframe thead th {\n        text-align: right;\n    }\n</style>\n<table border=\"1\" class=\"dataframe\">\n  <thead>\n    <tr style=\"text-align: right;\">\n      <th></th>\n      <th>ESTACION</th>\n      <th>MAGNITUD</th>\n      <th>ANO</th>\n      <th>MES</th>\n      <th>D01</th>\n      <th>D02</th>\n      <th>D03</th>\n      <th>D04</th>\n      <th>D05</th>\n      <th>D06</th>\n      <th>...</th>\n      <th>D22</th>\n      <th>D23</th>\n      <th>D24</th>\n      <th>D25</th>\n      <th>D26</th>\n      <th>D27</th>\n      <th>D28</th>\n      <th>D29</th>\n      <th>D30</th>\n      <th>D31</th>\n    </tr>\n  </thead>\n  <tbody>\n    <tr>\n      <th>0</th>\n      <td>4</td>\n      <td>1</td>\n      <td>2016</td>\n      <td>1</td>\n      <td>8.0</td>\n      <td>7.0</td>\n      <td>6.0</td>\n      <td>6.0</td>\n      <td>7.0</td>\n      <td>6.0</td>\n      <td>...</td>\n      <td>10.0</td>\n      <td>11.0</td>\n      <td>11.0</td>\n      <td>13.0</td>\n      <td>12.0</td>\n      <td>9.0</td>\n      <td>7.0</td>\n      <td>8.0</td>\n      <td>9.0</td>\n      <td>9.0</td>\n    </tr>\n    <tr>\n      <th>1</th>\n      <td>4</td>\n      <td>1</td>\n      <td>2016</td>\n      <td>2</td>\n      <td>12.0</td>\n      <td>13.0</td>\n      <td>9.0</td>\n      <td>9.0</td>\n      <td>11.0</td>\n      <td>9.0</td>\n      <td>...</td>\n      <td>11.0</td>\n      <td>10.0</td>\n      <td>9.0</td>\n      <td>8.0</td>\n      <td>7.0</td>\n      <td>7.0</td>\n      <td>8.0</td>\n      <td>9.0</td>\n      <td>0.0</td>\n      <td>0.0</td>\n    </tr>\n    <tr>\n      <th>2</th>\n      <td>4</td>\n      <td>1</td>\n      <td>2016</td>\n      <td>3</td>\n      <td>11.0</td>\n      <td>10.0</td>\n      <td>9.0</td>\n      <td>9.0</td>\n      <td>7.0</td>\n      <td>8.0</td>\n      <td>...</td>\n      <td>8.0</td>\n      <td>8.0</td>\n      <td>9.0</td>\n      <td>9.0</td>\n      <td>9.0</td>\n      <td>8.0</td>\n      <td>7.0</td>\n      <td>8.0</td>\n      <td>10.0</td>\n      <td>8.0</td>\n    </tr>\n    <tr>\n      <th>3</th>\n      <td>4</td>\n      <td>1</td>\n      <td>2016</td>\n      <td>4</td>\n      <td>8.0</td>\n      <td>9.0</td>\n      <td>9.0</td>\n      <td>8.0</td>\n      <td>8.0</td>\n      <td>9.0</td>\n      <td>...</td>\n      <td>8.0</td>\n      <td>8.0</td>\n      <td>8.0</td>\n      <td>8.0</td>\n      <td>9.0</td>\n      <td>9.0</td>\n      <td>8.0</td>\n      <td>8.0</td>\n      <td>8.0</td>\n      <td>0.0</td>\n    </tr>\n    <tr>\n      <th>4</th>\n      <td>4</td>\n      <td>1</td>\n      <td>2016</td>\n      <td>5</td>\n      <td>7.0</td>\n      <td>8.0</td>\n      <td>9.0</td>\n      <td>9.0</td>\n      <td>8.0</td>\n      <td>8.0</td>\n      <td>...</td>\n      <td>7.0</td>\n      <td>7.0</td>\n      <td>8.0</td>\n      <td>7.0</td>\n      <td>7.0</td>\n      <td>7.0</td>\n      <td>7.0</td>\n      <td>7.0</td>\n      <td>7.0</td>\n      <td>7.0</td>\n    </tr>\n    <tr>\n      <th>...</th>\n      <td>...</td>\n      <td>...</td>\n      <td>...</td>\n      <td>...</td>\n      <td>...</td>\n      <td>...</td>\n      <td>...</td>\n      <td>...</td>\n      <td>...</td>\n      <td>...</td>\n      <td>...</td>\n      <td>...</td>\n      <td>...</td>\n      <td>...</td>\n      <td>...</td>\n      <td>...</td>\n      <td>...</td>\n      <td>...</td>\n      <td>...</td>\n      <td>...</td>\n      <td>...</td>\n    </tr>\n    <tr>\n      <th>7261</th>\n      <td>60</td>\n      <td>14</td>\n      <td>2019</td>\n      <td>8</td>\n      <td>94.0</td>\n      <td>104.0</td>\n      <td>106.0</td>\n      <td>99.0</td>\n      <td>77.0</td>\n      <td>82.0</td>\n      <td>...</td>\n      <td>86.0</td>\n      <td>97.0</td>\n      <td>104.0</td>\n      <td>96.0</td>\n      <td>85.0</td>\n      <td>88.0</td>\n      <td>90.0</td>\n      <td>99.0</td>\n      <td>108.0</td>\n      <td>98.0</td>\n    </tr>\n    <tr>\n      <th>7262</th>\n      <td>60</td>\n      <td>14</td>\n      <td>2019</td>\n      <td>9</td>\n      <td>88.0</td>\n      <td>82.0</td>\n      <td>80.0</td>\n      <td>92.0</td>\n      <td>79.0</td>\n      <td>75.0</td>\n      <td>...</td>\n      <td>59.0</td>\n      <td>46.0</td>\n      <td>49.0</td>\n      <td>69.0</td>\n      <td>57.0</td>\n      <td>54.0</td>\n      <td>68.0</td>\n      <td>70.0</td>\n      <td>55.0</td>\n      <td>0.0</td>\n    </tr>\n    <tr>\n      <th>7263</th>\n      <td>60</td>\n      <td>14</td>\n      <td>2019</td>\n      <td>10</td>\n      <td>44.0</td>\n      <td>75.0</td>\n      <td>44.0</td>\n      <td>54.0</td>\n      <td>65.0</td>\n      <td>68.0</td>\n      <td>...</td>\n      <td>37.0</td>\n      <td>39.0</td>\n      <td>45.0</td>\n      <td>21.0</td>\n      <td>23.0</td>\n      <td>28.0</td>\n      <td>33.0</td>\n      <td>16.0</td>\n      <td>19.0</td>\n      <td>47.0</td>\n    </tr>\n    <tr>\n      <th>7264</th>\n      <td>60</td>\n      <td>14</td>\n      <td>2019</td>\n      <td>11</td>\n      <td>41.0</td>\n      <td>55.0</td>\n      <td>79.0</td>\n      <td>65.0</td>\n      <td>64.0</td>\n      <td>51.0</td>\n      <td>...</td>\n      <td>38.0</td>\n      <td>75.0</td>\n      <td>69.0</td>\n      <td>45.0</td>\n      <td>35.0</td>\n      <td>55.0</td>\n      <td>52.0</td>\n      <td>47.0</td>\n      <td>56.0</td>\n      <td>0.0</td>\n    </tr>\n    <tr>\n      <th>7265</th>\n      <td>60</td>\n      <td>14</td>\n      <td>2019</td>\n      <td>12</td>\n      <td>47.0</td>\n      <td>53.0</td>\n      <td>45.0</td>\n      <td>44.0</td>\n      <td>49.0</td>\n      <td>41.0</td>\n      <td>...</td>\n      <td>68.0</td>\n      <td>36.0</td>\n      <td>9.0</td>\n      <td>11.0</td>\n      <td>10.0</td>\n      <td>17.0</td>\n      <td>13.0</td>\n      <td>14.0</td>\n      <td>5.0</td>\n      <td>4.0</td>\n    </tr>\n  </tbody>\n</table>\n<p>7266 rows × 35 columns</p>\n</div>"
     },
     "metadata": {},
     "execution_count": 4
    }
   ],
   "source": [
    "\n",
    "# Guardo nombre de columnas en una Lista para poder pasar más facil los valores a .loc\n",
    "columnasFiltradas = [\"ESTACION\",\"MAGNITUD\",\"ANO\",\"MES\",\"D01\",\"D02\",\"D03\",\"D04\",\"D05\",\"D06\",\"D07\",\"D08\",\n",
    "                    \"D09\",\"D10\",\"D11\",\"D12\",\"D13\",\"D14\",\"D15\",\"D16\",\"D17\",\"D18\",\"D19\",\"D20\",\"D21\",\"D22\",\n",
    "                    \"D23\",\"D24\",\"D25\",\"D26\",\"D27\",\"D28\",\"D29\",\"D30\",\"D31\"]\n",
    "\n",
    "# .loc[filas que quiero, columnas que quiero]\n",
    "# \":\" -> Me toma TODAS las filas\n",
    "\n",
    "dfFiltrado = dfPrincipal.loc[:,columnasFiltradas]\n",
    "dfFiltrado"
   ]
  },
  {
   "source": [
    "3. Reestructurar el DataFrame para que los valores de los contaminantes de las columnas de los días aparezcan en una única columna."
   ],
   "cell_type": "markdown",
   "metadata": {}
  },
  {
   "cell_type": "code",
   "execution_count": 5,
   "metadata": {},
   "outputs": [
    {
     "output_type": "execute_result",
     "data": {
      "text/plain": [
       "        PROVINCIA  MUNICIPIO  ESTACION PUNTO_MUESTREO  MAGNITUD   ANO  MES  \\\n",
       "0              28         79         4  28079004_1_38         1  2016    1   \n",
       "1              28         79         4  28079004_1_38         1  2016    2   \n",
       "2              28         79         4  28079004_1_38         1  2016    3   \n",
       "3              28         79         4  28079004_1_38         1  2016    4   \n",
       "4              28         79         4  28079004_1_38         1  2016    5   \n",
       "...           ...        ...       ...            ...       ...   ...  ...   \n",
       "225241         28         79        60  28079060_14_6        14  2019    8   \n",
       "225242         28         79        60  28079060_14_6        14  2019    9   \n",
       "225243         28         79        60  28079060_14_6        14  2019   10   \n",
       "225244         28         79        60  28079060_14_6        14  2019   11   \n",
       "225245         28         79        60  28079060_14_6        14  2019   12   \n",
       "\n",
       "        DIA  VALOR  \n",
       "0       D01    8.0  \n",
       "1       D01   12.0  \n",
       "2       D01   11.0  \n",
       "3       D01    8.0  \n",
       "4       D01    7.0  \n",
       "...     ...    ...  \n",
       "225241  D31   98.0  \n",
       "225242  D31    0.0  \n",
       "225243  D31   47.0  \n",
       "225244  D31    0.0  \n",
       "225245  D31    4.0  \n",
       "\n",
       "[225246 rows x 9 columns]"
      ],
      "text/html": "<div>\n<style scoped>\n    .dataframe tbody tr th:only-of-type {\n        vertical-align: middle;\n    }\n\n    .dataframe tbody tr th {\n        vertical-align: top;\n    }\n\n    .dataframe thead th {\n        text-align: right;\n    }\n</style>\n<table border=\"1\" class=\"dataframe\">\n  <thead>\n    <tr style=\"text-align: right;\">\n      <th></th>\n      <th>PROVINCIA</th>\n      <th>MUNICIPIO</th>\n      <th>ESTACION</th>\n      <th>PUNTO_MUESTREO</th>\n      <th>MAGNITUD</th>\n      <th>ANO</th>\n      <th>MES</th>\n      <th>DIA</th>\n      <th>VALOR</th>\n    </tr>\n  </thead>\n  <tbody>\n    <tr>\n      <th>0</th>\n      <td>28</td>\n      <td>79</td>\n      <td>4</td>\n      <td>28079004_1_38</td>\n      <td>1</td>\n      <td>2016</td>\n      <td>1</td>\n      <td>D01</td>\n      <td>8.0</td>\n    </tr>\n    <tr>\n      <th>1</th>\n      <td>28</td>\n      <td>79</td>\n      <td>4</td>\n      <td>28079004_1_38</td>\n      <td>1</td>\n      <td>2016</td>\n      <td>2</td>\n      <td>D01</td>\n      <td>12.0</td>\n    </tr>\n    <tr>\n      <th>2</th>\n      <td>28</td>\n      <td>79</td>\n      <td>4</td>\n      <td>28079004_1_38</td>\n      <td>1</td>\n      <td>2016</td>\n      <td>3</td>\n      <td>D01</td>\n      <td>11.0</td>\n    </tr>\n    <tr>\n      <th>3</th>\n      <td>28</td>\n      <td>79</td>\n      <td>4</td>\n      <td>28079004_1_38</td>\n      <td>1</td>\n      <td>2016</td>\n      <td>4</td>\n      <td>D01</td>\n      <td>8.0</td>\n    </tr>\n    <tr>\n      <th>4</th>\n      <td>28</td>\n      <td>79</td>\n      <td>4</td>\n      <td>28079004_1_38</td>\n      <td>1</td>\n      <td>2016</td>\n      <td>5</td>\n      <td>D01</td>\n      <td>7.0</td>\n    </tr>\n    <tr>\n      <th>...</th>\n      <td>...</td>\n      <td>...</td>\n      <td>...</td>\n      <td>...</td>\n      <td>...</td>\n      <td>...</td>\n      <td>...</td>\n      <td>...</td>\n      <td>...</td>\n    </tr>\n    <tr>\n      <th>225241</th>\n      <td>28</td>\n      <td>79</td>\n      <td>60</td>\n      <td>28079060_14_6</td>\n      <td>14</td>\n      <td>2019</td>\n      <td>8</td>\n      <td>D31</td>\n      <td>98.0</td>\n    </tr>\n    <tr>\n      <th>225242</th>\n      <td>28</td>\n      <td>79</td>\n      <td>60</td>\n      <td>28079060_14_6</td>\n      <td>14</td>\n      <td>2019</td>\n      <td>9</td>\n      <td>D31</td>\n      <td>0.0</td>\n    </tr>\n    <tr>\n      <th>225243</th>\n      <td>28</td>\n      <td>79</td>\n      <td>60</td>\n      <td>28079060_14_6</td>\n      <td>14</td>\n      <td>2019</td>\n      <td>10</td>\n      <td>D31</td>\n      <td>47.0</td>\n    </tr>\n    <tr>\n      <th>225244</th>\n      <td>28</td>\n      <td>79</td>\n      <td>60</td>\n      <td>28079060_14_6</td>\n      <td>14</td>\n      <td>2019</td>\n      <td>11</td>\n      <td>D31</td>\n      <td>0.0</td>\n    </tr>\n    <tr>\n      <th>225245</th>\n      <td>28</td>\n      <td>79</td>\n      <td>60</td>\n      <td>28079060_14_6</td>\n      <td>14</td>\n      <td>2019</td>\n      <td>12</td>\n      <td>D31</td>\n      <td>4.0</td>\n    </tr>\n  </tbody>\n</table>\n<p>225246 rows × 9 columns</p>\n</div>"
     },
     "metadata": {},
     "execution_count": 5
    }
   ],
   "source": [
    "dias = [\"D01\",\"D02\",\"D03\",\"D04\",\"D05\",\"D06\",\"D07\",\"D08\",\n",
    "        \"D09\",\"D10\",\"D11\",\"D12\",\"D13\",\"D14\",\"D15\",\"D16\",\"D17\",\"D18\",\"D19\",\"D20\",\n",
    "        \"D21\",\"D22\",\"D23\",\"D24\",\"D25\",\"D26\",\"D27\",\"D28\",\"D29\",\"D30\",\"D31\"]\n",
    "\n",
    "columnasNecesarias = ['PROVINCIA', 'MUNICIPIO', 'ESTACION', 'PUNTO_MUESTREO','MAGNITUD','ANO','MES']\n",
    "\n",
    "\n",
    "# .copy(): crea un DataFrame nuevo que no este linkeado al que se le pasa.\n",
    "# Ver \"5-Listas.pdf Seccion - 6. Copia de Listas\"\n",
    "dfValuesPerDay = pd.DataFrame.copy(dfPrincipal)\n",
    "\n",
    "\n",
    "'''\n",
    "melt()\n",
    "id_vars     ->  Columnas que vas a tomar y no queres que se modifiquen.\n",
    "var_name    ->  Nombre de la nueva columna que queres.\n",
    "value_name  ->  Nombre de la nueva columna del valor que esta asociada a var_name.\n",
    "value_vars  ->  Vincula las columnas con var_name y los valores con value_name.\n",
    "'''\n",
    "\n",
    "dfValuesPerDay = dfValuesPerDay.melt(id_vars = columnasNecesarias, \n",
    "                                     value_vars=dias, var_name='DIA',\n",
    "                                     value_name = 'VALOR')\n",
    "\n",
    "dfValuesPerDay"
   ]
  },
  {
   "source": [
    "4. Añadir una columna con la fecha a partir de la concatenación del año, el mes y el día (usar el módulo datetime)."
   ],
   "cell_type": "markdown",
   "metadata": {}
  },
  {
   "cell_type": "code",
   "execution_count": 6,
   "metadata": {},
   "outputs": [
    {
     "output_type": "execute_result",
     "data": {
      "text/plain": [
       "        PROVINCIA  MUNICIPIO  ESTACION PUNTO_MUESTREO  MAGNITUD   ANO  MES  \\\n",
       "0              28         79         4  28079004_1_38         1  2016    1   \n",
       "1              28         79         4  28079004_1_38         1  2016    2   \n",
       "2              28         79         4  28079004_1_38         1  2016    3   \n",
       "3              28         79         4  28079004_1_38         1  2016    4   \n",
       "4              28         79         4  28079004_1_38         1  2016    5   \n",
       "...           ...        ...       ...            ...       ...   ...  ...   \n",
       "225241         28         79        60  28079060_14_6        14  2019    8   \n",
       "225242         28         79        60  28079060_14_6        14  2019    9   \n",
       "225243         28         79        60  28079060_14_6        14  2019   10   \n",
       "225244         28         79        60  28079060_14_6        14  2019   11   \n",
       "225245         28         79        60  28079060_14_6        14  2019   12   \n",
       "\n",
       "        DIA  VALOR      FECHA  \n",
       "0         1    8.0 2016-01-01  \n",
       "1         1   12.0 2016-02-01  \n",
       "2         1   11.0 2016-03-01  \n",
       "3         1    8.0 2016-04-01  \n",
       "4         1    7.0 2016-05-01  \n",
       "...     ...    ...        ...  \n",
       "225241   31   98.0 2019-08-31  \n",
       "225242   31    0.0        NaT  \n",
       "225243   31   47.0 2019-10-31  \n",
       "225244   31    0.0        NaT  \n",
       "225245   31    4.0 2019-12-31  \n",
       "\n",
       "[225246 rows x 10 columns]"
      ],
      "text/html": "<div>\n<style scoped>\n    .dataframe tbody tr th:only-of-type {\n        vertical-align: middle;\n    }\n\n    .dataframe tbody tr th {\n        vertical-align: top;\n    }\n\n    .dataframe thead th {\n        text-align: right;\n    }\n</style>\n<table border=\"1\" class=\"dataframe\">\n  <thead>\n    <tr style=\"text-align: right;\">\n      <th></th>\n      <th>PROVINCIA</th>\n      <th>MUNICIPIO</th>\n      <th>ESTACION</th>\n      <th>PUNTO_MUESTREO</th>\n      <th>MAGNITUD</th>\n      <th>ANO</th>\n      <th>MES</th>\n      <th>DIA</th>\n      <th>VALOR</th>\n      <th>FECHA</th>\n    </tr>\n  </thead>\n  <tbody>\n    <tr>\n      <th>0</th>\n      <td>28</td>\n      <td>79</td>\n      <td>4</td>\n      <td>28079004_1_38</td>\n      <td>1</td>\n      <td>2016</td>\n      <td>1</td>\n      <td>1</td>\n      <td>8.0</td>\n      <td>2016-01-01</td>\n    </tr>\n    <tr>\n      <th>1</th>\n      <td>28</td>\n      <td>79</td>\n      <td>4</td>\n      <td>28079004_1_38</td>\n      <td>1</td>\n      <td>2016</td>\n      <td>2</td>\n      <td>1</td>\n      <td>12.0</td>\n      <td>2016-02-01</td>\n    </tr>\n    <tr>\n      <th>2</th>\n      <td>28</td>\n      <td>79</td>\n      <td>4</td>\n      <td>28079004_1_38</td>\n      <td>1</td>\n      <td>2016</td>\n      <td>3</td>\n      <td>1</td>\n      <td>11.0</td>\n      <td>2016-03-01</td>\n    </tr>\n    <tr>\n      <th>3</th>\n      <td>28</td>\n      <td>79</td>\n      <td>4</td>\n      <td>28079004_1_38</td>\n      <td>1</td>\n      <td>2016</td>\n      <td>4</td>\n      <td>1</td>\n      <td>8.0</td>\n      <td>2016-04-01</td>\n    </tr>\n    <tr>\n      <th>4</th>\n      <td>28</td>\n      <td>79</td>\n      <td>4</td>\n      <td>28079004_1_38</td>\n      <td>1</td>\n      <td>2016</td>\n      <td>5</td>\n      <td>1</td>\n      <td>7.0</td>\n      <td>2016-05-01</td>\n    </tr>\n    <tr>\n      <th>...</th>\n      <td>...</td>\n      <td>...</td>\n      <td>...</td>\n      <td>...</td>\n      <td>...</td>\n      <td>...</td>\n      <td>...</td>\n      <td>...</td>\n      <td>...</td>\n      <td>...</td>\n    </tr>\n    <tr>\n      <th>225241</th>\n      <td>28</td>\n      <td>79</td>\n      <td>60</td>\n      <td>28079060_14_6</td>\n      <td>14</td>\n      <td>2019</td>\n      <td>8</td>\n      <td>31</td>\n      <td>98.0</td>\n      <td>2019-08-31</td>\n    </tr>\n    <tr>\n      <th>225242</th>\n      <td>28</td>\n      <td>79</td>\n      <td>60</td>\n      <td>28079060_14_6</td>\n      <td>14</td>\n      <td>2019</td>\n      <td>9</td>\n      <td>31</td>\n      <td>0.0</td>\n      <td>NaT</td>\n    </tr>\n    <tr>\n      <th>225243</th>\n      <td>28</td>\n      <td>79</td>\n      <td>60</td>\n      <td>28079060_14_6</td>\n      <td>14</td>\n      <td>2019</td>\n      <td>10</td>\n      <td>31</td>\n      <td>47.0</td>\n      <td>2019-10-31</td>\n    </tr>\n    <tr>\n      <th>225244</th>\n      <td>28</td>\n      <td>79</td>\n      <td>60</td>\n      <td>28079060_14_6</td>\n      <td>14</td>\n      <td>2019</td>\n      <td>11</td>\n      <td>31</td>\n      <td>0.0</td>\n      <td>NaT</td>\n    </tr>\n    <tr>\n      <th>225245</th>\n      <td>28</td>\n      <td>79</td>\n      <td>60</td>\n      <td>28079060_14_6</td>\n      <td>14</td>\n      <td>2019</td>\n      <td>12</td>\n      <td>31</td>\n      <td>4.0</td>\n      <td>2019-12-31</td>\n    </tr>\n  </tbody>\n</table>\n<p>225246 rows × 10 columns</p>\n</div>"
     },
     "metadata": {},
     "execution_count": 6
    }
   ],
   "source": [
    "conversionDic = {'D01': 1, \"D02\": 2,\"D03\": 3,\"D04\": 4,\"D05\": 5,\"D06\": 6,\"D07\": 7,\"D08\": 8,\n",
    "                 \"D09\": 9,\"D10\": 10,\"D11\": 11,\"D12\": 12,\"D13\": 13,\"D14\": 14,\"D15\": 15,\"D16\": 16,\"D17\": 17,\"D18\": 18,\"D19\": 19,\"D20\": 20,\n",
    "                 \"D21\":21,\"D22\": 22,\"D23\": 23,\"D24\": 24,\"D25\": 25,\"D26\": 26,\"D27\": 27,\"D28\": 28,\"D29\": 29,\"D30\": 30,\"D31\": 31}\n",
    "\n",
    "\n",
    "dfDate = pd.DataFrame.copy(dfValuesPerDay)\n",
    "\n",
    "# replace() -> Itera por el DataFrame donde busca la Key y reemplaza por el valor.\n",
    "\n",
    "'''\n",
    "ALTERNATIVAS\n",
    "    A. dfDate = dfDate.replace(diccionario)\n",
    "    B. dfDate.replace(diccionario, inplace=True)\n",
    "'''\n",
    "dfDate.replace(conversionDic, inplace=True)\n",
    "\n",
    "# Explicar despues.\n",
    "fechas = pd.DataFrame([dfDate['ANO'], dfDate['MES'], dfDate['DIA']]).T\n",
    "fechas.rename(columns={'ANO':'year', 'MES':'month', 'DIA':'day'}, inplace=True)\n",
    "fechas = pd.to_datetime(fechas, format='%d-%m-%Y', errors='coerce')\n",
    "\n",
    "dfDate['FECHA'] = fechas\n",
    "dfDate"
   ]
  },
  {
   "source": [
    "5. Eliminar las filas con fechas no válidas (utilizar la función isnat del módulo numpy) y ordenar el DataFrame por estaciones, contaminantes y fecha."
   ],
   "cell_type": "markdown",
   "metadata": {}
  },
  {
   "cell_type": "code",
   "execution_count": 7,
   "metadata": {},
   "outputs": [
    {
     "output_type": "execute_result",
     "data": {
      "text/plain": [
       "        ESTACION  MAGNITUD      FECHA  PROVINCIA  MUNICIPIO PUNTO_MUESTREO  \\\n",
       "0              4         1 2016-01-01         28         79  28079004_1_38   \n",
       "1              4         1 2016-01-02         28         79  28079004_1_38   \n",
       "2              4         1 2016-01-03         28         79  28079004_1_38   \n",
       "3              4         1 2016-01-04         28         79  28079004_1_38   \n",
       "4              4         1 2016-01-05         28         79  28079004_1_38   \n",
       "...          ...       ...        ...        ...        ...            ...   \n",
       "221153        60        14 2019-12-27         28         79  28079060_14_6   \n",
       "221154        60        14 2019-12-28         28         79  28079060_14_6   \n",
       "221155        60        14 2019-12-29         28         79  28079060_14_6   \n",
       "221156        60        14 2019-12-30         28         79  28079060_14_6   \n",
       "221157        60        14 2019-12-31         28         79  28079060_14_6   \n",
       "\n",
       "        VALOR  \n",
       "0         8.0  \n",
       "1         7.0  \n",
       "2         6.0  \n",
       "3         6.0  \n",
       "4         7.0  \n",
       "...       ...  \n",
       "221153   17.0  \n",
       "221154   13.0  \n",
       "221155   14.0  \n",
       "221156    5.0  \n",
       "221157    4.0  \n",
       "\n",
       "[221158 rows x 7 columns]"
      ],
      "text/html": "<div>\n<style scoped>\n    .dataframe tbody tr th:only-of-type {\n        vertical-align: middle;\n    }\n\n    .dataframe tbody tr th {\n        vertical-align: top;\n    }\n\n    .dataframe thead th {\n        text-align: right;\n    }\n</style>\n<table border=\"1\" class=\"dataframe\">\n  <thead>\n    <tr style=\"text-align: right;\">\n      <th></th>\n      <th>ESTACION</th>\n      <th>MAGNITUD</th>\n      <th>FECHA</th>\n      <th>PROVINCIA</th>\n      <th>MUNICIPIO</th>\n      <th>PUNTO_MUESTREO</th>\n      <th>VALOR</th>\n    </tr>\n  </thead>\n  <tbody>\n    <tr>\n      <th>0</th>\n      <td>4</td>\n      <td>1</td>\n      <td>2016-01-01</td>\n      <td>28</td>\n      <td>79</td>\n      <td>28079004_1_38</td>\n      <td>8.0</td>\n    </tr>\n    <tr>\n      <th>1</th>\n      <td>4</td>\n      <td>1</td>\n      <td>2016-01-02</td>\n      <td>28</td>\n      <td>79</td>\n      <td>28079004_1_38</td>\n      <td>7.0</td>\n    </tr>\n    <tr>\n      <th>2</th>\n      <td>4</td>\n      <td>1</td>\n      <td>2016-01-03</td>\n      <td>28</td>\n      <td>79</td>\n      <td>28079004_1_38</td>\n      <td>6.0</td>\n    </tr>\n    <tr>\n      <th>3</th>\n      <td>4</td>\n      <td>1</td>\n      <td>2016-01-04</td>\n      <td>28</td>\n      <td>79</td>\n      <td>28079004_1_38</td>\n      <td>6.0</td>\n    </tr>\n    <tr>\n      <th>4</th>\n      <td>4</td>\n      <td>1</td>\n      <td>2016-01-05</td>\n      <td>28</td>\n      <td>79</td>\n      <td>28079004_1_38</td>\n      <td>7.0</td>\n    </tr>\n    <tr>\n      <th>...</th>\n      <td>...</td>\n      <td>...</td>\n      <td>...</td>\n      <td>...</td>\n      <td>...</td>\n      <td>...</td>\n      <td>...</td>\n    </tr>\n    <tr>\n      <th>221153</th>\n      <td>60</td>\n      <td>14</td>\n      <td>2019-12-27</td>\n      <td>28</td>\n      <td>79</td>\n      <td>28079060_14_6</td>\n      <td>17.0</td>\n    </tr>\n    <tr>\n      <th>221154</th>\n      <td>60</td>\n      <td>14</td>\n      <td>2019-12-28</td>\n      <td>28</td>\n      <td>79</td>\n      <td>28079060_14_6</td>\n      <td>13.0</td>\n    </tr>\n    <tr>\n      <th>221155</th>\n      <td>60</td>\n      <td>14</td>\n      <td>2019-12-29</td>\n      <td>28</td>\n      <td>79</td>\n      <td>28079060_14_6</td>\n      <td>14.0</td>\n    </tr>\n    <tr>\n      <th>221156</th>\n      <td>60</td>\n      <td>14</td>\n      <td>2019-12-30</td>\n      <td>28</td>\n      <td>79</td>\n      <td>28079060_14_6</td>\n      <td>5.0</td>\n    </tr>\n    <tr>\n      <th>221157</th>\n      <td>60</td>\n      <td>14</td>\n      <td>2019-12-31</td>\n      <td>28</td>\n      <td>79</td>\n      <td>28079060_14_6</td>\n      <td>4.0</td>\n    </tr>\n  </tbody>\n</table>\n<p>221158 rows × 7 columns</p>\n</div>"
     },
     "metadata": {},
     "execution_count": 7
    }
   ],
   "source": [
    "# dropna(): Itera en todo el DF y donde encuentra un NaN/NaT, elimina la fila. \n",
    "\n",
    "dfDate1 = dfDate.dropna()\n",
    "\n",
    "'''\n",
    "dfDate[dfDate.FECHA.notnull()]  -> Verificacion que hicimos para chequear coincidencia de filas.\n",
    "'''\n",
    "\n",
    "'''\n",
    "sort_values() -> Pasas las columnas en el orden que quiere ordenar.\n",
    "    ascending=True  ->  Menor a Mayor.\n",
    "'''\n",
    "dfDate1.sort_values([\"ESTACION\",\"MAGNITUD\",\"FECHA\",\"VALOR\"], ascending=True, inplace=True)\n",
    "\n",
    "# .loc[filas que quiero, columnas que quiero]\n",
    "# \":\" -> Me toma TODAS las filas\n",
    "dfDate1 = dfDate1.loc[:, [\"ESTACION\", \"MAGNITUD\", \"FECHA\", \"PROVINCIA\", \"MUNICIPIO\", \"PUNTO_MUESTREO\", \"VALOR\"]]\n",
    "\n",
    "'''\n",
    "reset_index(): Me reemplaza los indices viejos por nuevos ordenadas de menor a mayor.\n",
    "    drop=False: Por defecto esta en False, inserta una nueva columna con el indice viejo.\n",
    "'''\n",
    "dfDate1.reset_index(drop=True, inplace=True)\n",
    "dfDate1"
   ]
  },
  {
   "source": [
    "6. Mostrar por pantalla las estaciones y los contaminantes disponibles en el DF"
   ],
   "cell_type": "markdown",
   "metadata": {}
  },
  {
   "cell_type": "code",
   "execution_count": 8,
   "metadata": {
    "tags": []
   },
   "outputs": [
    {
     "output_type": "stream",
     "name": "stdout",
     "text": [
      "Estaciones disponibles: \n\t- Pza. de España\n\t- Escuelas aguirre\n\t- Av. Ramon y Cajal\n\t- Arturo Soria\n\t- Villaverde Alto\n\t- Calle Farolito\n\t- Casa de campo\n\t- Barajas\n\t- Plaza del Carmen\n\t- Morataz\n\t- Cuatro caminos\n\t- Barrio del pilar\n\t- Vallecas\n\t- Mendez Alvaro\n\t- P°. Castellana\n\t- Retiro\n\t- Pza. Castilla\n\t- Ensanche Vallecas\n\t- Urb. Embajada (Barajas)\n\t- Plaza Eliptica\n\t- Sanchincharro\n\t- El Pardo\n\t- Parque Juan Carlos 1°\n\t- Tres Olivos\nMagnitudes disponibles: \n\t- Dioxido de Azufre\n\t- Monoxido de Carbono\n\t- Monoxido de Nitrogeno\n\t- Dioxido de Nitrogeno\n\t- Oxidos de Nitrogeno\n\t- Particulas < 2.5 um\n\t- Particulas < 10 um\n\t- Ozono\n\t- Tolueno\n\t- Benceno\n\t- Etilbenceno\n\t- Hidrocarburos totales(hexano)\n\t- Metano\n\t- Hidrocarburos no metánicos (hexano)\n"
     ]
    }
   ],
   "source": [
    "\n",
    "listaNumerosEstaciones = [] #Para almacenar los códigos de las estaciones\n",
    "listaNombresEstaciones = [] #Para almacenar los nombres de las estaciones\n",
    "\n",
    "listaNumerosMagnitudes = [] #Para almacenar los códigos de los contaminantes\n",
    "listaNombresMagnitudes = [] #Para almacenar los nombres de los contaminantes\n",
    "\n",
    "estaciones = {1: \"P. Recoletos\", 2: \"Glta. de Carlos V\", 35: \"Plaza del Carmen\", 4: \"Pza. de España\", 39: \"Barrio del pilar\",\n",
    "6: \"Pza. Dr. Marañon\", 7: \"Pza. M. de Salamanca\", 8: \"Escuelas aguirre\", 9: \"Pza. Luca de Tena\", 38: \"Cuatro caminos\",\n",
    "11: \"Av. Ramon y Cajal\", 12: \"Pza. Manuel Becerra\", 40: \"Vallecas\", 14: \"Pza. Fdez. Ladreda\", 15: \"Pza. Castilla\", 16: \"Arturo Soria\",\n",
    "17: \"Villaverde Alto\", 18: \"Calle Farolito\", 19: \"Huerta Castañeda\", 36: \"Morataz\", 21: \"Pza. Cristo Rey\", 22: \"P°. Fontones\", 23: \"Final C/ Alcala\",\n",
    "24: \"Casa de campo\", 25: \"Santa Eugenia\", 26: \"Urb. Embajada (Barajas)\", 27: \"Barajas\", 47: \"Mendez Alvaro\", 48: \"P°. Castellana\",\n",
    "49: \"Retiro\", 50: \"Pza. Castilla\", 54: \"Ensanche Vallecas\", 55: \"Urb. Embajada (Barajas)\", 56: \"Plaza Eliptica\", 57: \"Sanchincharro\", \n",
    "58: \"El Pardo\", 59: \"Parque Juan Carlos 1°\", 60: \"Tres Olivos\"} #Diccionario de estaciones, cada una asignada a su código\n",
    "\n",
    "contaminantes = {1: \"Dioxido de Azufre\", 6: \"Monoxido de Carbono\", 7: \"Monoxido de Nitrogeno\", 8: \"Dioxido de Nitrogeno\", 9: \"Particulas < 2.5 um\",\n",
    "10: \"Particulas < 10 um\", 12: \"Oxidos de Nitrogeno\", 14: \"Ozono\", 20: \"Tolueno\", 30: \"Benceno\", 35: \"Etilbenceno\", 37: \"Metaxileno\", 38: \"Paraxileno\",\n",
    "39: \"Ortoxileno\", 42: \"Hidrocarburos totales(hexano)\", 43: \"Metano\", 44: \"Hidrocarburos no metánicos (hexano)\"} \n",
    "#Diccionario de contaminantes, cada una asignada a su código\n",
    "\n",
    "\n",
    "def mostrarEstaciones(estaciones):\n",
    "    print('Estaciones disponibles: ')\n",
    "    for estacion in estaciones:\n",
    "        print('\\t-', estacion)\n",
    "\n",
    "def mostrarMagnitudes(magnitudes):\n",
    "    print('Magnitudes disponibles: ')\n",
    "    for magnitud in magnitudes:\n",
    "        print('\\t-', magnitud)\n",
    "\n",
    "def obtenerListaDeNumeros(dataframe, columna, listaNumeros):\n",
    "    '''\n",
    "    La funcion \"obtenerListaDeNumeros\", segun el Dataframe y el N° de columna que le pasemos como parámetro, nos da TODOS los datos de esa columna\n",
    "    (va recorriendo fila a fila hasta el fin del Dataframe) almacenandolos en una lista que tambien le pasamos por parámetro. En este caso, nos sirven\n",
    "    las columnas 2 y 3 (la columna 2 es la de las estaciones y la 3 la de los contaminantes). (Nos almacena los códigos de las estaciones/contaminantes en una lista).\n",
    "    '''\n",
    "    for i in range(0, len(dataframe)):\n",
    "        listaNumeros.append(dataframe.iloc[i, columna])\n",
    "\n",
    "\n",
    "\n",
    "\n",
    "def obtenerListaDeNombres(listaNumeros, listaNombres, diccionario):\n",
    "    '''\n",
    "    A la funcion \"obtenerListaDeNombres\" le pasamos como parámetro la lista de códigos, una lista vacía donde almacenaremos los nombres \n",
    "    de las estaciones/contaminantes y el diccionario de estaciones/contaminantes (definidos arriba). \n",
    "    Lo que hace es ir agregando a la lista de nombres el nombre con el que matchee el contenido de la posicion \"i\" de la lista en el diccionario. \n",
    "    Por ejemplo, si i = 0, tenemos listaNombres.append(contaminantes[listaNumerosContaminantes[0]]), y en la posicion 0 de la lista de numeros\n",
    "    esta el código 1, vamos al diccionario contaminantes y buscamos qué nombre de contaminante está asociado al código 1, y lo agrega a la lista, y sigue recorriendo\n",
    "    la lista de numeros hasta que llegue al final de esta lista (no quedan más codigos por asignar).\n",
    "    '''\n",
    "    for i in range(0, len(listaNumeros)):\n",
    "        listaNombres.append(diccionario[listaNumeros[i]])\n",
    "\n",
    "\n",
    "\n",
    "def eliminarValoresRepetidos(lista):\n",
    "    '''\n",
    "    Por último, como en la lista de nombres nos van a quedar muchos nombres repetidos, los tenemos que eliminar. Entonces le pasamos a esta funcion\n",
    "    la lista de nombres como parámetro, y con ella se crea una nueva lista a partir de un diccionario que tendrá como KEYS a los nombres de esta lista. \n",
    "    La característica de los diccionarios es que no puede haber keys idénticas, por lo que aquellas que estén repetidas las elimina (y luego se crea una lista con \n",
    "    estas keys). Como resultado, nos printea la lista obtenida con los nombres de los estaciones/contaminantes que hay en el Dataframe sin repetir.\n",
    "    '''\n",
    "    return list(dict.fromkeys(lista))\n",
    "\n",
    "\n",
    "\n",
    "\n",
    "obtenerListaDeNumeros(dfPrincipal, 2, listaNumerosEstaciones)\n",
    "# Prueba para ver la lista de numeros luego de aplicar obtenerListaDeNumeros -> print(listaNumerosEstaciones)\n",
    "obtenerListaDeNombres(listaNumerosEstaciones, listaNombresEstaciones, estaciones)\n",
    "# Prueba para ver la lista de nombres (incluidos los repetidos) luego de aplicar obtenerListaDeNombres -> print(listaNombresEstaciones) \n",
    "listaEstacionesActualizada = eliminarValoresRepetidos(listaNombresEstaciones) # -> Ya nos devuelve el resultado final\n",
    "\n",
    "obtenerListaDeNumeros(dfPrincipal, 3, listaNumerosMagnitudes)\n",
    "# Prueba para ver la lista de numeros luego de aplicar obtenerListaDeNumeros -> print(listaNumerosEstaciones)\n",
    "obtenerListaDeNombres(listaNumerosMagnitudes, listaNombresMagnitudes, contaminantes)\n",
    "# Prueba para ver la lista de nombres (incluidos los repetidos) luego de aplicar obtenerListaDeNombres  -> print(listaNombresEstaciones)\n",
    "listaMagnitudesActualizada = eliminarValoresRepetidos(listaNombresMagnitudes) # -> Ya nos devuelve el resultado final\n",
    "\n",
    "\n",
    "mostrarEstaciones(listaEstacionesActualizada)\n",
    "mostrarMagnitudes(listaMagnitudesActualizada)"
   ]
  },
  {
   "source": [
    "7. Mostrar un resumen descriptivo (mímino, máximo, media, etc) para cada contaminante.\n"
   ],
   "cell_type": "markdown",
   "metadata": {}
  },
  {
   "cell_type": "code",
   "execution_count": 9,
   "metadata": {},
   "outputs": [
    {
     "output_type": "execute_result",
     "data": {
      "text/plain": [
       "            VALOR                                                            \n",
       "            count       mean         std   min    25%    50%    75%       max\n",
       "MAGNITUD                                                                     \n",
       "1         14610.0   7.428953    7.012504  0.00   4.00   7.00  10.00    610.00\n",
       "6         14610.0   0.350233    0.215935  0.00   0.20   0.30   0.40     14.90\n",
       "7         35064.0  20.446412  135.123509  0.00   4.00   9.00  23.00  24742.00\n",
       "8         35064.0  37.677618   20.118050  0.00  22.00  35.00  50.00    148.00\n",
       "9          8948.0  10.087729   10.643591  0.00   6.00   9.00  13.00    850.00\n",
       "10        17897.0  18.772923   35.723619  0.00  10.00  16.00  24.00   4481.00\n",
       "12        35064.0  67.959417   61.443940  0.00  29.00  48.00  84.00   1005.00\n",
       "14        20454.0  49.941772   24.753120  0.00  31.00  52.00  69.00    336.00\n",
       "20         8766.0   2.364944    4.236706  0.00   0.80   1.60   2.80    195.00\n",
       "30         8766.0   0.531371    0.538180  0.00   0.20   0.40   0.70     15.10\n",
       "35         8766.0   0.479751    1.183618  0.00   0.10   0.20   0.50     35.70\n",
       "42         4383.0   1.400897    0.251836 -0.01   1.25   1.38   1.54      3.09\n",
       "43         4383.0   1.292923    0.230898 -0.14   1.17   1.28   1.43      2.77\n",
       "44         4383.0   0.108941    0.068776  0.00   0.06   0.10   0.14      1.31"
      ],
      "text/html": "<div>\n<style scoped>\n    .dataframe tbody tr th:only-of-type {\n        vertical-align: middle;\n    }\n\n    .dataframe tbody tr th {\n        vertical-align: top;\n    }\n\n    .dataframe thead tr th {\n        text-align: left;\n    }\n\n    .dataframe thead tr:last-of-type th {\n        text-align: right;\n    }\n</style>\n<table border=\"1\" class=\"dataframe\">\n  <thead>\n    <tr>\n      <th></th>\n      <th colspan=\"8\" halign=\"left\">VALOR</th>\n    </tr>\n    <tr>\n      <th></th>\n      <th>count</th>\n      <th>mean</th>\n      <th>std</th>\n      <th>min</th>\n      <th>25%</th>\n      <th>50%</th>\n      <th>75%</th>\n      <th>max</th>\n    </tr>\n    <tr>\n      <th>MAGNITUD</th>\n      <th></th>\n      <th></th>\n      <th></th>\n      <th></th>\n      <th></th>\n      <th></th>\n      <th></th>\n      <th></th>\n    </tr>\n  </thead>\n  <tbody>\n    <tr>\n      <th>1</th>\n      <td>14610.0</td>\n      <td>7.428953</td>\n      <td>7.012504</td>\n      <td>0.00</td>\n      <td>4.00</td>\n      <td>7.00</td>\n      <td>10.00</td>\n      <td>610.00</td>\n    </tr>\n    <tr>\n      <th>6</th>\n      <td>14610.0</td>\n      <td>0.350233</td>\n      <td>0.215935</td>\n      <td>0.00</td>\n      <td>0.20</td>\n      <td>0.30</td>\n      <td>0.40</td>\n      <td>14.90</td>\n    </tr>\n    <tr>\n      <th>7</th>\n      <td>35064.0</td>\n      <td>20.446412</td>\n      <td>135.123509</td>\n      <td>0.00</td>\n      <td>4.00</td>\n      <td>9.00</td>\n      <td>23.00</td>\n      <td>24742.00</td>\n    </tr>\n    <tr>\n      <th>8</th>\n      <td>35064.0</td>\n      <td>37.677618</td>\n      <td>20.118050</td>\n      <td>0.00</td>\n      <td>22.00</td>\n      <td>35.00</td>\n      <td>50.00</td>\n      <td>148.00</td>\n    </tr>\n    <tr>\n      <th>9</th>\n      <td>8948.0</td>\n      <td>10.087729</td>\n      <td>10.643591</td>\n      <td>0.00</td>\n      <td>6.00</td>\n      <td>9.00</td>\n      <td>13.00</td>\n      <td>850.00</td>\n    </tr>\n    <tr>\n      <th>10</th>\n      <td>17897.0</td>\n      <td>18.772923</td>\n      <td>35.723619</td>\n      <td>0.00</td>\n      <td>10.00</td>\n      <td>16.00</td>\n      <td>24.00</td>\n      <td>4481.00</td>\n    </tr>\n    <tr>\n      <th>12</th>\n      <td>35064.0</td>\n      <td>67.959417</td>\n      <td>61.443940</td>\n      <td>0.00</td>\n      <td>29.00</td>\n      <td>48.00</td>\n      <td>84.00</td>\n      <td>1005.00</td>\n    </tr>\n    <tr>\n      <th>14</th>\n      <td>20454.0</td>\n      <td>49.941772</td>\n      <td>24.753120</td>\n      <td>0.00</td>\n      <td>31.00</td>\n      <td>52.00</td>\n      <td>69.00</td>\n      <td>336.00</td>\n    </tr>\n    <tr>\n      <th>20</th>\n      <td>8766.0</td>\n      <td>2.364944</td>\n      <td>4.236706</td>\n      <td>0.00</td>\n      <td>0.80</td>\n      <td>1.60</td>\n      <td>2.80</td>\n      <td>195.00</td>\n    </tr>\n    <tr>\n      <th>30</th>\n      <td>8766.0</td>\n      <td>0.531371</td>\n      <td>0.538180</td>\n      <td>0.00</td>\n      <td>0.20</td>\n      <td>0.40</td>\n      <td>0.70</td>\n      <td>15.10</td>\n    </tr>\n    <tr>\n      <th>35</th>\n      <td>8766.0</td>\n      <td>0.479751</td>\n      <td>1.183618</td>\n      <td>0.00</td>\n      <td>0.10</td>\n      <td>0.20</td>\n      <td>0.50</td>\n      <td>35.70</td>\n    </tr>\n    <tr>\n      <th>42</th>\n      <td>4383.0</td>\n      <td>1.400897</td>\n      <td>0.251836</td>\n      <td>-0.01</td>\n      <td>1.25</td>\n      <td>1.38</td>\n      <td>1.54</td>\n      <td>3.09</td>\n    </tr>\n    <tr>\n      <th>43</th>\n      <td>4383.0</td>\n      <td>1.292923</td>\n      <td>0.230898</td>\n      <td>-0.14</td>\n      <td>1.17</td>\n      <td>1.28</td>\n      <td>1.43</td>\n      <td>2.77</td>\n    </tr>\n    <tr>\n      <th>44</th>\n      <td>4383.0</td>\n      <td>0.108941</td>\n      <td>0.068776</td>\n      <td>0.00</td>\n      <td>0.06</td>\n      <td>0.10</td>\n      <td>0.14</td>\n      <td>1.31</td>\n    </tr>\n  </tbody>\n</table>\n</div>"
     },
     "metadata": {},
     "execution_count": 9
    }
   ],
   "source": [
    "# .loc[filas que quiero, columnas que quiero]\n",
    "# \":\" -> Me toma TODAS las filas\n",
    "dDescripcion = dfDate1.loc[:, [\"MAGNITUD\",\"VALOR\"]]\n",
    "\n",
    "# groupby(): Agrupa valores que coinciden. Devuelve  un objeto, si o si tenes que pasarle alguna funcion.\n",
    "dDescripcion.groupby(\"MAGNITUD\").describe()\n"
   ]
  },
  {
   "source": [
    "8. Mostrar un resumen descriptivo para cada contaminente por distritos."
   ],
   "cell_type": "markdown",
   "metadata": {}
  },
  {
   "cell_type": "code",
   "execution_count": 10,
   "metadata": {},
   "outputs": [
    {
     "output_type": "execute_result",
     "data": {
      "text/plain": [
       "                    VALOR                                                \\\n",
       "                    count      mean        std   min   25%   50%    75%   \n",
       "MAGNITUD ESTACION                                                         \n",
       "1        4         1461.0  7.329911  16.379050  1.00  4.00  7.00   9.00   \n",
       "         8         1461.0  8.375770   4.364607  0.00  5.00  8.00  11.00   \n",
       "         17        1461.0  8.137577   7.523450  1.00  4.00  8.00  11.00   \n",
       "         18        1461.0  6.655715   3.995702  0.00  4.00  6.00   9.00   \n",
       "         24        1461.0  3.619439   1.479635  0.00  3.00  4.00   4.00   \n",
       "...                   ...       ...        ...   ...   ...   ...    ...   \n",
       "43       24        1461.0  1.169514   0.139236 -0.08  1.14  1.18   1.22   \n",
       "         55        1461.0  1.246242   0.207635 -0.14  1.14  1.27   1.36   \n",
       "44       8         1461.0  0.115688   0.072236  0.00  0.07  0.11   0.14   \n",
       "         24        1461.0  0.070520   0.034688  0.00  0.05  0.06   0.09   \n",
       "         55        1461.0  0.140616   0.072450  0.00  0.09  0.13   0.17   \n",
       "\n",
       "                           \n",
       "                      max  \n",
       "MAGNITUD ESTACION          \n",
       "1        4         610.00  \n",
       "         8          24.00  \n",
       "         17        234.00  \n",
       "         18         20.00  \n",
       "         24         33.00  \n",
       "...                   ...  \n",
       "43       24          1.97  \n",
       "         55          1.78  \n",
       "44       8           1.31  \n",
       "         24          0.44  \n",
       "         55          0.75  \n",
       "\n",
       "[153 rows x 8 columns]"
      ],
      "text/html": "<div>\n<style scoped>\n    .dataframe tbody tr th:only-of-type {\n        vertical-align: middle;\n    }\n\n    .dataframe tbody tr th {\n        vertical-align: top;\n    }\n\n    .dataframe thead tr th {\n        text-align: left;\n    }\n\n    .dataframe thead tr:last-of-type th {\n        text-align: right;\n    }\n</style>\n<table border=\"1\" class=\"dataframe\">\n  <thead>\n    <tr>\n      <th></th>\n      <th></th>\n      <th colspan=\"8\" halign=\"left\">VALOR</th>\n    </tr>\n    <tr>\n      <th></th>\n      <th></th>\n      <th>count</th>\n      <th>mean</th>\n      <th>std</th>\n      <th>min</th>\n      <th>25%</th>\n      <th>50%</th>\n      <th>75%</th>\n      <th>max</th>\n    </tr>\n    <tr>\n      <th>MAGNITUD</th>\n      <th>ESTACION</th>\n      <th></th>\n      <th></th>\n      <th></th>\n      <th></th>\n      <th></th>\n      <th></th>\n      <th></th>\n      <th></th>\n    </tr>\n  </thead>\n  <tbody>\n    <tr>\n      <th rowspan=\"5\" valign=\"top\">1</th>\n      <th>4</th>\n      <td>1461.0</td>\n      <td>7.329911</td>\n      <td>16.379050</td>\n      <td>1.00</td>\n      <td>4.00</td>\n      <td>7.00</td>\n      <td>9.00</td>\n      <td>610.00</td>\n    </tr>\n    <tr>\n      <th>8</th>\n      <td>1461.0</td>\n      <td>8.375770</td>\n      <td>4.364607</td>\n      <td>0.00</td>\n      <td>5.00</td>\n      <td>8.00</td>\n      <td>11.00</td>\n      <td>24.00</td>\n    </tr>\n    <tr>\n      <th>17</th>\n      <td>1461.0</td>\n      <td>8.137577</td>\n      <td>7.523450</td>\n      <td>1.00</td>\n      <td>4.00</td>\n      <td>8.00</td>\n      <td>11.00</td>\n      <td>234.00</td>\n    </tr>\n    <tr>\n      <th>18</th>\n      <td>1461.0</td>\n      <td>6.655715</td>\n      <td>3.995702</td>\n      <td>0.00</td>\n      <td>4.00</td>\n      <td>6.00</td>\n      <td>9.00</td>\n      <td>20.00</td>\n    </tr>\n    <tr>\n      <th>24</th>\n      <td>1461.0</td>\n      <td>3.619439</td>\n      <td>1.479635</td>\n      <td>0.00</td>\n      <td>3.00</td>\n      <td>4.00</td>\n      <td>4.00</td>\n      <td>33.00</td>\n    </tr>\n    <tr>\n      <th>...</th>\n      <th>...</th>\n      <td>...</td>\n      <td>...</td>\n      <td>...</td>\n      <td>...</td>\n      <td>...</td>\n      <td>...</td>\n      <td>...</td>\n      <td>...</td>\n    </tr>\n    <tr>\n      <th rowspan=\"2\" valign=\"top\">43</th>\n      <th>24</th>\n      <td>1461.0</td>\n      <td>1.169514</td>\n      <td>0.139236</td>\n      <td>-0.08</td>\n      <td>1.14</td>\n      <td>1.18</td>\n      <td>1.22</td>\n      <td>1.97</td>\n    </tr>\n    <tr>\n      <th>55</th>\n      <td>1461.0</td>\n      <td>1.246242</td>\n      <td>0.207635</td>\n      <td>-0.14</td>\n      <td>1.14</td>\n      <td>1.27</td>\n      <td>1.36</td>\n      <td>1.78</td>\n    </tr>\n    <tr>\n      <th rowspan=\"3\" valign=\"top\">44</th>\n      <th>8</th>\n      <td>1461.0</td>\n      <td>0.115688</td>\n      <td>0.072236</td>\n      <td>0.00</td>\n      <td>0.07</td>\n      <td>0.11</td>\n      <td>0.14</td>\n      <td>1.31</td>\n    </tr>\n    <tr>\n      <th>24</th>\n      <td>1461.0</td>\n      <td>0.070520</td>\n      <td>0.034688</td>\n      <td>0.00</td>\n      <td>0.05</td>\n      <td>0.06</td>\n      <td>0.09</td>\n      <td>0.44</td>\n    </tr>\n    <tr>\n      <th>55</th>\n      <td>1461.0</td>\n      <td>0.140616</td>\n      <td>0.072450</td>\n      <td>0.00</td>\n      <td>0.09</td>\n      <td>0.13</td>\n      <td>0.17</td>\n      <td>0.75</td>\n    </tr>\n  </tbody>\n</table>\n<p>153 rows × 8 columns</p>\n</div>"
     },
     "metadata": {},
     "execution_count": 10
    }
   ],
   "source": [
    "dDescripcion = dfDate1.loc[:, [\"MAGNITUD\",\"VALOR\",\"ESTACION\"]]\n",
    "\n",
    "dDescripcion.groupby([\"MAGNITUD\", \"ESTACION\"]).describe()"
   ]
  },
  {
   "source": [
    "9 . Crear una función que devuelva las emisiones medias mensuales de un contaminante y año dados para todas las estaciones."
   ],
   "cell_type": "markdown",
   "metadata": {}
  },
  {
   "cell_type": "code",
   "execution_count": 11,
   "metadata": {},
   "outputs": [
    {
     "output_type": "execute_result",
     "data": {
      "text/plain": [
       "                                VALOR\n",
       "MAGNITUD ESTACION ANO  MES           \n",
       "1        4        2017 1     7.774194\n",
       "                       2     5.419355\n",
       "                       3     5.580645\n",
       "                       4     4.516129\n",
       "                       5     4.580645\n",
       "...                               ...\n",
       "         57       2017 8     6.903226\n",
       "                       9     8.612903\n",
       "                       10    9.096774\n",
       "                       11   13.000000\n",
       "                       12    9.032258\n",
       "\n",
       "[120 rows x 1 columns]"
      ],
      "text/html": "<div>\n<style scoped>\n    .dataframe tbody tr th:only-of-type {\n        vertical-align: middle;\n    }\n\n    .dataframe tbody tr th {\n        vertical-align: top;\n    }\n\n    .dataframe thead th {\n        text-align: right;\n    }\n</style>\n<table border=\"1\" class=\"dataframe\">\n  <thead>\n    <tr style=\"text-align: right;\">\n      <th></th>\n      <th></th>\n      <th></th>\n      <th></th>\n      <th>VALOR</th>\n    </tr>\n    <tr>\n      <th>MAGNITUD</th>\n      <th>ESTACION</th>\n      <th>ANO</th>\n      <th>MES</th>\n      <th></th>\n    </tr>\n  </thead>\n  <tbody>\n    <tr>\n      <th rowspan=\"11\" valign=\"top\">1</th>\n      <th rowspan=\"5\" valign=\"top\">4</th>\n      <th rowspan=\"5\" valign=\"top\">2017</th>\n      <th>1</th>\n      <td>7.774194</td>\n    </tr>\n    <tr>\n      <th>2</th>\n      <td>5.419355</td>\n    </tr>\n    <tr>\n      <th>3</th>\n      <td>5.580645</td>\n    </tr>\n    <tr>\n      <th>4</th>\n      <td>4.516129</td>\n    </tr>\n    <tr>\n      <th>5</th>\n      <td>4.580645</td>\n    </tr>\n    <tr>\n      <th>...</th>\n      <th>...</th>\n      <th>...</th>\n      <td>...</td>\n    </tr>\n    <tr>\n      <th rowspan=\"5\" valign=\"top\">57</th>\n      <th rowspan=\"5\" valign=\"top\">2017</th>\n      <th>8</th>\n      <td>6.903226</td>\n    </tr>\n    <tr>\n      <th>9</th>\n      <td>8.612903</td>\n    </tr>\n    <tr>\n      <th>10</th>\n      <td>9.096774</td>\n    </tr>\n    <tr>\n      <th>11</th>\n      <td>13.000000</td>\n    </tr>\n    <tr>\n      <th>12</th>\n      <td>9.032258</td>\n    </tr>\n  </tbody>\n</table>\n<p>120 rows × 1 columns</p>\n</div>"
     },
     "metadata": {},
     "execution_count": 11
    }
   ],
   "source": [
    "dfMedia = dfValuesPerDay.loc[:, [\"MAGNITUD\",\"ESTACION\",\"MES\",\"ANO\",\"VALOR\"]] # # .loc[filas que quiero, columnas que quiero]\n",
    "                                                                              # \":\" -> Me toma TODAS las filas\n",
    "def mediaMensual(): # Definimos la función que nos da la media mensual\n",
    "    \n",
    "    contaminante = int(input(\"Ingrese numero contaminante: \")) # Ingresamos por consola el número de Magnitud.\n",
    "    año = int(input(\"Ingrese año entre 2016 y 2019: \")) # Ingresamos por consola el número de año\n",
    "\n",
    "\n",
    "    return dfMedia[(dfMedia[\"MAGNITUD\"] == contaminante) & (dfMedia[\"ANO\"] == año)].groupby([\"MAGNITUD\",\"ESTACION\",\"ANO\",\"MES\"]).agg({\"VALOR\":\"mean\"}) \n",
    "    \n",
    "    # Hacemos un filtro con una condición mediante los datos ingresados por consola(contaminante y año)\n",
    "\n",
    "    # Agrupamos valores que coinciden con .groupby(Las columnas que quiero agrupar)\n",
    "     \n",
    "    # Utilizando la funcion .agg(Nos permite con la sintaxis del Diccionario {El codigo seria el nombre de la columna elegida , en este caso \"VALOR\" : y en donde establecemos los valores elegimos la funcion que queremos aplicar a dicha columna , como queremos sacar la media utilizamos la funcion \"mean\") aplicar la función elegida a todos los valores de esa columna.}\n",
    "\n",
    "mediaMensual() # Llamamos a la funcion que nos pide ingresar los datos por consola (contaminante y año)"
   ]
  },
  {
   "source": [
    "10. Crear una función que reciba un mes y una estación de medición y devuelva un diccionario con las medias de las magnitudes medidas por la estación durante ese mes."
   ],
   "cell_type": "markdown",
   "metadata": {}
  },
  {
   "cell_type": "code",
   "execution_count": 12,
   "metadata": {},
   "outputs": [
    {
     "output_type": "execute_result",
     "data": {
      "text/plain": [
       "{}"
      ]
     },
     "metadata": {},
     "execution_count": 12
    }
   ],
   "source": [
    "dfDiccionario = dfValuesPerDay.loc[:, [\"MAGNITUD\",\"ESTACION\",\"MES\",\"VALOR\"]] \n",
    "#este Dataframe filtra el Dataframe dfValuesPerDay con las columnas que necesitamos\n",
    "\n",
    "magnitudes = []\n",
    "medias = []\n",
    "#Listas con las que armaremos nuestro diccionario\n",
    "\n",
    "diccionarioMediaPorMagnitud = {}\n",
    "#Diccionario que con la funcion de abajo llenaremos\n",
    "\n",
    "#Buscamos un diccionario que nos de la media mensual de c/u de las magnitudes medidas durante ese mes en esa estacion\n",
    "#Ejemplo de lo que buscamos:\n",
    "\n",
    "#dic = {\"Tolueno\" : 2.0 , \"Estano\" : 2.3} #Ejemplo: en el mes 1 en la estacion \"x\" se calculo la media de estas magnitudes\n",
    "\n",
    "def funcion():\n",
    "\n",
    "    mes = int(input(\"Ingrese numero mes: \")) # Ingresamos por consola el número del mes.\n",
    "    estacion = int(input(\"Ingrese numero de estacion: \")) # Ingresamos por consola el número de la estacion\n",
    "\n",
    "    dfValores = dfDiccionario[(dfDiccionario[\"ESTACION\"] == estacion) & (dfDiccionario[\"MES\"] == mes)].groupby([\"MAGNITUD\",\"ESTACION\",\"MES\"]).agg({\"VALOR\":\"mean\"})\n",
    "    #dfValores nos da un Dataframe en el cual en la última columna \"VALOR\" nos da los valores de las medias\n",
    "    dfMagnitudes = dfDiccionario[(dfDiccionario[\"ESTACION\"] == estacion) & (dfDiccionario[\"MES\"] == mes)].groupby([\"MAGNITUD\",\"ESTACION\",\"MES\"]).agg({\"MAGNITUD\":\"max\"})\n",
    "    #dfMagnitudes nos da un Dataframe en el cual en la última columna \"MAGNITUDES\" nos da los valores de las magnitudes\n",
    "\n",
    "\n",
    "    for i in range(0, len(dfMagnitudes)):\n",
    "        magnitudes.append(dfMagnitudes.iloc[i,0])\n",
    "    # Llenamos \"magnitudes\" con los valores de la columna 0 del dataframe dfMagnitudes (en realidad las magnitudes estan en la\n",
    "    # columna 4, pero lo toma de esta manera)\n",
    "\n",
    "    for i in range(0, len(dfValores)):\n",
    "       medias.append(dfValores.iloc[i, 0]) \n",
    "    # Llenamos \"medias\" con los valores de la columna 0 del dataframe dfMedias (en realidad las magnitudes estan en la\n",
    "    # columna 4, pero lo toma de esta manera)\n",
    "    \n",
    "    for i in range(0, len(medias)):\n",
    "        diccionarioMediaPorMagnitud[magnitudes[i]] = medias[i]\n",
    "    # Llenamos el diccionario poniendo como keys a la lista de magnitudes y como values a la lista de medias\n",
    "    # En el for usamos len(medias) pero bien podria usarse len(magnitudes) ya que su cantidad de elementos siempre coincide\n",
    "    \n",
    "    return diccionarioMediaPorMagnitud #Retornamos el diccionario que nos pide la consigna\n",
    "\n",
    "funcion()\n"
   ]
  },
  {
   "source": [
    "11. Crear una función que reciba un rango de fechas y una magnitud y genere un gráfico con la evolución diaria de la magnitud para cada estación de medición en las fechas indicadas."
   ],
   "cell_type": "markdown",
   "metadata": {}
  },
  {
   "cell_type": "code",
   "execution_count": 13,
   "metadata": {},
   "outputs": [
    {
     "output_type": "display_data",
     "data": {
      "text/plain": "<Figure size 432x288 with 1 Axes>",
      "image/svg+xml": "<?xml version=\"1.0\" encoding=\"utf-8\" standalone=\"no\"?>\r\n<!DOCTYPE svg PUBLIC \"-//W3C//DTD SVG 1.1//EN\"\r\n  \"http://www.w3.org/Graphics/SVG/1.1/DTD/svg11.dtd\">\r\n<!-- Created with matplotlib (https://matplotlib.org/) -->\r\n<svg height=\"268.35744pt\" version=\"1.1\" viewBox=\"0 0 389.150488 268.35744\" width=\"389.150488pt\" xmlns=\"http://www.w3.org/2000/svg\" xmlns:xlink=\"http://www.w3.org/1999/xlink\">\r\n <metadata>\r\n  <rdf:RDF xmlns:cc=\"http://creativecommons.org/ns#\" xmlns:dc=\"http://purl.org/dc/elements/1.1/\" xmlns:rdf=\"http://www.w3.org/1999/02/22-rdf-syntax-ns#\">\r\n   <cc:Work>\r\n    <dc:type rdf:resource=\"http://purl.org/dc/dcmitype/StillImage\"/>\r\n    <dc:date>2020-11-29T18:07:52.671740</dc:date>\r\n    <dc:format>image/svg+xml</dc:format>\r\n    <dc:creator>\r\n     <cc:Agent>\r\n      <dc:title>Matplotlib v3.3.3, https://matplotlib.org/</dc:title>\r\n     </cc:Agent>\r\n    </dc:creator>\r\n   </cc:Work>\r\n  </rdf:RDF>\r\n </metadata>\r\n <defs>\r\n  <style type=\"text/css\">*{stroke-linecap:butt;stroke-linejoin:round;}</style>\r\n </defs>\r\n <g id=\"figure_1\">\r\n  <g id=\"patch_1\">\r\n   <path d=\"M 0 268.35744 \r\nL 389.150488 268.35744 \r\nL 389.150488 0 \r\nL 0 0 \r\nz\r\n\" style=\"fill:none;\"/>\r\n  </g>\r\n  <g id=\"axes_1\">\r\n   <g id=\"patch_2\">\r\n    <path d=\"M 47.150488 203.04 \r\nL 381.950488 203.04 \r\nL 381.950488 7.2 \r\nL 47.150488 7.2 \r\nz\r\n\" style=\"fill:#ffffff;\"/>\r\n   </g>\r\n   <g id=\"matplotlib.axis_1\">\r\n    <g id=\"xtick_1\">\r\n     <g id=\"line2d_1\">\r\n      <defs>\r\n       <path d=\"M 0 0 \r\nL 0 3.5 \r\n\" id=\"m95fc741852\" style=\"stroke:#000000;stroke-width:0.8;\"/>\r\n      </defs>\r\n      <g>\r\n       <use style=\"stroke:#000000;stroke-width:0.8;\" x=\"62.36867\" xlink:href=\"#m95fc741852\" y=\"203.04\"/>\r\n      </g>\r\n     </g>\r\n     <g id=\"text_1\">\r\n      <!-- 2017-03-01 -->\r\n      <g transform=\"translate(10.999219 245.678252)rotate(-30)scale(0.1 -0.1)\">\r\n       <defs>\r\n        <path d=\"M 19.1875 8.296875 \r\nL 53.609375 8.296875 \r\nL 53.609375 0 \r\nL 7.328125 0 \r\nL 7.328125 8.296875 \r\nQ 12.9375 14.109375 22.625 23.890625 \r\nQ 32.328125 33.6875 34.8125 36.53125 \r\nQ 39.546875 41.84375 41.421875 45.53125 \r\nQ 43.3125 49.21875 43.3125 52.78125 \r\nQ 43.3125 58.59375 39.234375 62.25 \r\nQ 35.15625 65.921875 28.609375 65.921875 \r\nQ 23.96875 65.921875 18.8125 64.3125 \r\nQ 13.671875 62.703125 7.8125 59.421875 \r\nL 7.8125 69.390625 \r\nQ 13.765625 71.78125 18.9375 73 \r\nQ 24.125 74.21875 28.421875 74.21875 \r\nQ 39.75 74.21875 46.484375 68.546875 \r\nQ 53.21875 62.890625 53.21875 53.421875 \r\nQ 53.21875 48.921875 51.53125 44.890625 \r\nQ 49.859375 40.875 45.40625 35.40625 \r\nQ 44.1875 33.984375 37.640625 27.21875 \r\nQ 31.109375 20.453125 19.1875 8.296875 \r\nz\r\n\" id=\"DejaVuSans-50\"/>\r\n        <path d=\"M 31.78125 66.40625 \r\nQ 24.171875 66.40625 20.328125 58.90625 \r\nQ 16.5 51.421875 16.5 36.375 \r\nQ 16.5 21.390625 20.328125 13.890625 \r\nQ 24.171875 6.390625 31.78125 6.390625 \r\nQ 39.453125 6.390625 43.28125 13.890625 \r\nQ 47.125 21.390625 47.125 36.375 \r\nQ 47.125 51.421875 43.28125 58.90625 \r\nQ 39.453125 66.40625 31.78125 66.40625 \r\nz\r\nM 31.78125 74.21875 \r\nQ 44.046875 74.21875 50.515625 64.515625 \r\nQ 56.984375 54.828125 56.984375 36.375 \r\nQ 56.984375 17.96875 50.515625 8.265625 \r\nQ 44.046875 -1.421875 31.78125 -1.421875 \r\nQ 19.53125 -1.421875 13.0625 8.265625 \r\nQ 6.59375 17.96875 6.59375 36.375 \r\nQ 6.59375 54.828125 13.0625 64.515625 \r\nQ 19.53125 74.21875 31.78125 74.21875 \r\nz\r\n\" id=\"DejaVuSans-48\"/>\r\n        <path d=\"M 12.40625 8.296875 \r\nL 28.515625 8.296875 \r\nL 28.515625 63.921875 \r\nL 10.984375 60.40625 \r\nL 10.984375 69.390625 \r\nL 28.421875 72.90625 \r\nL 38.28125 72.90625 \r\nL 38.28125 8.296875 \r\nL 54.390625 8.296875 \r\nL 54.390625 0 \r\nL 12.40625 0 \r\nz\r\n\" id=\"DejaVuSans-49\"/>\r\n        <path d=\"M 8.203125 72.90625 \r\nL 55.078125 72.90625 \r\nL 55.078125 68.703125 \r\nL 28.609375 0 \r\nL 18.3125 0 \r\nL 43.21875 64.59375 \r\nL 8.203125 64.59375 \r\nz\r\n\" id=\"DejaVuSans-55\"/>\r\n        <path d=\"M 4.890625 31.390625 \r\nL 31.203125 31.390625 \r\nL 31.203125 23.390625 \r\nL 4.890625 23.390625 \r\nz\r\n\" id=\"DejaVuSans-45\"/>\r\n        <path d=\"M 40.578125 39.3125 \r\nQ 47.65625 37.796875 51.625 33 \r\nQ 55.609375 28.21875 55.609375 21.1875 \r\nQ 55.609375 10.40625 48.1875 4.484375 \r\nQ 40.765625 -1.421875 27.09375 -1.421875 \r\nQ 22.515625 -1.421875 17.65625 -0.515625 \r\nQ 12.796875 0.390625 7.625 2.203125 \r\nL 7.625 11.71875 \r\nQ 11.71875 9.328125 16.59375 8.109375 \r\nQ 21.484375 6.890625 26.8125 6.890625 \r\nQ 36.078125 6.890625 40.9375 10.546875 \r\nQ 45.796875 14.203125 45.796875 21.1875 \r\nQ 45.796875 27.640625 41.28125 31.265625 \r\nQ 36.765625 34.90625 28.71875 34.90625 \r\nL 20.21875 34.90625 \r\nL 20.21875 43.015625 \r\nL 29.109375 43.015625 \r\nQ 36.375 43.015625 40.234375 45.921875 \r\nQ 44.09375 48.828125 44.09375 54.296875 \r\nQ 44.09375 59.90625 40.109375 62.90625 \r\nQ 36.140625 65.921875 28.71875 65.921875 \r\nQ 24.65625 65.921875 20.015625 65.03125 \r\nQ 15.375 64.15625 9.8125 62.3125 \r\nL 9.8125 71.09375 \r\nQ 15.4375 72.65625 20.34375 73.4375 \r\nQ 25.25 74.21875 29.59375 74.21875 \r\nQ 40.828125 74.21875 47.359375 69.109375 \r\nQ 53.90625 64.015625 53.90625 55.328125 \r\nQ 53.90625 49.265625 50.4375 45.09375 \r\nQ 46.96875 40.921875 40.578125 39.3125 \r\nz\r\n\" id=\"DejaVuSans-51\"/>\r\n       </defs>\r\n       <use xlink:href=\"#DejaVuSans-50\"/>\r\n       <use x=\"63.623047\" xlink:href=\"#DejaVuSans-48\"/>\r\n       <use x=\"127.246094\" xlink:href=\"#DejaVuSans-49\"/>\r\n       <use x=\"190.869141\" xlink:href=\"#DejaVuSans-55\"/>\r\n       <use x=\"254.492188\" xlink:href=\"#DejaVuSans-45\"/>\r\n       <use x=\"290.576172\" xlink:href=\"#DejaVuSans-48\"/>\r\n       <use x=\"354.199219\" xlink:href=\"#DejaVuSans-51\"/>\r\n       <use x=\"417.822266\" xlink:href=\"#DejaVuSans-45\"/>\r\n       <use x=\"453.90625\" xlink:href=\"#DejaVuSans-48\"/>\r\n       <use x=\"517.529297\" xlink:href=\"#DejaVuSans-49\"/>\r\n      </g>\r\n     </g>\r\n    </g>\r\n    <g id=\"xtick_2\">\r\n     <g id=\"line2d_2\">\r\n      <g>\r\n       <use style=\"stroke:#000000;stroke-width:0.8;\" x=\"101.641397\" xlink:href=\"#m95fc741852\" y=\"203.04\"/>\r\n      </g>\r\n     </g>\r\n     <g id=\"text_2\">\r\n      <!-- 2017-03-05 -->\r\n      <g transform=\"translate(50.271946 245.678252)rotate(-30)scale(0.1 -0.1)\">\r\n       <defs>\r\n        <path d=\"M 10.796875 72.90625 \r\nL 49.515625 72.90625 \r\nL 49.515625 64.59375 \r\nL 19.828125 64.59375 \r\nL 19.828125 46.734375 \r\nQ 21.96875 47.46875 24.109375 47.828125 \r\nQ 26.265625 48.1875 28.421875 48.1875 \r\nQ 40.625 48.1875 47.75 41.5 \r\nQ 54.890625 34.8125 54.890625 23.390625 \r\nQ 54.890625 11.625 47.5625 5.09375 \r\nQ 40.234375 -1.421875 26.90625 -1.421875 \r\nQ 22.3125 -1.421875 17.546875 -0.640625 \r\nQ 12.796875 0.140625 7.71875 1.703125 \r\nL 7.71875 11.625 \r\nQ 12.109375 9.234375 16.796875 8.0625 \r\nQ 21.484375 6.890625 26.703125 6.890625 \r\nQ 35.15625 6.890625 40.078125 11.328125 \r\nQ 45.015625 15.765625 45.015625 23.390625 \r\nQ 45.015625 31 40.078125 35.4375 \r\nQ 35.15625 39.890625 26.703125 39.890625 \r\nQ 22.75 39.890625 18.8125 39.015625 \r\nQ 14.890625 38.140625 10.796875 36.28125 \r\nz\r\n\" id=\"DejaVuSans-53\"/>\r\n       </defs>\r\n       <use xlink:href=\"#DejaVuSans-50\"/>\r\n       <use x=\"63.623047\" xlink:href=\"#DejaVuSans-48\"/>\r\n       <use x=\"127.246094\" xlink:href=\"#DejaVuSans-49\"/>\r\n       <use x=\"190.869141\" xlink:href=\"#DejaVuSans-55\"/>\r\n       <use x=\"254.492188\" xlink:href=\"#DejaVuSans-45\"/>\r\n       <use x=\"290.576172\" xlink:href=\"#DejaVuSans-48\"/>\r\n       <use x=\"354.199219\" xlink:href=\"#DejaVuSans-51\"/>\r\n       <use x=\"417.822266\" xlink:href=\"#DejaVuSans-45\"/>\r\n       <use x=\"453.90625\" xlink:href=\"#DejaVuSans-48\"/>\r\n       <use x=\"517.529297\" xlink:href=\"#DejaVuSans-53\"/>\r\n      </g>\r\n     </g>\r\n    </g>\r\n    <g id=\"xtick_3\">\r\n     <g id=\"line2d_3\">\r\n      <g>\r\n       <use style=\"stroke:#000000;stroke-width:0.8;\" x=\"140.914125\" xlink:href=\"#m95fc741852\" y=\"203.04\"/>\r\n      </g>\r\n     </g>\r\n     <g id=\"text_3\">\r\n      <!-- 2017-03-09 -->\r\n      <g transform=\"translate(89.544673 245.678252)rotate(-30)scale(0.1 -0.1)\">\r\n       <defs>\r\n        <path d=\"M 10.984375 1.515625 \r\nL 10.984375 10.5 \r\nQ 14.703125 8.734375 18.5 7.8125 \r\nQ 22.3125 6.890625 25.984375 6.890625 \r\nQ 35.75 6.890625 40.890625 13.453125 \r\nQ 46.046875 20.015625 46.78125 33.40625 \r\nQ 43.953125 29.203125 39.59375 26.953125 \r\nQ 35.25 24.703125 29.984375 24.703125 \r\nQ 19.046875 24.703125 12.671875 31.3125 \r\nQ 6.296875 37.9375 6.296875 49.421875 \r\nQ 6.296875 60.640625 12.9375 67.421875 \r\nQ 19.578125 74.21875 30.609375 74.21875 \r\nQ 43.265625 74.21875 49.921875 64.515625 \r\nQ 56.59375 54.828125 56.59375 36.375 \r\nQ 56.59375 19.140625 48.40625 8.859375 \r\nQ 40.234375 -1.421875 26.421875 -1.421875 \r\nQ 22.703125 -1.421875 18.890625 -0.6875 \r\nQ 15.09375 0.046875 10.984375 1.515625 \r\nz\r\nM 30.609375 32.421875 \r\nQ 37.25 32.421875 41.125 36.953125 \r\nQ 45.015625 41.5 45.015625 49.421875 \r\nQ 45.015625 57.28125 41.125 61.84375 \r\nQ 37.25 66.40625 30.609375 66.40625 \r\nQ 23.96875 66.40625 20.09375 61.84375 \r\nQ 16.21875 57.28125 16.21875 49.421875 \r\nQ 16.21875 41.5 20.09375 36.953125 \r\nQ 23.96875 32.421875 30.609375 32.421875 \r\nz\r\n\" id=\"DejaVuSans-57\"/>\r\n       </defs>\r\n       <use xlink:href=\"#DejaVuSans-50\"/>\r\n       <use x=\"63.623047\" xlink:href=\"#DejaVuSans-48\"/>\r\n       <use x=\"127.246094\" xlink:href=\"#DejaVuSans-49\"/>\r\n       <use x=\"190.869141\" xlink:href=\"#DejaVuSans-55\"/>\r\n       <use x=\"254.492188\" xlink:href=\"#DejaVuSans-45\"/>\r\n       <use x=\"290.576172\" xlink:href=\"#DejaVuSans-48\"/>\r\n       <use x=\"354.199219\" xlink:href=\"#DejaVuSans-51\"/>\r\n       <use x=\"417.822266\" xlink:href=\"#DejaVuSans-45\"/>\r\n       <use x=\"453.90625\" xlink:href=\"#DejaVuSans-48\"/>\r\n       <use x=\"517.529297\" xlink:href=\"#DejaVuSans-57\"/>\r\n      </g>\r\n     </g>\r\n    </g>\r\n    <g id=\"xtick_4\">\r\n     <g id=\"line2d_4\">\r\n      <g>\r\n       <use style=\"stroke:#000000;stroke-width:0.8;\" x=\"180.186852\" xlink:href=\"#m95fc741852\" y=\"203.04\"/>\r\n      </g>\r\n     </g>\r\n     <g id=\"text_4\">\r\n      <!-- 2017-03-13 -->\r\n      <g transform=\"translate(128.817401 245.678252)rotate(-30)scale(0.1 -0.1)\">\r\n       <use xlink:href=\"#DejaVuSans-50\"/>\r\n       <use x=\"63.623047\" xlink:href=\"#DejaVuSans-48\"/>\r\n       <use x=\"127.246094\" xlink:href=\"#DejaVuSans-49\"/>\r\n       <use x=\"190.869141\" xlink:href=\"#DejaVuSans-55\"/>\r\n       <use x=\"254.492188\" xlink:href=\"#DejaVuSans-45\"/>\r\n       <use x=\"290.576172\" xlink:href=\"#DejaVuSans-48\"/>\r\n       <use x=\"354.199219\" xlink:href=\"#DejaVuSans-51\"/>\r\n       <use x=\"417.822266\" xlink:href=\"#DejaVuSans-45\"/>\r\n       <use x=\"453.90625\" xlink:href=\"#DejaVuSans-49\"/>\r\n       <use x=\"517.529297\" xlink:href=\"#DejaVuSans-51\"/>\r\n      </g>\r\n     </g>\r\n    </g>\r\n    <g id=\"xtick_5\">\r\n     <g id=\"line2d_5\">\r\n      <g>\r\n       <use style=\"stroke:#000000;stroke-width:0.8;\" x=\"219.459579\" xlink:href=\"#m95fc741852\" y=\"203.04\"/>\r\n      </g>\r\n     </g>\r\n     <g id=\"text_5\">\r\n      <!-- 2017-03-17 -->\r\n      <g transform=\"translate(168.090128 245.678252)rotate(-30)scale(0.1 -0.1)\">\r\n       <use xlink:href=\"#DejaVuSans-50\"/>\r\n       <use x=\"63.623047\" xlink:href=\"#DejaVuSans-48\"/>\r\n       <use x=\"127.246094\" xlink:href=\"#DejaVuSans-49\"/>\r\n       <use x=\"190.869141\" xlink:href=\"#DejaVuSans-55\"/>\r\n       <use x=\"254.492188\" xlink:href=\"#DejaVuSans-45\"/>\r\n       <use x=\"290.576172\" xlink:href=\"#DejaVuSans-48\"/>\r\n       <use x=\"354.199219\" xlink:href=\"#DejaVuSans-51\"/>\r\n       <use x=\"417.822266\" xlink:href=\"#DejaVuSans-45\"/>\r\n       <use x=\"453.90625\" xlink:href=\"#DejaVuSans-49\"/>\r\n       <use x=\"517.529297\" xlink:href=\"#DejaVuSans-55\"/>\r\n      </g>\r\n     </g>\r\n    </g>\r\n    <g id=\"xtick_6\">\r\n     <g id=\"line2d_6\">\r\n      <g>\r\n       <use style=\"stroke:#000000;stroke-width:0.8;\" x=\"258.732306\" xlink:href=\"#m95fc741852\" y=\"203.04\"/>\r\n      </g>\r\n     </g>\r\n     <g id=\"text_6\">\r\n      <!-- 2017-03-21 -->\r\n      <g transform=\"translate(207.362855 245.678252)rotate(-30)scale(0.1 -0.1)\">\r\n       <use xlink:href=\"#DejaVuSans-50\"/>\r\n       <use x=\"63.623047\" xlink:href=\"#DejaVuSans-48\"/>\r\n       <use x=\"127.246094\" xlink:href=\"#DejaVuSans-49\"/>\r\n       <use x=\"190.869141\" xlink:href=\"#DejaVuSans-55\"/>\r\n       <use x=\"254.492188\" xlink:href=\"#DejaVuSans-45\"/>\r\n       <use x=\"290.576172\" xlink:href=\"#DejaVuSans-48\"/>\r\n       <use x=\"354.199219\" xlink:href=\"#DejaVuSans-51\"/>\r\n       <use x=\"417.822266\" xlink:href=\"#DejaVuSans-45\"/>\r\n       <use x=\"453.90625\" xlink:href=\"#DejaVuSans-50\"/>\r\n       <use x=\"517.529297\" xlink:href=\"#DejaVuSans-49\"/>\r\n      </g>\r\n     </g>\r\n    </g>\r\n    <g id=\"xtick_7\">\r\n     <g id=\"line2d_7\">\r\n      <g>\r\n       <use style=\"stroke:#000000;stroke-width:0.8;\" x=\"298.005034\" xlink:href=\"#m95fc741852\" y=\"203.04\"/>\r\n      </g>\r\n     </g>\r\n     <g id=\"text_7\">\r\n      <!-- 2017-03-25 -->\r\n      <g transform=\"translate(246.635582 245.678252)rotate(-30)scale(0.1 -0.1)\">\r\n       <use xlink:href=\"#DejaVuSans-50\"/>\r\n       <use x=\"63.623047\" xlink:href=\"#DejaVuSans-48\"/>\r\n       <use x=\"127.246094\" xlink:href=\"#DejaVuSans-49\"/>\r\n       <use x=\"190.869141\" xlink:href=\"#DejaVuSans-55\"/>\r\n       <use x=\"254.492188\" xlink:href=\"#DejaVuSans-45\"/>\r\n       <use x=\"290.576172\" xlink:href=\"#DejaVuSans-48\"/>\r\n       <use x=\"354.199219\" xlink:href=\"#DejaVuSans-51\"/>\r\n       <use x=\"417.822266\" xlink:href=\"#DejaVuSans-45\"/>\r\n       <use x=\"453.90625\" xlink:href=\"#DejaVuSans-50\"/>\r\n       <use x=\"517.529297\" xlink:href=\"#DejaVuSans-53\"/>\r\n      </g>\r\n     </g>\r\n    </g>\r\n    <g id=\"xtick_8\">\r\n     <g id=\"line2d_8\">\r\n      <g>\r\n       <use style=\"stroke:#000000;stroke-width:0.8;\" x=\"337.277761\" xlink:href=\"#m95fc741852\" y=\"203.04\"/>\r\n      </g>\r\n     </g>\r\n     <g id=\"text_8\">\r\n      <!-- 2017-03-29 -->\r\n      <g transform=\"translate(285.90831 245.678252)rotate(-30)scale(0.1 -0.1)\">\r\n       <use xlink:href=\"#DejaVuSans-50\"/>\r\n       <use x=\"63.623047\" xlink:href=\"#DejaVuSans-48\"/>\r\n       <use x=\"127.246094\" xlink:href=\"#DejaVuSans-49\"/>\r\n       <use x=\"190.869141\" xlink:href=\"#DejaVuSans-55\"/>\r\n       <use x=\"254.492188\" xlink:href=\"#DejaVuSans-45\"/>\r\n       <use x=\"290.576172\" xlink:href=\"#DejaVuSans-48\"/>\r\n       <use x=\"354.199219\" xlink:href=\"#DejaVuSans-51\"/>\r\n       <use x=\"417.822266\" xlink:href=\"#DejaVuSans-45\"/>\r\n       <use x=\"453.90625\" xlink:href=\"#DejaVuSans-50\"/>\r\n       <use x=\"517.529297\" xlink:href=\"#DejaVuSans-57\"/>\r\n      </g>\r\n     </g>\r\n    </g>\r\n    <g id=\"xtick_9\">\r\n     <g id=\"line2d_9\">\r\n      <g>\r\n       <use style=\"stroke:#000000;stroke-width:0.8;\" x=\"366.732306\" xlink:href=\"#m95fc741852\" y=\"203.04\"/>\r\n      </g>\r\n     </g>\r\n     <g id=\"text_9\">\r\n      <!-- 2017-04-01 -->\r\n      <g transform=\"translate(315.362855 245.678252)rotate(-30)scale(0.1 -0.1)\">\r\n       <defs>\r\n        <path d=\"M 37.796875 64.3125 \r\nL 12.890625 25.390625 \r\nL 37.796875 25.390625 \r\nz\r\nM 35.203125 72.90625 \r\nL 47.609375 72.90625 \r\nL 47.609375 25.390625 \r\nL 58.015625 25.390625 \r\nL 58.015625 17.1875 \r\nL 47.609375 17.1875 \r\nL 47.609375 0 \r\nL 37.796875 0 \r\nL 37.796875 17.1875 \r\nL 4.890625 17.1875 \r\nL 4.890625 26.703125 \r\nz\r\n\" id=\"DejaVuSans-52\"/>\r\n       </defs>\r\n       <use xlink:href=\"#DejaVuSans-50\"/>\r\n       <use x=\"63.623047\" xlink:href=\"#DejaVuSans-48\"/>\r\n       <use x=\"127.246094\" xlink:href=\"#DejaVuSans-49\"/>\r\n       <use x=\"190.869141\" xlink:href=\"#DejaVuSans-55\"/>\r\n       <use x=\"254.492188\" xlink:href=\"#DejaVuSans-45\"/>\r\n       <use x=\"290.576172\" xlink:href=\"#DejaVuSans-48\"/>\r\n       <use x=\"354.199219\" xlink:href=\"#DejaVuSans-52\"/>\r\n       <use x=\"417.822266\" xlink:href=\"#DejaVuSans-45\"/>\r\n       <use x=\"453.90625\" xlink:href=\"#DejaVuSans-48\"/>\r\n       <use x=\"517.529297\" xlink:href=\"#DejaVuSans-49\"/>\r\n      </g>\r\n     </g>\r\n    </g>\r\n    <g id=\"text_10\">\r\n     <!-- FECHA -->\r\n     <g transform=\"translate(197.843457 259.077752)scale(0.1 -0.1)\">\r\n      <defs>\r\n       <path d=\"M 9.8125 72.90625 \r\nL 51.703125 72.90625 \r\nL 51.703125 64.59375 \r\nL 19.671875 64.59375 \r\nL 19.671875 43.109375 \r\nL 48.578125 43.109375 \r\nL 48.578125 34.8125 \r\nL 19.671875 34.8125 \r\nL 19.671875 0 \r\nL 9.8125 0 \r\nz\r\n\" id=\"DejaVuSans-70\"/>\r\n       <path d=\"M 9.8125 72.90625 \r\nL 55.90625 72.90625 \r\nL 55.90625 64.59375 \r\nL 19.671875 64.59375 \r\nL 19.671875 43.015625 \r\nL 54.390625 43.015625 \r\nL 54.390625 34.71875 \r\nL 19.671875 34.71875 \r\nL 19.671875 8.296875 \r\nL 56.78125 8.296875 \r\nL 56.78125 0 \r\nL 9.8125 0 \r\nz\r\n\" id=\"DejaVuSans-69\"/>\r\n       <path d=\"M 64.40625 67.28125 \r\nL 64.40625 56.890625 \r\nQ 59.421875 61.53125 53.78125 63.8125 \r\nQ 48.140625 66.109375 41.796875 66.109375 \r\nQ 29.296875 66.109375 22.65625 58.46875 \r\nQ 16.015625 50.828125 16.015625 36.375 \r\nQ 16.015625 21.96875 22.65625 14.328125 \r\nQ 29.296875 6.6875 41.796875 6.6875 \r\nQ 48.140625 6.6875 53.78125 8.984375 \r\nQ 59.421875 11.28125 64.40625 15.921875 \r\nL 64.40625 5.609375 \r\nQ 59.234375 2.09375 53.4375 0.328125 \r\nQ 47.65625 -1.421875 41.21875 -1.421875 \r\nQ 24.65625 -1.421875 15.125 8.703125 \r\nQ 5.609375 18.84375 5.609375 36.375 \r\nQ 5.609375 53.953125 15.125 64.078125 \r\nQ 24.65625 74.21875 41.21875 74.21875 \r\nQ 47.75 74.21875 53.53125 72.484375 \r\nQ 59.328125 70.75 64.40625 67.28125 \r\nz\r\n\" id=\"DejaVuSans-67\"/>\r\n       <path d=\"M 9.8125 72.90625 \r\nL 19.671875 72.90625 \r\nL 19.671875 43.015625 \r\nL 55.515625 43.015625 \r\nL 55.515625 72.90625 \r\nL 65.375 72.90625 \r\nL 65.375 0 \r\nL 55.515625 0 \r\nL 55.515625 34.71875 \r\nL 19.671875 34.71875 \r\nL 19.671875 0 \r\nL 9.8125 0 \r\nz\r\n\" id=\"DejaVuSans-72\"/>\r\n       <path d=\"M 34.1875 63.1875 \r\nL 20.796875 26.90625 \r\nL 47.609375 26.90625 \r\nz\r\nM 28.609375 72.90625 \r\nL 39.796875 72.90625 \r\nL 67.578125 0 \r\nL 57.328125 0 \r\nL 50.6875 18.703125 \r\nL 17.828125 18.703125 \r\nL 11.1875 0 \r\nL 0.78125 0 \r\nz\r\n\" id=\"DejaVuSans-65\"/>\r\n      </defs>\r\n      <use xlink:href=\"#DejaVuSans-70\"/>\r\n      <use x=\"57.519531\" xlink:href=\"#DejaVuSans-69\"/>\r\n      <use x=\"120.703125\" xlink:href=\"#DejaVuSans-67\"/>\r\n      <use x=\"190.527344\" xlink:href=\"#DejaVuSans-72\"/>\r\n      <use x=\"265.722656\" xlink:href=\"#DejaVuSans-65\"/>\r\n     </g>\r\n    </g>\r\n   </g>\r\n   <g id=\"matplotlib.axis_2\">\r\n    <g id=\"ytick_1\">\r\n     <g id=\"line2d_10\">\r\n      <defs>\r\n       <path d=\"M 0 0 \r\nL -3.5 0 \r\n\" id=\"m48d0f43190\" style=\"stroke:#000000;stroke-width:0.8;\"/>\r\n      </defs>\r\n      <g>\r\n       <use style=\"stroke:#000000;stroke-width:0.8;\" x=\"47.150488\" xlink:href=\"#m48d0f43190\" y=\"173.595524\"/>\r\n      </g>\r\n     </g>\r\n     <g id=\"text_11\">\r\n      <!-- 5 -->\r\n      <g transform=\"translate(33.787988 177.394743)scale(0.1 -0.1)\">\r\n       <use xlink:href=\"#DejaVuSans-53\"/>\r\n      </g>\r\n     </g>\r\n    </g>\r\n    <g id=\"ytick_2\">\r\n     <g id=\"line2d_11\">\r\n      <g>\r\n       <use style=\"stroke:#000000;stroke-width:0.8;\" x=\"47.150488\" xlink:href=\"#m48d0f43190\" y=\"139.357762\"/>\r\n      </g>\r\n     </g>\r\n     <g id=\"text_12\">\r\n      <!-- 10 -->\r\n      <g transform=\"translate(27.425488 143.156981)scale(0.1 -0.1)\">\r\n       <use xlink:href=\"#DejaVuSans-49\"/>\r\n       <use x=\"63.623047\" xlink:href=\"#DejaVuSans-48\"/>\r\n      </g>\r\n     </g>\r\n    </g>\r\n    <g id=\"ytick_3\">\r\n     <g id=\"line2d_12\">\r\n      <g>\r\n       <use style=\"stroke:#000000;stroke-width:0.8;\" x=\"47.150488\" xlink:href=\"#m48d0f43190\" y=\"105.12\"/>\r\n      </g>\r\n     </g>\r\n     <g id=\"text_13\">\r\n      <!-- 15 -->\r\n      <g transform=\"translate(27.425488 108.919219)scale(0.1 -0.1)\">\r\n       <use xlink:href=\"#DejaVuSans-49\"/>\r\n       <use x=\"63.623047\" xlink:href=\"#DejaVuSans-53\"/>\r\n      </g>\r\n     </g>\r\n    </g>\r\n    <g id=\"ytick_4\">\r\n     <g id=\"line2d_13\">\r\n      <g>\r\n       <use style=\"stroke:#000000;stroke-width:0.8;\" x=\"47.150488\" xlink:href=\"#m48d0f43190\" y=\"70.882238\"/>\r\n      </g>\r\n     </g>\r\n     <g id=\"text_14\">\r\n      <!-- 20 -->\r\n      <g transform=\"translate(27.425488 74.681457)scale(0.1 -0.1)\">\r\n       <use xlink:href=\"#DejaVuSans-50\"/>\r\n       <use x=\"63.623047\" xlink:href=\"#DejaVuSans-48\"/>\r\n      </g>\r\n     </g>\r\n    </g>\r\n    <g id=\"ytick_5\">\r\n     <g id=\"line2d_14\">\r\n      <g>\r\n       <use style=\"stroke:#000000;stroke-width:0.8;\" x=\"47.150488\" xlink:href=\"#m48d0f43190\" y=\"36.644476\"/>\r\n      </g>\r\n     </g>\r\n     <g id=\"text_15\">\r\n      <!-- 25 -->\r\n      <g transform=\"translate(27.425488 40.443694)scale(0.1 -0.1)\">\r\n       <use xlink:href=\"#DejaVuSans-50\"/>\r\n       <use x=\"63.623047\" xlink:href=\"#DejaVuSans-53\"/>\r\n      </g>\r\n     </g>\r\n    </g>\r\n   </g>\r\n   <g id=\"line2d_15\">\r\n    <path clip-path=\"url(#p7c5df23377)\" d=\"M 62.36867 173.595524 \r\nL 62.36867 187.290629 \r\nL 62.36867 91.424895 \r\nL 62.36867 153.052867 \r\nL 72.186852 111.967552 \r\nL 72.186852 84.577343 \r\nL 72.186852 194.138182 \r\nL 72.186852 159.90042 \r\nL 82.005034 173.595524 \r\nL 82.005034 91.424895 \r\nL 82.005034 194.138182 \r\nL 82.005034 125.662657 \r\nL 91.823216 159.90042 \r\nL 91.823216 105.12 \r\nL 91.823216 194.138182 \r\nL 91.823216 153.052867 \r\nL 101.641397 98.272448 \r\nL 101.641397 194.138182 \r\nL 101.641397 132.51021 \r\nL 111.459579 187.290629 \r\nL 111.459579 98.272448 \r\nL 111.459579 194.138182 \r\nL 111.459579 166.747972 \r\nL 121.277761 146.205315 \r\nL 121.277761 194.138182 \r\nL 121.277761 98.272448 \r\nL 121.277761 180.443077 \r\nL 131.095943 125.662657 \r\nL 131.095943 187.290629 \r\nL 131.095943 84.577343 \r\nL 131.095943 125.662657 \r\nL 140.914125 91.424895 \r\nL 140.914125 180.443077 \r\nL 140.914125 84.577343 \r\nL 140.914125 125.662657 \r\nL 150.732306 98.272448 \r\nL 150.732306 194.138182 \r\nL 150.732306 91.424895 \r\nL 150.732306 139.357762 \r\nL 160.550488 132.51021 \r\nL 160.550488 187.290629 \r\nL 160.550488 98.272448 \r\nL 160.550488 98.272448 \r\nL 170.36867 139.357762 \r\nL 170.36867 98.272448 \r\nL 170.36867 194.138182 \r\nL 170.36867 159.90042 \r\nL 180.186852 139.357762 \r\nL 180.186852 70.882238 \r\nL 180.186852 194.138182 \r\nL 180.186852 159.90042 \r\nL 190.005034 173.595524 \r\nL 190.005034 16.101818 \r\nL 190.005034 187.290629 \r\nL 190.005034 187.290629 \r\nL 199.823216 153.052867 \r\nL 199.823216 187.290629 \r\nL 199.823216 64.034685 \r\nL 199.823216 187.290629 \r\nL 209.641397 187.290629 \r\nL 209.641397 98.272448 \r\nL 209.641397 118.815105 \r\nL 219.459579 159.90042 \r\nL 219.459579 98.272448 \r\nL 219.459579 187.290629 \r\nL 229.277761 105.12 \r\nL 229.277761 187.290629 \r\nL 229.277761 98.272448 \r\nL 229.277761 146.205315 \r\nL 239.095943 111.967552 \r\nL 239.095943 187.290629 \r\nL 239.095943 98.272448 \r\nL 239.095943 159.90042 \r\nL 248.914125 139.357762 \r\nL 248.914125 105.12 \r\nL 248.914125 187.290629 \r\nL 248.914125 166.747972 \r\nL 258.732306 118.815105 \r\nL 258.732306 187.290629 \r\nL 258.732306 105.12 \r\nL 258.732306 153.052867 \r\nL 268.550488 153.052867 \r\nL 268.550488 98.272448 \r\nL 268.550488 194.138182 \r\nL 268.550488 125.662657 \r\nL 278.36867 153.052867 \r\nL 278.36867 194.138182 \r\nL 278.36867 98.272448 \r\nL 278.36867 187.290629 \r\nL 288.186852 105.12 \r\nL 288.186852 187.290629 \r\nL 288.186852 98.272448 \r\nL 288.186852 180.443077 \r\nL 298.005034 132.51021 \r\nL 298.005034 187.290629 \r\nL 298.005034 91.424895 \r\nL 307.823216 159.90042 \r\nL 307.823216 187.290629 \r\nL 307.823216 91.424895 \r\nL 307.823216 153.052867 \r\nL 317.641397 187.290629 \r\nL 317.641397 91.424895 \r\nL 317.641397 153.052867 \r\nL 327.459579 173.595524 \r\nL 327.459579 187.290629 \r\nL 327.459579 91.424895 \r\nL 337.277761 139.357762 \r\nL 337.277761 139.357762 \r\nL 337.277761 187.290629 \r\nL 337.277761 105.12 \r\nL 347.095943 159.90042 \r\nL 347.095943 194.138182 \r\nL 347.095943 105.12 \r\nL 347.095943 187.290629 \r\nL 356.914125 180.443077 \r\nL 356.914125 118.815105 \r\nL 356.914125 187.290629 \r\nL 356.914125 180.443077 \r\nL 366.732306 194.138182 \r\nL 366.732306 125.662657 \r\nL 366.732306 187.290629 \r\n\" style=\"fill:none;stroke:#1f77b4;stroke-linecap:square;stroke-width:1.5;\"/>\r\n   </g>\r\n   <g id=\"patch_3\">\r\n    <path d=\"M 47.150488 203.04 \r\nL 47.150488 7.2 \r\n\" style=\"fill:none;stroke:#000000;stroke-linecap:square;stroke-linejoin:miter;stroke-width:0.8;\"/>\r\n   </g>\r\n   <g id=\"patch_4\">\r\n    <path d=\"M 381.950488 203.04 \r\nL 381.950488 7.2 \r\n\" style=\"fill:none;stroke:#000000;stroke-linecap:square;stroke-linejoin:miter;stroke-width:0.8;\"/>\r\n   </g>\r\n   <g id=\"patch_5\">\r\n    <path d=\"M 47.150488 203.04 \r\nL 381.950488 203.04 \r\n\" style=\"fill:none;stroke:#000000;stroke-linecap:square;stroke-linejoin:miter;stroke-width:0.8;\"/>\r\n   </g>\r\n   <g id=\"patch_6\">\r\n    <path d=\"M 47.150488 7.2 \r\nL 381.950488 7.2 \r\n\" style=\"fill:none;stroke:#000000;stroke-linecap:square;stroke-linejoin:miter;stroke-width:0.8;\"/>\r\n   </g>\r\n   <g id=\"legend_1\">\r\n    <g id=\"patch_7\">\r\n     <path d=\"M 309.877051 29.878125 \r\nL 374.950488 29.878125 \r\nQ 376.950488 29.878125 376.950488 27.878125 \r\nL 376.950488 14.2 \r\nQ 376.950488 12.2 374.950488 12.2 \r\nL 309.877051 12.2 \r\nQ 307.877051 12.2 307.877051 14.2 \r\nL 307.877051 27.878125 \r\nQ 307.877051 29.878125 309.877051 29.878125 \r\nz\r\n\" style=\"fill:#ffffff;opacity:0.8;stroke:#cccccc;stroke-linejoin:miter;\"/>\r\n    </g>\r\n    <g id=\"line2d_16\">\r\n     <path d=\"M 311.877051 20.298437 \r\nL 331.877051 20.298437 \r\n\" style=\"fill:none;stroke:#1f77b4;stroke-linecap:square;stroke-width:1.5;\"/>\r\n    </g>\r\n    <g id=\"line2d_17\"/>\r\n    <g id=\"text_16\">\r\n     <!-- VALOR -->\r\n     <g transform=\"translate(339.877051 23.798437)scale(0.1 -0.1)\">\r\n      <defs>\r\n       <path d=\"M 28.609375 0 \r\nL 0.78125 72.90625 \r\nL 11.078125 72.90625 \r\nL 34.1875 11.53125 \r\nL 57.328125 72.90625 \r\nL 67.578125 72.90625 \r\nL 39.796875 0 \r\nz\r\n\" id=\"DejaVuSans-86\"/>\r\n       <path d=\"M 9.8125 72.90625 \r\nL 19.671875 72.90625 \r\nL 19.671875 8.296875 \r\nL 55.171875 8.296875 \r\nL 55.171875 0 \r\nL 9.8125 0 \r\nz\r\n\" id=\"DejaVuSans-76\"/>\r\n       <path d=\"M 39.40625 66.21875 \r\nQ 28.65625 66.21875 22.328125 58.203125 \r\nQ 16.015625 50.203125 16.015625 36.375 \r\nQ 16.015625 22.609375 22.328125 14.59375 \r\nQ 28.65625 6.59375 39.40625 6.59375 \r\nQ 50.140625 6.59375 56.421875 14.59375 \r\nQ 62.703125 22.609375 62.703125 36.375 \r\nQ 62.703125 50.203125 56.421875 58.203125 \r\nQ 50.140625 66.21875 39.40625 66.21875 \r\nz\r\nM 39.40625 74.21875 \r\nQ 54.734375 74.21875 63.90625 63.9375 \r\nQ 73.09375 53.65625 73.09375 36.375 \r\nQ 73.09375 19.140625 63.90625 8.859375 \r\nQ 54.734375 -1.421875 39.40625 -1.421875 \r\nQ 24.03125 -1.421875 14.8125 8.828125 \r\nQ 5.609375 19.09375 5.609375 36.375 \r\nQ 5.609375 53.65625 14.8125 63.9375 \r\nQ 24.03125 74.21875 39.40625 74.21875 \r\nz\r\n\" id=\"DejaVuSans-79\"/>\r\n       <path d=\"M 44.390625 34.1875 \r\nQ 47.5625 33.109375 50.5625 29.59375 \r\nQ 53.5625 26.078125 56.59375 19.921875 \r\nL 66.609375 0 \r\nL 56 0 \r\nL 46.6875 18.703125 \r\nQ 43.0625 26.03125 39.671875 28.421875 \r\nQ 36.28125 30.8125 30.421875 30.8125 \r\nL 19.671875 30.8125 \r\nL 19.671875 0 \r\nL 9.8125 0 \r\nL 9.8125 72.90625 \r\nL 32.078125 72.90625 \r\nQ 44.578125 72.90625 50.734375 67.671875 \r\nQ 56.890625 62.453125 56.890625 51.90625 \r\nQ 56.890625 45.015625 53.6875 40.46875 \r\nQ 50.484375 35.9375 44.390625 34.1875 \r\nz\r\nM 19.671875 64.796875 \r\nL 19.671875 38.921875 \r\nL 32.078125 38.921875 \r\nQ 39.203125 38.921875 42.84375 42.21875 \r\nQ 46.484375 45.515625 46.484375 51.90625 \r\nQ 46.484375 58.296875 42.84375 61.546875 \r\nQ 39.203125 64.796875 32.078125 64.796875 \r\nz\r\n\" id=\"DejaVuSans-82\"/>\r\n      </defs>\r\n      <use xlink:href=\"#DejaVuSans-86\"/>\r\n      <use x=\"62.033203\" xlink:href=\"#DejaVuSans-65\"/>\r\n      <use x=\"130.441406\" xlink:href=\"#DejaVuSans-76\"/>\r\n      <use x=\"182.529297\" xlink:href=\"#DejaVuSans-79\"/>\r\n      <use x=\"261.240234\" xlink:href=\"#DejaVuSans-82\"/>\r\n     </g>\r\n    </g>\r\n   </g>\r\n  </g>\r\n </g>\r\n <defs>\r\n  <clipPath id=\"p7c5df23377\">\r\n   <rect height=\"195.84\" width=\"334.8\" x=\"47.150488\" y=\"7.2\"/>\r\n  </clipPath>\r\n </defs>\r\n</svg>\r\n",
      "image/png": "[encoded data removed]"
     },
     "metadata": {
      "needs_background": "light"
     }
    }
   ],
   "source": [
    "import matplotlib.pyplot as plt\n",
    "import pandas as pd\n",
    "#Función que devuelve un gráfico de lineas dados una fecha inicio, una fecha final y una magnitud ingresados por el usuario.\n",
    "\n",
    "def EvolucionMagnitud():  #Definimos la función\n",
    "\n",
    "    fechaInicio = input(\"Ingrese una fecha inicial: \")  \n",
    "    fechaFinal= input('Ingrese una fecha final: ')\n",
    "    magnitud = int(input(\"Ingrese numero de magnitud: \"))\n",
    "    dfFecha = dfDate1.loc[(dfDate1[\"FECHA\"] >= fechaInicio) & (dfDate1[\"FECHA\"] <= fechaFinal)& (dfDate1['MAGNITUD']==magnitud), ['FECHA', 'VALOR']]  #Filtramos un dataframe mediante una condición con un rango de fechas y una magnitud, ingresados por consola\n",
    "    fig, ax=plt.subplots()  \n",
    "    dfFecha.plot(kind= 'line', x='FECHA', y= 'VALOR', ax=ax)   # Establecemos los ejes y el tipo de gráfico \n",
    "    plt.show()\n",
    "EvolucionMagnitud()"
   ]
  },
  {
   "source": [
    "12. Crear una función que reciba una magnitud y genere un gráfico con las medias mensuales dentro de Madrid Central y fuera de ella."
   ],
   "cell_type": "markdown",
   "metadata": {}
  },
  {
   "cell_type": "code",
   "execution_count": null,
   "metadata": {},
   "outputs": [],
   "source": []
  }
 ],
 "metadata": {
  "kernelspec": {
   "name": "python3",
   "display_name": "Python 3"
  },
  "language_info": {
   "codemirror_mode": {
    "name": "ipython",
    "version": 3
   },
   "file_extension": ".py",
   "mimetype": "text/x-python",
   "name": "python",
   "nbconvert_exporter": "python",
   "pygments_lexer": "ipython3",
   "version": "3.9.0-final"
  }
 },
 "nbformat": 4,
 "nbformat_minor": 4
}