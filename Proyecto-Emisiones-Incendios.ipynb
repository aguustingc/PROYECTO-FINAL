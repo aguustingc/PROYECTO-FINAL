{
 "cells": [
  {
   "cell_type": "markdown",
   "metadata": {},
   "source": [
    "### PUNTOS 1 a 8"
   ]
  },
  {
   "cell_type": "markdown",
   "metadata": {},
   "source": [
    "1. Generar un DataFrame con los datos de los cuatro ﬁcheros."
   ]
  },
  {
   "cell_type": "code",
   "execution_count": 80,
   "metadata": {},
   "outputs": [
    {
     "output_type": "execute_result",
     "data": {
      "text/plain": [
       "      PROVINCIA  MUNICIPIO  ESTACION  MAGNITUD PUNTO_MUESTREO   ANO  MES  \\\n",
       "0            28         79         4         1  28079004_1_38  2016    1   \n",
       "1            28         79         4         1  28079004_1_38  2016    2   \n",
       "2            28         79         4         1  28079004_1_38  2016    3   \n",
       "3            28         79         4         1  28079004_1_38  2016    4   \n",
       "4            28         79         4         1  28079004_1_38  2016    5   \n",
       "...         ...        ...       ...       ...            ...   ...  ...   \n",
       "7261         28         79        60        14  28079060_14_6  2019    8   \n",
       "7262         28         79        60        14  28079060_14_6  2019    9   \n",
       "7263         28         79        60        14  28079060_14_6  2019   10   \n",
       "7264         28         79        60        14  28079060_14_6  2019   11   \n",
       "7265         28         79        60        14  28079060_14_6  2019   12   \n",
       "\n",
       "       D01 V01    D02  ...   D27  V27   D28  V28   D29  V29    D30  V30   D31  \\\n",
       "0      8.0   V    7.0  ...   9.0    V   7.0    V   8.0    V    9.0    V   9.0   \n",
       "1     12.0   V   13.0  ...   7.0    V   8.0    V   9.0    V    0.0    N   0.0   \n",
       "2     11.0   V   10.0  ...   8.0    V   7.0    V   8.0    V   10.0    V   8.0   \n",
       "3      8.0   V    9.0  ...   9.0    V   8.0    V   8.0    V    8.0    V   0.0   \n",
       "4      7.0   V    8.0  ...   7.0    V   7.0    V   7.0    V    7.0    V   7.0   \n",
       "...    ...  ..    ...  ...   ...  ...   ...  ...   ...  ...    ...  ...   ...   \n",
       "7261  94.0   V  104.0  ...  88.0    V  90.0    V  99.0    V  108.0    V  98.0   \n",
       "7262  88.0   V   82.0  ...  54.0    V  68.0    V  70.0    V   55.0    V   0.0   \n",
       "7263  44.0   V   75.0  ...  28.0    V  33.0    V  16.0    V   19.0    V  47.0   \n",
       "7264  41.0   V   55.0  ...  55.0    V  52.0    V  47.0    V   56.0    V   0.0   \n",
       "7265  47.0   V   53.0  ...  17.0    V  13.0    V  14.0    V    5.0    V   4.0   \n",
       "\n",
       "      V31  \n",
       "0       V  \n",
       "1       N  \n",
       "2       V  \n",
       "3       N  \n",
       "4       V  \n",
       "...   ...  \n",
       "7261    V  \n",
       "7262    N  \n",
       "7263    V  \n",
       "7264    N  \n",
       "7265    V  \n",
       "\n",
       "[7266 rows x 69 columns]"
      ],
      "text/html": "<div>\n<style scoped>\n    .dataframe tbody tr th:only-of-type {\n        vertical-align: middle;\n    }\n\n    .dataframe tbody tr th {\n        vertical-align: top;\n    }\n\n    .dataframe thead th {\n        text-align: right;\n    }\n</style>\n<table border=\"1\" class=\"dataframe\">\n  <thead>\n    <tr style=\"text-align: right;\">\n      <th></th>\n      <th>PROVINCIA</th>\n      <th>MUNICIPIO</th>\n      <th>ESTACION</th>\n      <th>MAGNITUD</th>\n      <th>PUNTO_MUESTREO</th>\n      <th>ANO</th>\n      <th>MES</th>\n      <th>D01</th>\n      <th>V01</th>\n      <th>D02</th>\n      <th>...</th>\n      <th>D27</th>\n      <th>V27</th>\n      <th>D28</th>\n      <th>V28</th>\n      <th>D29</th>\n      <th>V29</th>\n      <th>D30</th>\n      <th>V30</th>\n      <th>D31</th>\n      <th>V31</th>\n    </tr>\n  </thead>\n  <tbody>\n    <tr>\n      <th>0</th>\n      <td>28</td>\n      <td>79</td>\n      <td>4</td>\n      <td>1</td>\n      <td>28079004_1_38</td>\n      <td>2016</td>\n      <td>1</td>\n      <td>8.0</td>\n      <td>V</td>\n      <td>7.0</td>\n      <td>...</td>\n      <td>9.0</td>\n      <td>V</td>\n      <td>7.0</td>\n      <td>V</td>\n      <td>8.0</td>\n      <td>V</td>\n      <td>9.0</td>\n      <td>V</td>\n      <td>9.0</td>\n      <td>V</td>\n    </tr>\n    <tr>\n      <th>1</th>\n      <td>28</td>\n      <td>79</td>\n      <td>4</td>\n      <td>1</td>\n      <td>28079004_1_38</td>\n      <td>2016</td>\n      <td>2</td>\n      <td>12.0</td>\n      <td>V</td>\n      <td>13.0</td>\n      <td>...</td>\n      <td>7.0</td>\n      <td>V</td>\n      <td>8.0</td>\n      <td>V</td>\n      <td>9.0</td>\n      <td>V</td>\n      <td>0.0</td>\n      <td>N</td>\n      <td>0.0</td>\n      <td>N</td>\n    </tr>\n    <tr>\n      <th>2</th>\n      <td>28</td>\n      <td>79</td>\n      <td>4</td>\n      <td>1</td>\n      <td>28079004_1_38</td>\n      <td>2016</td>\n      <td>3</td>\n      <td>11.0</td>\n      <td>V</td>\n      <td>10.0</td>\n      <td>...</td>\n      <td>8.0</td>\n      <td>V</td>\n      <td>7.0</td>\n      <td>V</td>\n      <td>8.0</td>\n      <td>V</td>\n      <td>10.0</td>\n      <td>V</td>\n      <td>8.0</td>\n      <td>V</td>\n    </tr>\n    <tr>\n      <th>3</th>\n      <td>28</td>\n      <td>79</td>\n      <td>4</td>\n      <td>1</td>\n      <td>28079004_1_38</td>\n      <td>2016</td>\n      <td>4</td>\n      <td>8.0</td>\n      <td>V</td>\n      <td>9.0</td>\n      <td>...</td>\n      <td>9.0</td>\n      <td>V</td>\n      <td>8.0</td>\n      <td>V</td>\n      <td>8.0</td>\n      <td>V</td>\n      <td>8.0</td>\n      <td>V</td>\n      <td>0.0</td>\n      <td>N</td>\n    </tr>\n    <tr>\n      <th>4</th>\n      <td>28</td>\n      <td>79</td>\n      <td>4</td>\n      <td>1</td>\n      <td>28079004_1_38</td>\n      <td>2016</td>\n      <td>5</td>\n      <td>7.0</td>\n      <td>V</td>\n      <td>8.0</td>\n      <td>...</td>\n      <td>7.0</td>\n      <td>V</td>\n      <td>7.0</td>\n      <td>V</td>\n      <td>7.0</td>\n      <td>V</td>\n      <td>7.0</td>\n      <td>V</td>\n      <td>7.0</td>\n      <td>V</td>\n    </tr>\n    <tr>\n      <th>...</th>\n      <td>...</td>\n      <td>...</td>\n      <td>...</td>\n      <td>...</td>\n      <td>...</td>\n      <td>...</td>\n      <td>...</td>\n      <td>...</td>\n      <td>...</td>\n      <td>...</td>\n      <td>...</td>\n      <td>...</td>\n      <td>...</td>\n      <td>...</td>\n      <td>...</td>\n      <td>...</td>\n      <td>...</td>\n      <td>...</td>\n      <td>...</td>\n      <td>...</td>\n      <td>...</td>\n    </tr>\n    <tr>\n      <th>7261</th>\n      <td>28</td>\n      <td>79</td>\n      <td>60</td>\n      <td>14</td>\n      <td>28079060_14_6</td>\n      <td>2019</td>\n      <td>8</td>\n      <td>94.0</td>\n      <td>V</td>\n      <td>104.0</td>\n      <td>...</td>\n      <td>88.0</td>\n      <td>V</td>\n      <td>90.0</td>\n      <td>V</td>\n      <td>99.0</td>\n      <td>V</td>\n      <td>108.0</td>\n      <td>V</td>\n      <td>98.0</td>\n      <td>V</td>\n    </tr>\n    <tr>\n      <th>7262</th>\n      <td>28</td>\n      <td>79</td>\n      <td>60</td>\n      <td>14</td>\n      <td>28079060_14_6</td>\n      <td>2019</td>\n      <td>9</td>\n      <td>88.0</td>\n      <td>V</td>\n      <td>82.0</td>\n      <td>...</td>\n      <td>54.0</td>\n      <td>V</td>\n      <td>68.0</td>\n      <td>V</td>\n      <td>70.0</td>\n      <td>V</td>\n      <td>55.0</td>\n      <td>V</td>\n      <td>0.0</td>\n      <td>N</td>\n    </tr>\n    <tr>\n      <th>7263</th>\n      <td>28</td>\n      <td>79</td>\n      <td>60</td>\n      <td>14</td>\n      <td>28079060_14_6</td>\n      <td>2019</td>\n      <td>10</td>\n      <td>44.0</td>\n      <td>V</td>\n      <td>75.0</td>\n      <td>...</td>\n      <td>28.0</td>\n      <td>V</td>\n      <td>33.0</td>\n      <td>V</td>\n      <td>16.0</td>\n      <td>V</td>\n      <td>19.0</td>\n      <td>V</td>\n      <td>47.0</td>\n      <td>V</td>\n    </tr>\n    <tr>\n      <th>7264</th>\n      <td>28</td>\n      <td>79</td>\n      <td>60</td>\n      <td>14</td>\n      <td>28079060_14_6</td>\n      <td>2019</td>\n      <td>11</td>\n      <td>41.0</td>\n      <td>V</td>\n      <td>55.0</td>\n      <td>...</td>\n      <td>55.0</td>\n      <td>V</td>\n      <td>52.0</td>\n      <td>V</td>\n      <td>47.0</td>\n      <td>V</td>\n      <td>56.0</td>\n      <td>V</td>\n      <td>0.0</td>\n      <td>N</td>\n    </tr>\n    <tr>\n      <th>7265</th>\n      <td>28</td>\n      <td>79</td>\n      <td>60</td>\n      <td>14</td>\n      <td>28079060_14_6</td>\n      <td>2019</td>\n      <td>12</td>\n      <td>47.0</td>\n      <td>V</td>\n      <td>53.0</td>\n      <td>...</td>\n      <td>17.0</td>\n      <td>V</td>\n      <td>13.0</td>\n      <td>V</td>\n      <td>14.0</td>\n      <td>V</td>\n      <td>5.0</td>\n      <td>V</td>\n      <td>4.0</td>\n      <td>V</td>\n    </tr>\n  </tbody>\n</table>\n<p>7266 rows × 69 columns</p>\n</div>"
     },
     "metadata": {},
     "execution_count": 80
    }
   ],
   "source": [
    "import pandas as pd\n",
    "\n",
    "# Importamos dataset\n",
    "df_2016 = pd.read_csv('DataFrames/emisiones-2016.csv', sep=';')\n",
    "df_2017 = pd.read_csv('DataFrames/emisiones-2017.csv', sep=';')\n",
    "df_2018 = pd.read_csv('DataFrames/emisiones-2018.csv', sep=';')\n",
    "df_2019 = pd.read_csv('DataFrames/emisiones-2019.csv', sep=';')\n",
    "\n",
    "dfs = [df_2016,\n",
    "       df_2017,\n",
    "       df_2018,\n",
    "       df_2019]\n",
    "\n",
    "# Ignoro index, dado que al concatenar datasets mantendrán su indice sino no lo modifico.\n",
    "dfPrincipal = pd.concat(dfs, ignore_index=True)\n",
    "dfPrincipal"
   ]
  },
  {
   "source": [
    "2. Filtrar columnas por Estación, Magnitud,Año,Mes,D01,D02,etc. "
   ],
   "cell_type": "markdown",
   "metadata": {}
  },
  {
   "cell_type": "code",
   "execution_count": 81,
   "metadata": {},
   "outputs": [
    {
     "output_type": "execute_result",
     "data": {
      "text/plain": [
       "      ESTACION  MAGNITUD   ANO  MES   D01    D02    D03   D04   D05   D06  \\\n",
       "0            4         1  2016    1   8.0    7.0    6.0   6.0   7.0   6.0   \n",
       "1            4         1  2016    2  12.0   13.0    9.0   9.0  11.0   9.0   \n",
       "2            4         1  2016    3  11.0   10.0    9.0   9.0   7.0   8.0   \n",
       "3            4         1  2016    4   8.0    9.0    9.0   8.0   8.0   9.0   \n",
       "4            4         1  2016    5   7.0    8.0    9.0   9.0   8.0   8.0   \n",
       "...        ...       ...   ...  ...   ...    ...    ...   ...   ...   ...   \n",
       "7261        60        14  2019    8  94.0  104.0  106.0  99.0  77.0  82.0   \n",
       "7262        60        14  2019    9  88.0   82.0   80.0  92.0  79.0  75.0   \n",
       "7263        60        14  2019   10  44.0   75.0   44.0  54.0  65.0  68.0   \n",
       "7264        60        14  2019   11  41.0   55.0   79.0  65.0  64.0  51.0   \n",
       "7265        60        14  2019   12  47.0   53.0   45.0  44.0  49.0  41.0   \n",
       "\n",
       "      ...   D22   D23    D24   D25   D26   D27   D28   D29    D30   D31  \n",
       "0     ...  10.0  11.0   11.0  13.0  12.0   9.0   7.0   8.0    9.0   9.0  \n",
       "1     ...  11.0  10.0    9.0   8.0   7.0   7.0   8.0   9.0    0.0   0.0  \n",
       "2     ...   8.0   8.0    9.0   9.0   9.0   8.0   7.0   8.0   10.0   8.0  \n",
       "3     ...   8.0   8.0    8.0   8.0   9.0   9.0   8.0   8.0    8.0   0.0  \n",
       "4     ...   7.0   7.0    8.0   7.0   7.0   7.0   7.0   7.0    7.0   7.0  \n",
       "...   ...   ...   ...    ...   ...   ...   ...   ...   ...    ...   ...  \n",
       "7261  ...  86.0  97.0  104.0  96.0  85.0  88.0  90.0  99.0  108.0  98.0  \n",
       "7262  ...  59.0  46.0   49.0  69.0  57.0  54.0  68.0  70.0   55.0   0.0  \n",
       "7263  ...  37.0  39.0   45.0  21.0  23.0  28.0  33.0  16.0   19.0  47.0  \n",
       "7264  ...  38.0  75.0   69.0  45.0  35.0  55.0  52.0  47.0   56.0   0.0  \n",
       "7265  ...  68.0  36.0    9.0  11.0  10.0  17.0  13.0  14.0    5.0   4.0  \n",
       "\n",
       "[7266 rows x 35 columns]"
      ],
      "text/html": "<div>\n<style scoped>\n    .dataframe tbody tr th:only-of-type {\n        vertical-align: middle;\n    }\n\n    .dataframe tbody tr th {\n        vertical-align: top;\n    }\n\n    .dataframe thead th {\n        text-align: right;\n    }\n</style>\n<table border=\"1\" class=\"dataframe\">\n  <thead>\n    <tr style=\"text-align: right;\">\n      <th></th>\n      <th>ESTACION</th>\n      <th>MAGNITUD</th>\n      <th>ANO</th>\n      <th>MES</th>\n      <th>D01</th>\n      <th>D02</th>\n      <th>D03</th>\n      <th>D04</th>\n      <th>D05</th>\n      <th>D06</th>\n      <th>...</th>\n      <th>D22</th>\n      <th>D23</th>\n      <th>D24</th>\n      <th>D25</th>\n      <th>D26</th>\n      <th>D27</th>\n      <th>D28</th>\n      <th>D29</th>\n      <th>D30</th>\n      <th>D31</th>\n    </tr>\n  </thead>\n  <tbody>\n    <tr>\n      <th>0</th>\n      <td>4</td>\n      <td>1</td>\n      <td>2016</td>\n      <td>1</td>\n      <td>8.0</td>\n      <td>7.0</td>\n      <td>6.0</td>\n      <td>6.0</td>\n      <td>7.0</td>\n      <td>6.0</td>\n      <td>...</td>\n      <td>10.0</td>\n      <td>11.0</td>\n      <td>11.0</td>\n      <td>13.0</td>\n      <td>12.0</td>\n      <td>9.0</td>\n      <td>7.0</td>\n      <td>8.0</td>\n      <td>9.0</td>\n      <td>9.0</td>\n    </tr>\n    <tr>\n      <th>1</th>\n      <td>4</td>\n      <td>1</td>\n      <td>2016</td>\n      <td>2</td>\n      <td>12.0</td>\n      <td>13.0</td>\n      <td>9.0</td>\n      <td>9.0</td>\n      <td>11.0</td>\n      <td>9.0</td>\n      <td>...</td>\n      <td>11.0</td>\n      <td>10.0</td>\n      <td>9.0</td>\n      <td>8.0</td>\n      <td>7.0</td>\n      <td>7.0</td>\n      <td>8.0</td>\n      <td>9.0</td>\n      <td>0.0</td>\n      <td>0.0</td>\n    </tr>\n    <tr>\n      <th>2</th>\n      <td>4</td>\n      <td>1</td>\n      <td>2016</td>\n      <td>3</td>\n      <td>11.0</td>\n      <td>10.0</td>\n      <td>9.0</td>\n      <td>9.0</td>\n      <td>7.0</td>\n      <td>8.0</td>\n      <td>...</td>\n      <td>8.0</td>\n      <td>8.0</td>\n      <td>9.0</td>\n      <td>9.0</td>\n      <td>9.0</td>\n      <td>8.0</td>\n      <td>7.0</td>\n      <td>8.0</td>\n      <td>10.0</td>\n      <td>8.0</td>\n    </tr>\n    <tr>\n      <th>3</th>\n      <td>4</td>\n      <td>1</td>\n      <td>2016</td>\n      <td>4</td>\n      <td>8.0</td>\n      <td>9.0</td>\n      <td>9.0</td>\n      <td>8.0</td>\n      <td>8.0</td>\n      <td>9.0</td>\n      <td>...</td>\n      <td>8.0</td>\n      <td>8.0</td>\n      <td>8.0</td>\n      <td>8.0</td>\n      <td>9.0</td>\n      <td>9.0</td>\n      <td>8.0</td>\n      <td>8.0</td>\n      <td>8.0</td>\n      <td>0.0</td>\n    </tr>\n    <tr>\n      <th>4</th>\n      <td>4</td>\n      <td>1</td>\n      <td>2016</td>\n      <td>5</td>\n      <td>7.0</td>\n      <td>8.0</td>\n      <td>9.0</td>\n      <td>9.0</td>\n      <td>8.0</td>\n      <td>8.0</td>\n      <td>...</td>\n      <td>7.0</td>\n      <td>7.0</td>\n      <td>8.0</td>\n      <td>7.0</td>\n      <td>7.0</td>\n      <td>7.0</td>\n      <td>7.0</td>\n      <td>7.0</td>\n      <td>7.0</td>\n      <td>7.0</td>\n    </tr>\n    <tr>\n      <th>...</th>\n      <td>...</td>\n      <td>...</td>\n      <td>...</td>\n      <td>...</td>\n      <td>...</td>\n      <td>...</td>\n      <td>...</td>\n      <td>...</td>\n      <td>...</td>\n      <td>...</td>\n      <td>...</td>\n      <td>...</td>\n      <td>...</td>\n      <td>...</td>\n      <td>...</td>\n      <td>...</td>\n      <td>...</td>\n      <td>...</td>\n      <td>...</td>\n      <td>...</td>\n      <td>...</td>\n    </tr>\n    <tr>\n      <th>7261</th>\n      <td>60</td>\n      <td>14</td>\n      <td>2019</td>\n      <td>8</td>\n      <td>94.0</td>\n      <td>104.0</td>\n      <td>106.0</td>\n      <td>99.0</td>\n      <td>77.0</td>\n      <td>82.0</td>\n      <td>...</td>\n      <td>86.0</td>\n      <td>97.0</td>\n      <td>104.0</td>\n      <td>96.0</td>\n      <td>85.0</td>\n      <td>88.0</td>\n      <td>90.0</td>\n      <td>99.0</td>\n      <td>108.0</td>\n      <td>98.0</td>\n    </tr>\n    <tr>\n      <th>7262</th>\n      <td>60</td>\n      <td>14</td>\n      <td>2019</td>\n      <td>9</td>\n      <td>88.0</td>\n      <td>82.0</td>\n      <td>80.0</td>\n      <td>92.0</td>\n      <td>79.0</td>\n      <td>75.0</td>\n      <td>...</td>\n      <td>59.0</td>\n      <td>46.0</td>\n      <td>49.0</td>\n      <td>69.0</td>\n      <td>57.0</td>\n      <td>54.0</td>\n      <td>68.0</td>\n      <td>70.0</td>\n      <td>55.0</td>\n      <td>0.0</td>\n    </tr>\n    <tr>\n      <th>7263</th>\n      <td>60</td>\n      <td>14</td>\n      <td>2019</td>\n      <td>10</td>\n      <td>44.0</td>\n      <td>75.0</td>\n      <td>44.0</td>\n      <td>54.0</td>\n      <td>65.0</td>\n      <td>68.0</td>\n      <td>...</td>\n      <td>37.0</td>\n      <td>39.0</td>\n      <td>45.0</td>\n      <td>21.0</td>\n      <td>23.0</td>\n      <td>28.0</td>\n      <td>33.0</td>\n      <td>16.0</td>\n      <td>19.0</td>\n      <td>47.0</td>\n    </tr>\n    <tr>\n      <th>7264</th>\n      <td>60</td>\n      <td>14</td>\n      <td>2019</td>\n      <td>11</td>\n      <td>41.0</td>\n      <td>55.0</td>\n      <td>79.0</td>\n      <td>65.0</td>\n      <td>64.0</td>\n      <td>51.0</td>\n      <td>...</td>\n      <td>38.0</td>\n      <td>75.0</td>\n      <td>69.0</td>\n      <td>45.0</td>\n      <td>35.0</td>\n      <td>55.0</td>\n      <td>52.0</td>\n      <td>47.0</td>\n      <td>56.0</td>\n      <td>0.0</td>\n    </tr>\n    <tr>\n      <th>7265</th>\n      <td>60</td>\n      <td>14</td>\n      <td>2019</td>\n      <td>12</td>\n      <td>47.0</td>\n      <td>53.0</td>\n      <td>45.0</td>\n      <td>44.0</td>\n      <td>49.0</td>\n      <td>41.0</td>\n      <td>...</td>\n      <td>68.0</td>\n      <td>36.0</td>\n      <td>9.0</td>\n      <td>11.0</td>\n      <td>10.0</td>\n      <td>17.0</td>\n      <td>13.0</td>\n      <td>14.0</td>\n      <td>5.0</td>\n      <td>4.0</td>\n    </tr>\n  </tbody>\n</table>\n<p>7266 rows × 35 columns</p>\n</div>"
     },
     "metadata": {},
     "execution_count": 81
    }
   ],
   "source": [
    "\n",
    "# Guardo nombre de columnas en una Lista para poder pasar más facil los valores a .loc\n",
    "columnasFiltradas = [\"ESTACION\",\"MAGNITUD\",\"ANO\",\"MES\",\"D01\",\"D02\",\"D03\",\"D04\",\"D05\",\"D06\",\"D07\",\"D08\",\n",
    "                    \"D09\",\"D10\",\"D11\",\"D12\",\"D13\",\"D14\",\"D15\",\"D16\",\"D17\",\"D18\",\"D19\",\"D20\",\"D21\",\"D22\",\n",
    "                    \"D23\",\"D24\",\"D25\",\"D26\",\"D27\",\"D28\",\"D29\",\"D30\",\"D31\"]\n",
    "\n",
    "# .loc[filas que quiero, columnas que quiero]\n",
    "# \":\" -> Me toma TODAS las filas\n",
    "\n",
    "dfFiltrado = dfPrincipal.loc[:,columnasFiltradas]\n",
    "dfFiltrado"
   ]
  },
  {
   "source": [
    "3. Reestructurar el DataFrame para que los valores de los contaminantes de las columnas de los días aparezcan en una única columna."
   ],
   "cell_type": "markdown",
   "metadata": {}
  },
  {
   "cell_type": "code",
   "execution_count": 82,
   "metadata": {},
   "outputs": [
    {
     "output_type": "execute_result",
     "data": {
      "text/plain": [
       "        PROVINCIA  MUNICIPIO  ESTACION PUNTO_MUESTREO  MAGNITUD   ANO  MES  \\\n",
       "0              28         79         4  28079004_1_38         1  2016    1   \n",
       "1              28         79         4  28079004_1_38         1  2016    2   \n",
       "2              28         79         4  28079004_1_38         1  2016    3   \n",
       "3              28         79         4  28079004_1_38         1  2016    4   \n",
       "4              28         79         4  28079004_1_38         1  2016    5   \n",
       "...           ...        ...       ...            ...       ...   ...  ...   \n",
       "225241         28         79        60  28079060_14_6        14  2019    8   \n",
       "225242         28         79        60  28079060_14_6        14  2019    9   \n",
       "225243         28         79        60  28079060_14_6        14  2019   10   \n",
       "225244         28         79        60  28079060_14_6        14  2019   11   \n",
       "225245         28         79        60  28079060_14_6        14  2019   12   \n",
       "\n",
       "        DIA  VALOR  \n",
       "0       D01    8.0  \n",
       "1       D01   12.0  \n",
       "2       D01   11.0  \n",
       "3       D01    8.0  \n",
       "4       D01    7.0  \n",
       "...     ...    ...  \n",
       "225241  D31   98.0  \n",
       "225242  D31    0.0  \n",
       "225243  D31   47.0  \n",
       "225244  D31    0.0  \n",
       "225245  D31    4.0  \n",
       "\n",
       "[225246 rows x 9 columns]"
      ],
      "text/html": "<div>\n<style scoped>\n    .dataframe tbody tr th:only-of-type {\n        vertical-align: middle;\n    }\n\n    .dataframe tbody tr th {\n        vertical-align: top;\n    }\n\n    .dataframe thead th {\n        text-align: right;\n    }\n</style>\n<table border=\"1\" class=\"dataframe\">\n  <thead>\n    <tr style=\"text-align: right;\">\n      <th></th>\n      <th>PROVINCIA</th>\n      <th>MUNICIPIO</th>\n      <th>ESTACION</th>\n      <th>PUNTO_MUESTREO</th>\n      <th>MAGNITUD</th>\n      <th>ANO</th>\n      <th>MES</th>\n      <th>DIA</th>\n      <th>VALOR</th>\n    </tr>\n  </thead>\n  <tbody>\n    <tr>\n      <th>0</th>\n      <td>28</td>\n      <td>79</td>\n      <td>4</td>\n      <td>28079004_1_38</td>\n      <td>1</td>\n      <td>2016</td>\n      <td>1</td>\n      <td>D01</td>\n      <td>8.0</td>\n    </tr>\n    <tr>\n      <th>1</th>\n      <td>28</td>\n      <td>79</td>\n      <td>4</td>\n      <td>28079004_1_38</td>\n      <td>1</td>\n      <td>2016</td>\n      <td>2</td>\n      <td>D01</td>\n      <td>12.0</td>\n    </tr>\n    <tr>\n      <th>2</th>\n      <td>28</td>\n      <td>79</td>\n      <td>4</td>\n      <td>28079004_1_38</td>\n      <td>1</td>\n      <td>2016</td>\n      <td>3</td>\n      <td>D01</td>\n      <td>11.0</td>\n    </tr>\n    <tr>\n      <th>3</th>\n      <td>28</td>\n      <td>79</td>\n      <td>4</td>\n      <td>28079004_1_38</td>\n      <td>1</td>\n      <td>2016</td>\n      <td>4</td>\n      <td>D01</td>\n      <td>8.0</td>\n    </tr>\n    <tr>\n      <th>4</th>\n      <td>28</td>\n      <td>79</td>\n      <td>4</td>\n      <td>28079004_1_38</td>\n      <td>1</td>\n      <td>2016</td>\n      <td>5</td>\n      <td>D01</td>\n      <td>7.0</td>\n    </tr>\n    <tr>\n      <th>...</th>\n      <td>...</td>\n      <td>...</td>\n      <td>...</td>\n      <td>...</td>\n      <td>...</td>\n      <td>...</td>\n      <td>...</td>\n      <td>...</td>\n      <td>...</td>\n    </tr>\n    <tr>\n      <th>225241</th>\n      <td>28</td>\n      <td>79</td>\n      <td>60</td>\n      <td>28079060_14_6</td>\n      <td>14</td>\n      <td>2019</td>\n      <td>8</td>\n      <td>D31</td>\n      <td>98.0</td>\n    </tr>\n    <tr>\n      <th>225242</th>\n      <td>28</td>\n      <td>79</td>\n      <td>60</td>\n      <td>28079060_14_6</td>\n      <td>14</td>\n      <td>2019</td>\n      <td>9</td>\n      <td>D31</td>\n      <td>0.0</td>\n    </tr>\n    <tr>\n      <th>225243</th>\n      <td>28</td>\n      <td>79</td>\n      <td>60</td>\n      <td>28079060_14_6</td>\n      <td>14</td>\n      <td>2019</td>\n      <td>10</td>\n      <td>D31</td>\n      <td>47.0</td>\n    </tr>\n    <tr>\n      <th>225244</th>\n      <td>28</td>\n      <td>79</td>\n      <td>60</td>\n      <td>28079060_14_6</td>\n      <td>14</td>\n      <td>2019</td>\n      <td>11</td>\n      <td>D31</td>\n      <td>0.0</td>\n    </tr>\n    <tr>\n      <th>225245</th>\n      <td>28</td>\n      <td>79</td>\n      <td>60</td>\n      <td>28079060_14_6</td>\n      <td>14</td>\n      <td>2019</td>\n      <td>12</td>\n      <td>D31</td>\n      <td>4.0</td>\n    </tr>\n  </tbody>\n</table>\n<p>225246 rows × 9 columns</p>\n</div>"
     },
     "metadata": {},
     "execution_count": 82
    }
   ],
   "source": [
    "dias = [\"D01\",\"D02\",\"D03\",\"D04\",\"D05\",\"D06\",\"D07\",\"D08\",\n",
    "        \"D09\",\"D10\",\"D11\",\"D12\",\"D13\",\"D14\",\"D15\",\"D16\",\"D17\",\"D18\",\"D19\",\"D20\",\n",
    "        \"D21\",\"D22\",\"D23\",\"D24\",\"D25\",\"D26\",\"D27\",\"D28\",\"D29\",\"D30\",\"D31\"]\n",
    "\n",
    "columnasNecesarias = ['PROVINCIA', 'MUNICIPIO', 'ESTACION', 'PUNTO_MUESTREO','MAGNITUD','ANO','MES']\n",
    "\n",
    "\n",
    "# .copy(): crea un DataFrame nuevo que no este linkeado al que se le pasa.\n",
    "# Ver \"5-Listas.pdf Seccion - 6. Copia de Listas\"\n",
    "dfValuesPerDay = pd.DataFrame.copy(dfPrincipal)\n",
    "\n",
    "\n",
    "'''\n",
    "melt()\n",
    "id_vars     ->  Columnas que vas a tomar y no queres que se modifiquen.\n",
    "var_name    ->  Nombre de la nueva columna que queres.\n",
    "value_name  ->  Nombre de la nueva columna del valor que esta asociada a var_name.\n",
    "value_vars  ->  Vincula las columnas con var_name y los valores con value_name.\n",
    "'''\n",
    "\n",
    "dfValuesPerDay = dfValuesPerDay.melt(id_vars = columnasNecesarias, \n",
    "                                     value_vars=dias, var_name='DIA',\n",
    "                                     value_name = 'VALOR')\n",
    "\n",
    "dfValuesPerDay"
   ]
  },
  {
   "source": [
    "4. Añadir una columna con la fecha a partir de la concatenación del año, el mes y el día (usar el módulo datetime)."
   ],
   "cell_type": "markdown",
   "metadata": {}
  },
  {
   "cell_type": "code",
   "execution_count": 83,
   "metadata": {},
   "outputs": [
    {
     "output_type": "execute_result",
     "data": {
      "text/plain": [
       "        PROVINCIA  MUNICIPIO  ESTACION PUNTO_MUESTREO  MAGNITUD   ANO  MES  \\\n",
       "0              28         79         4  28079004_1_38         1  2016    1   \n",
       "1              28         79         4  28079004_1_38         1  2016    2   \n",
       "2              28         79         4  28079004_1_38         1  2016    3   \n",
       "3              28         79         4  28079004_1_38         1  2016    4   \n",
       "4              28         79         4  28079004_1_38         1  2016    5   \n",
       "...           ...        ...       ...            ...       ...   ...  ...   \n",
       "225241         28         79        60  28079060_14_6        14  2019    8   \n",
       "225242         28         79        60  28079060_14_6        14  2019    9   \n",
       "225243         28         79        60  28079060_14_6        14  2019   10   \n",
       "225244         28         79        60  28079060_14_6        14  2019   11   \n",
       "225245         28         79        60  28079060_14_6        14  2019   12   \n",
       "\n",
       "        DIA  VALOR      FECHA  \n",
       "0         1    8.0 2016-01-01  \n",
       "1         1   12.0 2016-02-01  \n",
       "2         1   11.0 2016-03-01  \n",
       "3         1    8.0 2016-04-01  \n",
       "4         1    7.0 2016-05-01  \n",
       "...     ...    ...        ...  \n",
       "225241   31   98.0 2019-08-31  \n",
       "225242   31    0.0        NaT  \n",
       "225243   31   47.0 2019-10-31  \n",
       "225244   31    0.0        NaT  \n",
       "225245   31    4.0 2019-12-31  \n",
       "\n",
       "[225246 rows x 10 columns]"
      ],
      "text/html": "<div>\n<style scoped>\n    .dataframe tbody tr th:only-of-type {\n        vertical-align: middle;\n    }\n\n    .dataframe tbody tr th {\n        vertical-align: top;\n    }\n\n    .dataframe thead th {\n        text-align: right;\n    }\n</style>\n<table border=\"1\" class=\"dataframe\">\n  <thead>\n    <tr style=\"text-align: right;\">\n      <th></th>\n      <th>PROVINCIA</th>\n      <th>MUNICIPIO</th>\n      <th>ESTACION</th>\n      <th>PUNTO_MUESTREO</th>\n      <th>MAGNITUD</th>\n      <th>ANO</th>\n      <th>MES</th>\n      <th>DIA</th>\n      <th>VALOR</th>\n      <th>FECHA</th>\n    </tr>\n  </thead>\n  <tbody>\n    <tr>\n      <th>0</th>\n      <td>28</td>\n      <td>79</td>\n      <td>4</td>\n      <td>28079004_1_38</td>\n      <td>1</td>\n      <td>2016</td>\n      <td>1</td>\n      <td>1</td>\n      <td>8.0</td>\n      <td>2016-01-01</td>\n    </tr>\n    <tr>\n      <th>1</th>\n      <td>28</td>\n      <td>79</td>\n      <td>4</td>\n      <td>28079004_1_38</td>\n      <td>1</td>\n      <td>2016</td>\n      <td>2</td>\n      <td>1</td>\n      <td>12.0</td>\n      <td>2016-02-01</td>\n    </tr>\n    <tr>\n      <th>2</th>\n      <td>28</td>\n      <td>79</td>\n      <td>4</td>\n      <td>28079004_1_38</td>\n      <td>1</td>\n      <td>2016</td>\n      <td>3</td>\n      <td>1</td>\n      <td>11.0</td>\n      <td>2016-03-01</td>\n    </tr>\n    <tr>\n      <th>3</th>\n      <td>28</td>\n      <td>79</td>\n      <td>4</td>\n      <td>28079004_1_38</td>\n      <td>1</td>\n      <td>2016</td>\n      <td>4</td>\n      <td>1</td>\n      <td>8.0</td>\n      <td>2016-04-01</td>\n    </tr>\n    <tr>\n      <th>4</th>\n      <td>28</td>\n      <td>79</td>\n      <td>4</td>\n      <td>28079004_1_38</td>\n      <td>1</td>\n      <td>2016</td>\n      <td>5</td>\n      <td>1</td>\n      <td>7.0</td>\n      <td>2016-05-01</td>\n    </tr>\n    <tr>\n      <th>...</th>\n      <td>...</td>\n      <td>...</td>\n      <td>...</td>\n      <td>...</td>\n      <td>...</td>\n      <td>...</td>\n      <td>...</td>\n      <td>...</td>\n      <td>...</td>\n      <td>...</td>\n    </tr>\n    <tr>\n      <th>225241</th>\n      <td>28</td>\n      <td>79</td>\n      <td>60</td>\n      <td>28079060_14_6</td>\n      <td>14</td>\n      <td>2019</td>\n      <td>8</td>\n      <td>31</td>\n      <td>98.0</td>\n      <td>2019-08-31</td>\n    </tr>\n    <tr>\n      <th>225242</th>\n      <td>28</td>\n      <td>79</td>\n      <td>60</td>\n      <td>28079060_14_6</td>\n      <td>14</td>\n      <td>2019</td>\n      <td>9</td>\n      <td>31</td>\n      <td>0.0</td>\n      <td>NaT</td>\n    </tr>\n    <tr>\n      <th>225243</th>\n      <td>28</td>\n      <td>79</td>\n      <td>60</td>\n      <td>28079060_14_6</td>\n      <td>14</td>\n      <td>2019</td>\n      <td>10</td>\n      <td>31</td>\n      <td>47.0</td>\n      <td>2019-10-31</td>\n    </tr>\n    <tr>\n      <th>225244</th>\n      <td>28</td>\n      <td>79</td>\n      <td>60</td>\n      <td>28079060_14_6</td>\n      <td>14</td>\n      <td>2019</td>\n      <td>11</td>\n      <td>31</td>\n      <td>0.0</td>\n      <td>NaT</td>\n    </tr>\n    <tr>\n      <th>225245</th>\n      <td>28</td>\n      <td>79</td>\n      <td>60</td>\n      <td>28079060_14_6</td>\n      <td>14</td>\n      <td>2019</td>\n      <td>12</td>\n      <td>31</td>\n      <td>4.0</td>\n      <td>2019-12-31</td>\n    </tr>\n  </tbody>\n</table>\n<p>225246 rows × 10 columns</p>\n</div>"
     },
     "metadata": {},
     "execution_count": 83
    }
   ],
   "source": [
    "conversionDic = {'D01': 1, \"D02\": 2,\"D03\": 3,\"D04\": 4,\"D05\": 5,\"D06\": 6,\"D07\": 7,\"D08\": 8,\n",
    "                 \"D09\": 9,\"D10\": 10,\"D11\": 11,\"D12\": 12,\"D13\": 13,\"D14\": 14,\"D15\": 15,\"D16\": 16,\"D17\": 17,\"D18\": 18,\"D19\": 19,\"D20\": 20,\n",
    "                 \"D21\":21,\"D22\": 22,\"D23\": 23,\"D24\": 24,\"D25\": 25,\"D26\": 26,\"D27\": 27,\"D28\": 28,\"D29\": 29,\"D30\": 30,\"D31\": 31}\n",
    "\n",
    "\n",
    "dfDate = pd.DataFrame.copy(dfValuesPerDay)\n",
    "\n",
    "# replace() -> Itera por el DataFrame donde busca la Key y reemplaza por el valor.\n",
    "\n",
    "'''\n",
    "ALTERNATIVAS\n",
    "    A. dfDate = dfDate.replace(diccionario)\n",
    "    B. dfDate.replace(diccionario, inplace=True)\n",
    "'''\n",
    "dfDate.replace(conversionDic, inplace=True)\n",
    "\n",
    "# Explicar despues.\n",
    "fechas = pd.DataFrame([dfDate['ANO'], dfDate['MES'], dfDate['DIA']]).T\n",
    "fechas.rename(columns={'ANO':'year', 'MES':'month', 'DIA':'day'}, inplace=True)\n",
    "fechas = pd.to_datetime(fechas, format='%d-%m-%Y', errors='coerce')\n",
    "\n",
    "dfDate['FECHA'] = fechas\n",
    "dfDate"
   ]
  },
  {
   "source": [
    "5. Eliminar las filas con fechas no válidas (utilizar la función isnat del módulo numpy) y ordenar el DataFrame por estaciones, contaminantes y fecha."
   ],
   "cell_type": "markdown",
   "metadata": {}
  },
  {
   "cell_type": "code",
   "execution_count": 84,
   "metadata": {},
   "outputs": [
    {
     "output_type": "execute_result",
     "data": {
      "text/plain": [
       "        ESTACION  MAGNITUD      FECHA  PROVINCIA  MUNICIPIO PUNTO_MUESTREO  \\\n",
       "0              4         1 2016-01-01         28         79  28079004_1_38   \n",
       "1              4         1 2016-01-02         28         79  28079004_1_38   \n",
       "2              4         1 2016-01-03         28         79  28079004_1_38   \n",
       "3              4         1 2016-01-04         28         79  28079004_1_38   \n",
       "4              4         1 2016-01-05         28         79  28079004_1_38   \n",
       "...          ...       ...        ...        ...        ...            ...   \n",
       "221153        60        14 2019-12-27         28         79  28079060_14_6   \n",
       "221154        60        14 2019-12-28         28         79  28079060_14_6   \n",
       "221155        60        14 2019-12-29         28         79  28079060_14_6   \n",
       "221156        60        14 2019-12-30         28         79  28079060_14_6   \n",
       "221157        60        14 2019-12-31         28         79  28079060_14_6   \n",
       "\n",
       "        VALOR  \n",
       "0         8.0  \n",
       "1         7.0  \n",
       "2         6.0  \n",
       "3         6.0  \n",
       "4         7.0  \n",
       "...       ...  \n",
       "221153   17.0  \n",
       "221154   13.0  \n",
       "221155   14.0  \n",
       "221156    5.0  \n",
       "221157    4.0  \n",
       "\n",
       "[221158 rows x 7 columns]"
      ],
      "text/html": "<div>\n<style scoped>\n    .dataframe tbody tr th:only-of-type {\n        vertical-align: middle;\n    }\n\n    .dataframe tbody tr th {\n        vertical-align: top;\n    }\n\n    .dataframe thead th {\n        text-align: right;\n    }\n</style>\n<table border=\"1\" class=\"dataframe\">\n  <thead>\n    <tr style=\"text-align: right;\">\n      <th></th>\n      <th>ESTACION</th>\n      <th>MAGNITUD</th>\n      <th>FECHA</th>\n      <th>PROVINCIA</th>\n      <th>MUNICIPIO</th>\n      <th>PUNTO_MUESTREO</th>\n      <th>VALOR</th>\n    </tr>\n  </thead>\n  <tbody>\n    <tr>\n      <th>0</th>\n      <td>4</td>\n      <td>1</td>\n      <td>2016-01-01</td>\n      <td>28</td>\n      <td>79</td>\n      <td>28079004_1_38</td>\n      <td>8.0</td>\n    </tr>\n    <tr>\n      <th>1</th>\n      <td>4</td>\n      <td>1</td>\n      <td>2016-01-02</td>\n      <td>28</td>\n      <td>79</td>\n      <td>28079004_1_38</td>\n      <td>7.0</td>\n    </tr>\n    <tr>\n      <th>2</th>\n      <td>4</td>\n      <td>1</td>\n      <td>2016-01-03</td>\n      <td>28</td>\n      <td>79</td>\n      <td>28079004_1_38</td>\n      <td>6.0</td>\n    </tr>\n    <tr>\n      <th>3</th>\n      <td>4</td>\n      <td>1</td>\n      <td>2016-01-04</td>\n      <td>28</td>\n      <td>79</td>\n      <td>28079004_1_38</td>\n      <td>6.0</td>\n    </tr>\n    <tr>\n      <th>4</th>\n      <td>4</td>\n      <td>1</td>\n      <td>2016-01-05</td>\n      <td>28</td>\n      <td>79</td>\n      <td>28079004_1_38</td>\n      <td>7.0</td>\n    </tr>\n    <tr>\n      <th>...</th>\n      <td>...</td>\n      <td>...</td>\n      <td>...</td>\n      <td>...</td>\n      <td>...</td>\n      <td>...</td>\n      <td>...</td>\n    </tr>\n    <tr>\n      <th>221153</th>\n      <td>60</td>\n      <td>14</td>\n      <td>2019-12-27</td>\n      <td>28</td>\n      <td>79</td>\n      <td>28079060_14_6</td>\n      <td>17.0</td>\n    </tr>\n    <tr>\n      <th>221154</th>\n      <td>60</td>\n      <td>14</td>\n      <td>2019-12-28</td>\n      <td>28</td>\n      <td>79</td>\n      <td>28079060_14_6</td>\n      <td>13.0</td>\n    </tr>\n    <tr>\n      <th>221155</th>\n      <td>60</td>\n      <td>14</td>\n      <td>2019-12-29</td>\n      <td>28</td>\n      <td>79</td>\n      <td>28079060_14_6</td>\n      <td>14.0</td>\n    </tr>\n    <tr>\n      <th>221156</th>\n      <td>60</td>\n      <td>14</td>\n      <td>2019-12-30</td>\n      <td>28</td>\n      <td>79</td>\n      <td>28079060_14_6</td>\n      <td>5.0</td>\n    </tr>\n    <tr>\n      <th>221157</th>\n      <td>60</td>\n      <td>14</td>\n      <td>2019-12-31</td>\n      <td>28</td>\n      <td>79</td>\n      <td>28079060_14_6</td>\n      <td>4.0</td>\n    </tr>\n  </tbody>\n</table>\n<p>221158 rows × 7 columns</p>\n</div>"
     },
     "metadata": {},
     "execution_count": 84
    }
   ],
   "source": [
    "# dropna(): Itera en todo el DF y donde encuentra un NaN/NaT, elimina la fila. \n",
    "\n",
    "dfDate1 = dfDate.dropna()\n",
    "\n",
    "'''\n",
    "dfDate[dfDate.FECHA.notnull()]  -> Verificacion que hicimos para chequear coincidencia de filas.\n",
    "'''\n",
    "\n",
    "'''\n",
    "sort_values() -> Pasas las columnas en el orden que quiere ordenar.\n",
    "    ascending=True  ->  Menor a Mayor.\n",
    "'''\n",
    "dfDate1.sort_values([\"ESTACION\",\"MAGNITUD\",\"FECHA\",\"VALOR\"], ascending=True, inplace=True)\n",
    "\n",
    "# .loc[filas que quiero, columnas que quiero]\n",
    "# \":\" -> Me toma TODAS las filas\n",
    "dfDate1 = dfDate1.loc[:, [\"ESTACION\", \"MAGNITUD\", \"FECHA\", \"PROVINCIA\", \"MUNICIPIO\", \"PUNTO_MUESTREO\", \"VALOR\"]]\n",
    "\n",
    "'''\n",
    "reset_index(): Me reemplaza los indices viejos por nuevos ordenadas de menor a mayor.\n",
    "    drop=False: Por defecto esta en False, inserta una nueva columna con el indice viejo.\n",
    "'''\n",
    "dfDate1.reset_index(drop=True, inplace=True)\n",
    "dfDate1"
   ]
  },
  {
   "source": [
    "6. Mostrar por pantalla las estaciones y los contaminantes disponibles en el DF"
   ],
   "cell_type": "markdown",
   "metadata": {}
  },
  {
   "cell_type": "code",
   "execution_count": 85,
   "metadata": {
    "tags": []
   },
   "outputs": [
    {
     "output_type": "stream",
     "name": "stdout",
     "text": [
      "Estaciones disponibles: \n\t- Pza. de España\n\t- Escuelas aguirre\n\t- Av. Ramon y Cajal\n\t- Arturo Soria\n\t- Villaverde Alto\n\t- Calle Farolito\n\t- Casa de campo\n\t- Barajas\n\t- Plaza del Carmen\n\t- Morataz\n\t- Cuatro caminos\n\t- Barrio del pilar\n\t- Vallecas\n\t- Mendez Alvaro\n\t- P°. Castellana\n\t- Retiro\n\t- Pza. Castilla\n\t- Ensanche Vallecas\n\t- Urb. Embajada (Barajas)\n\t- Plaza Eliptica\n\t- Sanchincharro\n\t- El Pardo\n\t- Parque Juan Carlos 1°\n\t- Tres Olivos\nMagnitudes disponibles: \n\t- Dioxido de Azufre\n\t- Monoxido de Carbono\n\t- Monoxido de Nitrogeno\n\t- Dioxido de Nitrogeno\n\t- Oxidos de Nitrogeno\n\t- Particulas < 2.5 um\n\t- Particulas < 10 um\n\t- Ozono\n\t- Tolueno\n\t- Benceno\n\t- Etilbenceno\n\t- Hidrocarburos totales(hexano)\n\t- Metano\n\t- Hidrocarburos no metánicos (hexano)\n"
     ]
    }
   ],
   "source": [
    "\n",
    "listaNumerosEstaciones = [] #Para almacenar los códigos de las estaciones\n",
    "listaNombresEstaciones = [] #Para almacenar los nombres de las estaciones\n",
    "\n",
    "listaNumerosMagnitudes = [] #Para almacenar los códigos de los contaminantes\n",
    "listaNombresMagnitudes = [] #Para almacenar los nombres de los contaminantes\n",
    "\n",
    "estaciones = {1: \"P. Recoletos\", 2: \"Glta. de Carlos V\", 35: \"Plaza del Carmen\", 4: \"Pza. de España\", 39: \"Barrio del pilar\",\n",
    "6: \"Pza. Dr. Marañon\", 7: \"Pza. M. de Salamanca\", 8: \"Escuelas aguirre\", 9: \"Pza. Luca de Tena\", 38: \"Cuatro caminos\",\n",
    "11: \"Av. Ramon y Cajal\", 12: \"Pza. Manuel Becerra\", 40: \"Vallecas\", 14: \"Pza. Fdez. Ladreda\", 15: \"Pza. Castilla\", 16: \"Arturo Soria\",\n",
    "17: \"Villaverde Alto\", 18: \"Calle Farolito\", 19: \"Huerta Castañeda\", 36: \"Morataz\", 21: \"Pza. Cristo Rey\", 22: \"P°. Fontones\", 23: \"Final C/ Alcala\",\n",
    "24: \"Casa de campo\", 25: \"Santa Eugenia\", 26: \"Urb. Embajada (Barajas)\", 27: \"Barajas\", 47: \"Mendez Alvaro\", 48: \"P°. Castellana\",\n",
    "49: \"Retiro\", 50: \"Pza. Castilla\", 54: \"Ensanche Vallecas\", 55: \"Urb. Embajada (Barajas)\", 56: \"Plaza Eliptica\", 57: \"Sanchincharro\", \n",
    "58: \"El Pardo\", 59: \"Parque Juan Carlos 1°\", 60: \"Tres Olivos\"} #Diccionario de estaciones, cada una asignada a su código\n",
    "\n",
    "contaminantes = {1: \"Dioxido de Azufre\", 6: \"Monoxido de Carbono\", 7: \"Monoxido de Nitrogeno\", 8: \"Dioxido de Nitrogeno\", 9: \"Particulas < 2.5 um\",\n",
    "10: \"Particulas < 10 um\", 12: \"Oxidos de Nitrogeno\", 14: \"Ozono\", 20: \"Tolueno\", 30: \"Benceno\", 35: \"Etilbenceno\", 37: \"Metaxileno\", 38: \"Paraxileno\",\n",
    "39: \"Ortoxileno\", 42: \"Hidrocarburos totales(hexano)\", 43: \"Metano\", 44: \"Hidrocarburos no metánicos (hexano)\"} \n",
    "#Diccionario de contaminantes, cada una asignada a su código\n",
    "\n",
    "\n",
    "def mostrarEstaciones(estaciones):\n",
    "    print('Estaciones disponibles: ')\n",
    "    for estacion in estaciones:\n",
    "        print('\\t-', estacion)\n",
    "\n",
    "def mostrarMagnitudes(magnitudes):\n",
    "    print('Magnitudes disponibles: ')\n",
    "    for magnitud in magnitudes:\n",
    "        print('\\t-', magnitud)\n",
    "\n",
    "def obtenerListaDeNumeros(dataframe, columna, listaNumeros):\n",
    "    '''\n",
    "    La funcion \"obtenerListaDeNumeros\", segun el Dataframe y el N° de columna que le pasemos como parámetro, nos da TODOS los datos de esa columna\n",
    "    (va recorriendo fila a fila hasta el fin del Dataframe) almacenandolos en una lista que tambien le pasamos por parámetro. En este caso, nos sirven\n",
    "    las columnas 2 y 3 (la columna 2 es la de las estaciones y la 3 la de los contaminantes). (Nos almacena los códigos de las estaciones/contaminantes en una lista).\n",
    "    '''\n",
    "    for i in range(0, len(dataframe)):\n",
    "        listaNumeros.append(dataframe.iloc[i, columna])\n",
    "\n",
    "\n",
    "\n",
    "\n",
    "def obtenerListaDeNombres(listaNumeros, listaNombres, diccionario):\n",
    "    '''\n",
    "    A la funcion \"obtenerListaDeNombres\" le pasamos como parámetro la lista de códigos, una lista vacía donde almacenaremos los nombres \n",
    "    de las estaciones/contaminantes y el diccionario de estaciones/contaminantes (definidos arriba). \n",
    "    Lo que hace es ir agregando a la lista de nombres el nombre con el que matchee el contenido de la posicion \"i\" de la lista en el diccionario. \n",
    "    Por ejemplo, si i = 0, tenemos listaNombres.append(contaminantes[listaNumerosContaminantes[0]]), y en la posicion 0 de la lista de numeros\n",
    "    esta el código 1, vamos al diccionario contaminantes y buscamos qué nombre de contaminante está asociado al código 1, y lo agrega a la lista, y sigue recorriendo\n",
    "    la lista de numeros hasta que llegue al final de esta lista (no quedan más codigos por asignar).\n",
    "    '''\n",
    "    for i in range(0, len(listaNumeros)):\n",
    "        listaNombres.append(diccionario[listaNumeros[i]])\n",
    "\n",
    "\n",
    "\n",
    "def eliminarValoresRepetidos(lista):\n",
    "    '''\n",
    "    Por último, como en la lista de nombres nos van a quedar muchos nombres repetidos, los tenemos que eliminar. Entonces le pasamos a esta funcion\n",
    "    la lista de nombres como parámetro, y con ella se crea una nueva lista a partir de un diccionario que tendrá como KEYS a los nombres de esta lista. \n",
    "    La característica de los diccionarios es que no puede haber keys idénticas, por lo que aquellas que estén repetidas las elimina (y luego se crea una lista con \n",
    "    estas keys). Como resultado, nos printea la lista obtenida con los nombres de los estaciones/contaminantes que hay en el Dataframe sin repetir.\n",
    "    '''\n",
    "    return list(dict.fromkeys(lista))\n",
    "\n",
    "\n",
    "\n",
    "\n",
    "obtenerListaDeNumeros(dfPrincipal, 2, listaNumerosEstaciones)\n",
    "# Prueba para ver la lista de numeros luego de aplicar obtenerListaDeNumeros -> print(listaNumerosEstaciones)\n",
    "obtenerListaDeNombres(listaNumerosEstaciones, listaNombresEstaciones, estaciones)\n",
    "# Prueba para ver la lista de nombres (incluidos los repetidos) luego de aplicar obtenerListaDeNombres -> print(listaNombresEstaciones) \n",
    "listaEstacionesActualizada = eliminarValoresRepetidos(listaNombresEstaciones) # -> Ya nos devuelve el resultado final\n",
    "\n",
    "obtenerListaDeNumeros(dfPrincipal, 3, listaNumerosMagnitudes)\n",
    "# Prueba para ver la lista de numeros luego de aplicar obtenerListaDeNumeros -> print(listaNumerosEstaciones)\n",
    "obtenerListaDeNombres(listaNumerosMagnitudes, listaNombresMagnitudes, contaminantes)\n",
    "# Prueba para ver la lista de nombres (incluidos los repetidos) luego de aplicar obtenerListaDeNombres  -> print(listaNombresEstaciones)\n",
    "listaMagnitudesActualizada = eliminarValoresRepetidos(listaNombresMagnitudes) # -> Ya nos devuelve el resultado final\n",
    "\n",
    "\n",
    "mostrarEstaciones(listaEstacionesActualizada)\n",
    "mostrarMagnitudes(listaMagnitudesActualizada)"
   ]
  },
  {
   "source": [
    "7. Mostrar un resumen descriptivo (mímino, máximo, media, etc) para cada contaminante.\n"
   ],
   "cell_type": "markdown",
   "metadata": {}
  },
  {
   "cell_type": "code",
   "execution_count": 86,
   "metadata": {},
   "outputs": [
    {
     "output_type": "execute_result",
     "data": {
      "text/plain": [
       "            VALOR                                                            \n",
       "            count       mean         std   min    25%    50%    75%       max\n",
       "MAGNITUD                                                                     \n",
       "1         14610.0   7.428953    7.012504  0.00   4.00   7.00  10.00    610.00\n",
       "6         14610.0   0.350233    0.215935  0.00   0.20   0.30   0.40     14.90\n",
       "7         35064.0  20.446412  135.123509  0.00   4.00   9.00  23.00  24742.00\n",
       "8         35064.0  37.677618   20.118050  0.00  22.00  35.00  50.00    148.00\n",
       "9          8948.0  10.087729   10.643591  0.00   6.00   9.00  13.00    850.00\n",
       "10        17897.0  18.772923   35.723619  0.00  10.00  16.00  24.00   4481.00\n",
       "12        35064.0  67.959417   61.443940  0.00  29.00  48.00  84.00   1005.00\n",
       "14        20454.0  49.941772   24.753120  0.00  31.00  52.00  69.00    336.00\n",
       "20         8766.0   2.364944    4.236706  0.00   0.80   1.60   2.80    195.00\n",
       "30         8766.0   0.531371    0.538180  0.00   0.20   0.40   0.70     15.10\n",
       "35         8766.0   0.479751    1.183618  0.00   0.10   0.20   0.50     35.70\n",
       "42         4383.0   1.400897    0.251836 -0.01   1.25   1.38   1.54      3.09\n",
       "43         4383.0   1.292923    0.230898 -0.14   1.17   1.28   1.43      2.77\n",
       "44         4383.0   0.108941    0.068776  0.00   0.06   0.10   0.14      1.31"
      ],
      "text/html": "<div>\n<style scoped>\n    .dataframe tbody tr th:only-of-type {\n        vertical-align: middle;\n    }\n\n    .dataframe tbody tr th {\n        vertical-align: top;\n    }\n\n    .dataframe thead tr th {\n        text-align: left;\n    }\n\n    .dataframe thead tr:last-of-type th {\n        text-align: right;\n    }\n</style>\n<table border=\"1\" class=\"dataframe\">\n  <thead>\n    <tr>\n      <th></th>\n      <th colspan=\"8\" halign=\"left\">VALOR</th>\n    </tr>\n    <tr>\n      <th></th>\n      <th>count</th>\n      <th>mean</th>\n      <th>std</th>\n      <th>min</th>\n      <th>25%</th>\n      <th>50%</th>\n      <th>75%</th>\n      <th>max</th>\n    </tr>\n    <tr>\n      <th>MAGNITUD</th>\n      <th></th>\n      <th></th>\n      <th></th>\n      <th></th>\n      <th></th>\n      <th></th>\n      <th></th>\n      <th></th>\n    </tr>\n  </thead>\n  <tbody>\n    <tr>\n      <th>1</th>\n      <td>14610.0</td>\n      <td>7.428953</td>\n      <td>7.012504</td>\n      <td>0.00</td>\n      <td>4.00</td>\n      <td>7.00</td>\n      <td>10.00</td>\n      <td>610.00</td>\n    </tr>\n    <tr>\n      <th>6</th>\n      <td>14610.0</td>\n      <td>0.350233</td>\n      <td>0.215935</td>\n      <td>0.00</td>\n      <td>0.20</td>\n      <td>0.30</td>\n      <td>0.40</td>\n      <td>14.90</td>\n    </tr>\n    <tr>\n      <th>7</th>\n      <td>35064.0</td>\n      <td>20.446412</td>\n      <td>135.123509</td>\n      <td>0.00</td>\n      <td>4.00</td>\n      <td>9.00</td>\n      <td>23.00</td>\n      <td>24742.00</td>\n    </tr>\n    <tr>\n      <th>8</th>\n      <td>35064.0</td>\n      <td>37.677618</td>\n      <td>20.118050</td>\n      <td>0.00</td>\n      <td>22.00</td>\n      <td>35.00</td>\n      <td>50.00</td>\n      <td>148.00</td>\n    </tr>\n    <tr>\n      <th>9</th>\n      <td>8948.0</td>\n      <td>10.087729</td>\n      <td>10.643591</td>\n      <td>0.00</td>\n      <td>6.00</td>\n      <td>9.00</td>\n      <td>13.00</td>\n      <td>850.00</td>\n    </tr>\n    <tr>\n      <th>10</th>\n      <td>17897.0</td>\n      <td>18.772923</td>\n      <td>35.723619</td>\n      <td>0.00</td>\n      <td>10.00</td>\n      <td>16.00</td>\n      <td>24.00</td>\n      <td>4481.00</td>\n    </tr>\n    <tr>\n      <th>12</th>\n      <td>35064.0</td>\n      <td>67.959417</td>\n      <td>61.443940</td>\n      <td>0.00</td>\n      <td>29.00</td>\n      <td>48.00</td>\n      <td>84.00</td>\n      <td>1005.00</td>\n    </tr>\n    <tr>\n      <th>14</th>\n      <td>20454.0</td>\n      <td>49.941772</td>\n      <td>24.753120</td>\n      <td>0.00</td>\n      <td>31.00</td>\n      <td>52.00</td>\n      <td>69.00</td>\n      <td>336.00</td>\n    </tr>\n    <tr>\n      <th>20</th>\n      <td>8766.0</td>\n      <td>2.364944</td>\n      <td>4.236706</td>\n      <td>0.00</td>\n      <td>0.80</td>\n      <td>1.60</td>\n      <td>2.80</td>\n      <td>195.00</td>\n    </tr>\n    <tr>\n      <th>30</th>\n      <td>8766.0</td>\n      <td>0.531371</td>\n      <td>0.538180</td>\n      <td>0.00</td>\n      <td>0.20</td>\n      <td>0.40</td>\n      <td>0.70</td>\n      <td>15.10</td>\n    </tr>\n    <tr>\n      <th>35</th>\n      <td>8766.0</td>\n      <td>0.479751</td>\n      <td>1.183618</td>\n      <td>0.00</td>\n      <td>0.10</td>\n      <td>0.20</td>\n      <td>0.50</td>\n      <td>35.70</td>\n    </tr>\n    <tr>\n      <th>42</th>\n      <td>4383.0</td>\n      <td>1.400897</td>\n      <td>0.251836</td>\n      <td>-0.01</td>\n      <td>1.25</td>\n      <td>1.38</td>\n      <td>1.54</td>\n      <td>3.09</td>\n    </tr>\n    <tr>\n      <th>43</th>\n      <td>4383.0</td>\n      <td>1.292923</td>\n      <td>0.230898</td>\n      <td>-0.14</td>\n      <td>1.17</td>\n      <td>1.28</td>\n      <td>1.43</td>\n      <td>2.77</td>\n    </tr>\n    <tr>\n      <th>44</th>\n      <td>4383.0</td>\n      <td>0.108941</td>\n      <td>0.068776</td>\n      <td>0.00</td>\n      <td>0.06</td>\n      <td>0.10</td>\n      <td>0.14</td>\n      <td>1.31</td>\n    </tr>\n  </tbody>\n</table>\n</div>"
     },
     "metadata": {},
     "execution_count": 86
    }
   ],
   "source": [
    "# .loc[filas que quiero, columnas que quiero]\n",
    "# \":\" -> Me toma TODAS las filas\n",
    "dDescripcion = dfDate1.loc[:, [\"MAGNITUD\",\"VALOR\"]]\n",
    "\n",
    "# groupby(): Agrupa valores que coinciden. Devuelve  un objeto, si o si tenes que pasarle alguna funcion.\n",
    "dDescripcion.groupby(\"MAGNITUD\").describe()\n"
   ]
  },
  {
   "source": [
    "8. Mostrar un resumen descriptivo para cada contaminente por distritos."
   ],
   "cell_type": "markdown",
   "metadata": {}
  },
  {
   "cell_type": "code",
   "execution_count": 87,
   "metadata": {},
   "outputs": [
    {
     "output_type": "execute_result",
     "data": {
      "text/plain": [
       "                    VALOR                                                \\\n",
       "                    count      mean        std   min   25%   50%    75%   \n",
       "MAGNITUD ESTACION                                                         \n",
       "1        4         1461.0  7.329911  16.379050  1.00  4.00  7.00   9.00   \n",
       "         8         1461.0  8.375770   4.364607  0.00  5.00  8.00  11.00   \n",
       "         17        1461.0  8.137577   7.523450  1.00  4.00  8.00  11.00   \n",
       "         18        1461.0  6.655715   3.995702  0.00  4.00  6.00   9.00   \n",
       "         24        1461.0  3.619439   1.479635  0.00  3.00  4.00   4.00   \n",
       "...                   ...       ...        ...   ...   ...   ...    ...   \n",
       "43       24        1461.0  1.169514   0.139236 -0.08  1.14  1.18   1.22   \n",
       "         55        1461.0  1.246242   0.207635 -0.14  1.14  1.27   1.36   \n",
       "44       8         1461.0  0.115688   0.072236  0.00  0.07  0.11   0.14   \n",
       "         24        1461.0  0.070520   0.034688  0.00  0.05  0.06   0.09   \n",
       "         55        1461.0  0.140616   0.072450  0.00  0.09  0.13   0.17   \n",
       "\n",
       "                           \n",
       "                      max  \n",
       "MAGNITUD ESTACION          \n",
       "1        4         610.00  \n",
       "         8          24.00  \n",
       "         17        234.00  \n",
       "         18         20.00  \n",
       "         24         33.00  \n",
       "...                   ...  \n",
       "43       24          1.97  \n",
       "         55          1.78  \n",
       "44       8           1.31  \n",
       "         24          0.44  \n",
       "         55          0.75  \n",
       "\n",
       "[153 rows x 8 columns]"
      ],
      "text/html": "<div>\n<style scoped>\n    .dataframe tbody tr th:only-of-type {\n        vertical-align: middle;\n    }\n\n    .dataframe tbody tr th {\n        vertical-align: top;\n    }\n\n    .dataframe thead tr th {\n        text-align: left;\n    }\n\n    .dataframe thead tr:last-of-type th {\n        text-align: right;\n    }\n</style>\n<table border=\"1\" class=\"dataframe\">\n  <thead>\n    <tr>\n      <th></th>\n      <th></th>\n      <th colspan=\"8\" halign=\"left\">VALOR</th>\n    </tr>\n    <tr>\n      <th></th>\n      <th></th>\n      <th>count</th>\n      <th>mean</th>\n      <th>std</th>\n      <th>min</th>\n      <th>25%</th>\n      <th>50%</th>\n      <th>75%</th>\n      <th>max</th>\n    </tr>\n    <tr>\n      <th>MAGNITUD</th>\n      <th>ESTACION</th>\n      <th></th>\n      <th></th>\n      <th></th>\n      <th></th>\n      <th></th>\n      <th></th>\n      <th></th>\n      <th></th>\n    </tr>\n  </thead>\n  <tbody>\n    <tr>\n      <th rowspan=\"5\" valign=\"top\">1</th>\n      <th>4</th>\n      <td>1461.0</td>\n      <td>7.329911</td>\n      <td>16.379050</td>\n      <td>1.00</td>\n      <td>4.00</td>\n      <td>7.00</td>\n      <td>9.00</td>\n      <td>610.00</td>\n    </tr>\n    <tr>\n      <th>8</th>\n      <td>1461.0</td>\n      <td>8.375770</td>\n      <td>4.364607</td>\n      <td>0.00</td>\n      <td>5.00</td>\n      <td>8.00</td>\n      <td>11.00</td>\n      <td>24.00</td>\n    </tr>\n    <tr>\n      <th>17</th>\n      <td>1461.0</td>\n      <td>8.137577</td>\n      <td>7.523450</td>\n      <td>1.00</td>\n      <td>4.00</td>\n      <td>8.00</td>\n      <td>11.00</td>\n      <td>234.00</td>\n    </tr>\n    <tr>\n      <th>18</th>\n      <td>1461.0</td>\n      <td>6.655715</td>\n      <td>3.995702</td>\n      <td>0.00</td>\n      <td>4.00</td>\n      <td>6.00</td>\n      <td>9.00</td>\n      <td>20.00</td>\n    </tr>\n    <tr>\n      <th>24</th>\n      <td>1461.0</td>\n      <td>3.619439</td>\n      <td>1.479635</td>\n      <td>0.00</td>\n      <td>3.00</td>\n      <td>4.00</td>\n      <td>4.00</td>\n      <td>33.00</td>\n    </tr>\n    <tr>\n      <th>...</th>\n      <th>...</th>\n      <td>...</td>\n      <td>...</td>\n      <td>...</td>\n      <td>...</td>\n      <td>...</td>\n      <td>...</td>\n      <td>...</td>\n      <td>...</td>\n    </tr>\n    <tr>\n      <th rowspan=\"2\" valign=\"top\">43</th>\n      <th>24</th>\n      <td>1461.0</td>\n      <td>1.169514</td>\n      <td>0.139236</td>\n      <td>-0.08</td>\n      <td>1.14</td>\n      <td>1.18</td>\n      <td>1.22</td>\n      <td>1.97</td>\n    </tr>\n    <tr>\n      <th>55</th>\n      <td>1461.0</td>\n      <td>1.246242</td>\n      <td>0.207635</td>\n      <td>-0.14</td>\n      <td>1.14</td>\n      <td>1.27</td>\n      <td>1.36</td>\n      <td>1.78</td>\n    </tr>\n    <tr>\n      <th rowspan=\"3\" valign=\"top\">44</th>\n      <th>8</th>\n      <td>1461.0</td>\n      <td>0.115688</td>\n      <td>0.072236</td>\n      <td>0.00</td>\n      <td>0.07</td>\n      <td>0.11</td>\n      <td>0.14</td>\n      <td>1.31</td>\n    </tr>\n    <tr>\n      <th>24</th>\n      <td>1461.0</td>\n      <td>0.070520</td>\n      <td>0.034688</td>\n      <td>0.00</td>\n      <td>0.05</td>\n      <td>0.06</td>\n      <td>0.09</td>\n      <td>0.44</td>\n    </tr>\n    <tr>\n      <th>55</th>\n      <td>1461.0</td>\n      <td>0.140616</td>\n      <td>0.072450</td>\n      <td>0.00</td>\n      <td>0.09</td>\n      <td>0.13</td>\n      <td>0.17</td>\n      <td>0.75</td>\n    </tr>\n  </tbody>\n</table>\n<p>153 rows × 8 columns</p>\n</div>"
     },
     "metadata": {},
     "execution_count": 87
    }
   ],
   "source": [
    "dDescripcion = dfDate1.loc[:, [\"MAGNITUD\",\"VALOR\",\"ESTACION\"]]\n",
    "\n",
    "dDescripcion.groupby([\"MAGNITUD\", \"ESTACION\"]).describe()"
   ]
  },
  {
   "source": [
    "9. Crear una función que reciba una estación, un contaminante y un rango de fechas y devuelva una serie\n",
    "con las emisiones del contaminante dado en la estación y rango de fechas dado."
   ],
   "cell_type": "markdown",
   "metadata": {}
  },
  {
   "cell_type": "code",
   "execution_count": 118,
   "metadata": {},
   "outputs": [
    {
     "output_type": "stream",
     "name": "stdout",
     "text": [
      "debe ingresar numeros\n"
     ]
    },
    {
     "output_type": "execute_result",
     "data": {
      "text/plain": [
       "     ESTACION  MAGNITUD      FECHA  PROVINCIA  MUNICIPIO PUNTO_MUESTREO  VALOR\n",
       "0          38         1 2017-02-10         28         79  28079038_1_38    6.0\n",
       "1          38         1 2017-02-11         28         79  28079038_1_38    4.0\n",
       "2          38         1 2017-02-12         28         79  28079038_1_38    4.0\n",
       "3          38         1 2017-02-13         28         79  28079038_1_38    3.0\n",
       "4          38         1 2017-02-14         28         79  28079038_1_38    5.0\n",
       "..        ...       ...        ...        ...        ...            ...    ...\n",
       "381        38         1 2018-02-26         28         79  28079038_1_38    9.0\n",
       "382        38         1 2018-02-27         28         79  28079038_1_38    5.0\n",
       "383        38         1 2018-02-28         28         79  28079038_1_38    3.0\n",
       "384        38         1 2018-03-01         28         79  28079038_1_38    3.0\n",
       "385        38         1 2018-03-02         28         79  28079038_1_38    3.0\n",
       "\n",
       "[386 rows x 7 columns]"
      ],
      "text/html": "<div>\n<style scoped>\n    .dataframe tbody tr th:only-of-type {\n        vertical-align: middle;\n    }\n\n    .dataframe tbody tr th {\n        vertical-align: top;\n    }\n\n    .dataframe thead th {\n        text-align: right;\n    }\n</style>\n<table border=\"1\" class=\"dataframe\">\n  <thead>\n    <tr style=\"text-align: right;\">\n      <th></th>\n      <th>ESTACION</th>\n      <th>MAGNITUD</th>\n      <th>FECHA</th>\n      <th>PROVINCIA</th>\n      <th>MUNICIPIO</th>\n      <th>PUNTO_MUESTREO</th>\n      <th>VALOR</th>\n    </tr>\n  </thead>\n  <tbody>\n    <tr>\n      <th>0</th>\n      <td>38</td>\n      <td>1</td>\n      <td>2017-02-10</td>\n      <td>28</td>\n      <td>79</td>\n      <td>28079038_1_38</td>\n      <td>6.0</td>\n    </tr>\n    <tr>\n      <th>1</th>\n      <td>38</td>\n      <td>1</td>\n      <td>2017-02-11</td>\n      <td>28</td>\n      <td>79</td>\n      <td>28079038_1_38</td>\n      <td>4.0</td>\n    </tr>\n    <tr>\n      <th>2</th>\n      <td>38</td>\n      <td>1</td>\n      <td>2017-02-12</td>\n      <td>28</td>\n      <td>79</td>\n      <td>28079038_1_38</td>\n      <td>4.0</td>\n    </tr>\n    <tr>\n      <th>3</th>\n      <td>38</td>\n      <td>1</td>\n      <td>2017-02-13</td>\n      <td>28</td>\n      <td>79</td>\n      <td>28079038_1_38</td>\n      <td>3.0</td>\n    </tr>\n    <tr>\n      <th>4</th>\n      <td>38</td>\n      <td>1</td>\n      <td>2017-02-14</td>\n      <td>28</td>\n      <td>79</td>\n      <td>28079038_1_38</td>\n      <td>5.0</td>\n    </tr>\n    <tr>\n      <th>...</th>\n      <td>...</td>\n      <td>...</td>\n      <td>...</td>\n      <td>...</td>\n      <td>...</td>\n      <td>...</td>\n      <td>...</td>\n    </tr>\n    <tr>\n      <th>381</th>\n      <td>38</td>\n      <td>1</td>\n      <td>2018-02-26</td>\n      <td>28</td>\n      <td>79</td>\n      <td>28079038_1_38</td>\n      <td>9.0</td>\n    </tr>\n    <tr>\n      <th>382</th>\n      <td>38</td>\n      <td>1</td>\n      <td>2018-02-27</td>\n      <td>28</td>\n      <td>79</td>\n      <td>28079038_1_38</td>\n      <td>5.0</td>\n    </tr>\n    <tr>\n      <th>383</th>\n      <td>38</td>\n      <td>1</td>\n      <td>2018-02-28</td>\n      <td>28</td>\n      <td>79</td>\n      <td>28079038_1_38</td>\n      <td>3.0</td>\n    </tr>\n    <tr>\n      <th>384</th>\n      <td>38</td>\n      <td>1</td>\n      <td>2018-03-01</td>\n      <td>28</td>\n      <td>79</td>\n      <td>28079038_1_38</td>\n      <td>3.0</td>\n    </tr>\n    <tr>\n      <th>385</th>\n      <td>38</td>\n      <td>1</td>\n      <td>2018-03-02</td>\n      <td>28</td>\n      <td>79</td>\n      <td>28079038_1_38</td>\n      <td>3.0</td>\n    </tr>\n  </tbody>\n</table>\n<p>386 rows × 7 columns</p>\n</div>"
     },
     "metadata": {},
     "execution_count": 118
    }
   ],
   "source": [
    "from datetime import date\n",
    "\n",
    "def filterByEstacionyFecha(estacion,magnitud,fecha1,fecha2):\n",
    "    #creamos una funcion para filtrar por : Estación,magnitud y un rango de fechas ( desde: fecha1 , hasta: fecha2)\n",
    "    if (fecha1<fecha2):\n",
    "        dfFiltrado=(dfDate1[(dfDate1[\"ESTACION\"]==estacion) &( dfDate1[\"MAGNITUD\"]==magnitud) &( dfDate1[\"FECHA\"]>=fecha1) & (dfDate1         [\"FECHA\"]<=fecha2)])\n",
    "        dfFiltrado.reset_index(drop=True, inplace=True)\n",
    "        return dfFiltrado\n",
    "    else:\n",
    "        print(\"la segunda fecha no puede ser mayor a la primera\")\n",
    "\n",
    "def validarEstacion():\n",
    "    #validamos que el dato sea entero\n",
    "    while True:\n",
    "        try:  \n",
    "            _estacion=int(input(\"ingrese la estacion\"))\n",
    "            if(_estacion!=\" \"):\n",
    "                break\n",
    "        except ValueError:\n",
    "            print(\"debe ingresar numeros\")\n",
    "    return _estacion\n",
    "\n",
    "def validarMagnitud():\n",
    "    while True:\n",
    "        try:\n",
    "            _magnitud=int(input(\"ingrese la magnitud\"))\n",
    "            if(_magnitud!=\" \"):\n",
    "                break\n",
    "        except ValueError:\n",
    "            print(\"debe ingresar numeros\")\n",
    "    return _magnitud\n",
    "\n",
    "##llamada a la funcion\n",
    "\n",
    "valorEstacion=validarEstacion()\n",
    "valorMagnitud=validarMagnitud()\n",
    "dfFiltrado=filterByEstacionyFecha(valorEstacion,valorMagnitud,\"2017-02-10\",\"2018-03-02\")\n",
    "dfFiltrado"
   ]
  },
  {
   "source": [
    "10.Crear un función que reciba una estación de medición y devuelva un DataFrame con las medias mensuales\n",
    "de los distintos tipos de contaminantes."
   ],
   "cell_type": "markdown",
   "metadata": {}
  },
  {
   "cell_type": "code",
   "execution_count": null,
   "metadata": {},
   "outputs": [],
   "source": [
    "\"\"\"\n",
    "def filtrarPorEstacion(estacion,dfPrincipal):\n",
    "\"\"\"\n"
   ]
  }
 ],
 "metadata": {
  "kernelspec": {
   "name": "python3",
   "display_name": "Python 3"
  },
  "language_info": {
   "codemirror_mode": {
    "name": "ipython",
    "version": 3
   },
   "file_extension": ".py",
   "mimetype": "text/x-python",
   "name": "python",
   "nbconvert_exporter": "python",
   "pygments_lexer": "ipython3",
   "version": "3.8.3-final"
  }
 },
 "nbformat": 4,
 "nbformat_minor": 4
}