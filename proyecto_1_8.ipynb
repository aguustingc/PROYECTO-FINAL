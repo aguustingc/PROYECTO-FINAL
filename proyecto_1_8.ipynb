{
 "cells": [
  {
   "cell_type": "markdown",
   "metadata": {},
   "source": [
    "### PUNTOS 1 a 8"
   ]
  },
  {
   "cell_type": "markdown",
   "metadata": {},
   "source": [
    "1. Generar un DataFrame con los datos de los cuatro ﬁcheros."
   ]
  },
  {
   "cell_type": "code",
   "execution_count": 1,
   "metadata": {},
   "outputs": [
    {
     "output_type": "execute_result",
     "data": {
      "text/plain": [
       "      PROVINCIA  MUNICIPIO  ESTACION  MAGNITUD PUNTO_MUESTREO   ANO  MES  \\\n",
       "0            28         79         4         1  28079004_1_38  2016    1   \n",
       "1            28         79         4         1  28079004_1_38  2016    2   \n",
       "2            28         79         4         1  28079004_1_38  2016    3   \n",
       "3            28         79         4         1  28079004_1_38  2016    4   \n",
       "4            28         79         4         1  28079004_1_38  2016    5   \n",
       "...         ...        ...       ...       ...            ...   ...  ...   \n",
       "7261         28         79        60        14  28079060_14_6  2019    8   \n",
       "7262         28         79        60        14  28079060_14_6  2019    9   \n",
       "7263         28         79        60        14  28079060_14_6  2019   10   \n",
       "7264         28         79        60        14  28079060_14_6  2019   11   \n",
       "7265         28         79        60        14  28079060_14_6  2019   12   \n",
       "\n",
       "       D01 V01    D02  ...   D27  V27   D28  V28   D29  V29    D30  V30   D31  \\\n",
       "0      8.0   V    7.0  ...   9.0    V   7.0    V   8.0    V    9.0    V   9.0   \n",
       "1     12.0   V   13.0  ...   7.0    V   8.0    V   9.0    V    0.0    N   0.0   \n",
       "2     11.0   V   10.0  ...   8.0    V   7.0    V   8.0    V   10.0    V   8.0   \n",
       "3      8.0   V    9.0  ...   9.0    V   8.0    V   8.0    V    8.0    V   0.0   \n",
       "4      7.0   V    8.0  ...   7.0    V   7.0    V   7.0    V    7.0    V   7.0   \n",
       "...    ...  ..    ...  ...   ...  ...   ...  ...   ...  ...    ...  ...   ...   \n",
       "7261  94.0   V  104.0  ...  88.0    V  90.0    V  99.0    V  108.0    V  98.0   \n",
       "7262  88.0   V   82.0  ...  54.0    V  68.0    V  70.0    V   55.0    V   0.0   \n",
       "7263  44.0   V   75.0  ...  28.0    V  33.0    V  16.0    V   19.0    V  47.0   \n",
       "7264  41.0   V   55.0  ...  55.0    V  52.0    V  47.0    V   56.0    V   0.0   \n",
       "7265  47.0   V   53.0  ...  17.0    V  13.0    V  14.0    V    5.0    V   4.0   \n",
       "\n",
       "      V31  \n",
       "0       V  \n",
       "1       N  \n",
       "2       V  \n",
       "3       N  \n",
       "4       V  \n",
       "...   ...  \n",
       "7261    V  \n",
       "7262    N  \n",
       "7263    V  \n",
       "7264    N  \n",
       "7265    V  \n",
       "\n",
       "[7266 rows x 69 columns]"
      ],
      "text/html": "<div>\n<style scoped>\n    .dataframe tbody tr th:only-of-type {\n        vertical-align: middle;\n    }\n\n    .dataframe tbody tr th {\n        vertical-align: top;\n    }\n\n    .dataframe thead th {\n        text-align: right;\n    }\n</style>\n<table border=\"1\" class=\"dataframe\">\n  <thead>\n    <tr style=\"text-align: right;\">\n      <th></th>\n      <th>PROVINCIA</th>\n      <th>MUNICIPIO</th>\n      <th>ESTACION</th>\n      <th>MAGNITUD</th>\n      <th>PUNTO_MUESTREO</th>\n      <th>ANO</th>\n      <th>MES</th>\n      <th>D01</th>\n      <th>V01</th>\n      <th>D02</th>\n      <th>...</th>\n      <th>D27</th>\n      <th>V27</th>\n      <th>D28</th>\n      <th>V28</th>\n      <th>D29</th>\n      <th>V29</th>\n      <th>D30</th>\n      <th>V30</th>\n      <th>D31</th>\n      <th>V31</th>\n    </tr>\n  </thead>\n  <tbody>\n    <tr>\n      <th>0</th>\n      <td>28</td>\n      <td>79</td>\n      <td>4</td>\n      <td>1</td>\n      <td>28079004_1_38</td>\n      <td>2016</td>\n      <td>1</td>\n      <td>8.0</td>\n      <td>V</td>\n      <td>7.0</td>\n      <td>...</td>\n      <td>9.0</td>\n      <td>V</td>\n      <td>7.0</td>\n      <td>V</td>\n      <td>8.0</td>\n      <td>V</td>\n      <td>9.0</td>\n      <td>V</td>\n      <td>9.0</td>\n      <td>V</td>\n    </tr>\n    <tr>\n      <th>1</th>\n      <td>28</td>\n      <td>79</td>\n      <td>4</td>\n      <td>1</td>\n      <td>28079004_1_38</td>\n      <td>2016</td>\n      <td>2</td>\n      <td>12.0</td>\n      <td>V</td>\n      <td>13.0</td>\n      <td>...</td>\n      <td>7.0</td>\n      <td>V</td>\n      <td>8.0</td>\n      <td>V</td>\n      <td>9.0</td>\n      <td>V</td>\n      <td>0.0</td>\n      <td>N</td>\n      <td>0.0</td>\n      <td>N</td>\n    </tr>\n    <tr>\n      <th>2</th>\n      <td>28</td>\n      <td>79</td>\n      <td>4</td>\n      <td>1</td>\n      <td>28079004_1_38</td>\n      <td>2016</td>\n      <td>3</td>\n      <td>11.0</td>\n      <td>V</td>\n      <td>10.0</td>\n      <td>...</td>\n      <td>8.0</td>\n      <td>V</td>\n      <td>7.0</td>\n      <td>V</td>\n      <td>8.0</td>\n      <td>V</td>\n      <td>10.0</td>\n      <td>V</td>\n      <td>8.0</td>\n      <td>V</td>\n    </tr>\n    <tr>\n      <th>3</th>\n      <td>28</td>\n      <td>79</td>\n      <td>4</td>\n      <td>1</td>\n      <td>28079004_1_38</td>\n      <td>2016</td>\n      <td>4</td>\n      <td>8.0</td>\n      <td>V</td>\n      <td>9.0</td>\n      <td>...</td>\n      <td>9.0</td>\n      <td>V</td>\n      <td>8.0</td>\n      <td>V</td>\n      <td>8.0</td>\n      <td>V</td>\n      <td>8.0</td>\n      <td>V</td>\n      <td>0.0</td>\n      <td>N</td>\n    </tr>\n    <tr>\n      <th>4</th>\n      <td>28</td>\n      <td>79</td>\n      <td>4</td>\n      <td>1</td>\n      <td>28079004_1_38</td>\n      <td>2016</td>\n      <td>5</td>\n      <td>7.0</td>\n      <td>V</td>\n      <td>8.0</td>\n      <td>...</td>\n      <td>7.0</td>\n      <td>V</td>\n      <td>7.0</td>\n      <td>V</td>\n      <td>7.0</td>\n      <td>V</td>\n      <td>7.0</td>\n      <td>V</td>\n      <td>7.0</td>\n      <td>V</td>\n    </tr>\n    <tr>\n      <th>...</th>\n      <td>...</td>\n      <td>...</td>\n      <td>...</td>\n      <td>...</td>\n      <td>...</td>\n      <td>...</td>\n      <td>...</td>\n      <td>...</td>\n      <td>...</td>\n      <td>...</td>\n      <td>...</td>\n      <td>...</td>\n      <td>...</td>\n      <td>...</td>\n      <td>...</td>\n      <td>...</td>\n      <td>...</td>\n      <td>...</td>\n      <td>...</td>\n      <td>...</td>\n      <td>...</td>\n    </tr>\n    <tr>\n      <th>7261</th>\n      <td>28</td>\n      <td>79</td>\n      <td>60</td>\n      <td>14</td>\n      <td>28079060_14_6</td>\n      <td>2019</td>\n      <td>8</td>\n      <td>94.0</td>\n      <td>V</td>\n      <td>104.0</td>\n      <td>...</td>\n      <td>88.0</td>\n      <td>V</td>\n      <td>90.0</td>\n      <td>V</td>\n      <td>99.0</td>\n      <td>V</td>\n      <td>108.0</td>\n      <td>V</td>\n      <td>98.0</td>\n      <td>V</td>\n    </tr>\n    <tr>\n      <th>7262</th>\n      <td>28</td>\n      <td>79</td>\n      <td>60</td>\n      <td>14</td>\n      <td>28079060_14_6</td>\n      <td>2019</td>\n      <td>9</td>\n      <td>88.0</td>\n      <td>V</td>\n      <td>82.0</td>\n      <td>...</td>\n      <td>54.0</td>\n      <td>V</td>\n      <td>68.0</td>\n      <td>V</td>\n      <td>70.0</td>\n      <td>V</td>\n      <td>55.0</td>\n      <td>V</td>\n      <td>0.0</td>\n      <td>N</td>\n    </tr>\n    <tr>\n      <th>7263</th>\n      <td>28</td>\n      <td>79</td>\n      <td>60</td>\n      <td>14</td>\n      <td>28079060_14_6</td>\n      <td>2019</td>\n      <td>10</td>\n      <td>44.0</td>\n      <td>V</td>\n      <td>75.0</td>\n      <td>...</td>\n      <td>28.0</td>\n      <td>V</td>\n      <td>33.0</td>\n      <td>V</td>\n      <td>16.0</td>\n      <td>V</td>\n      <td>19.0</td>\n      <td>V</td>\n      <td>47.0</td>\n      <td>V</td>\n    </tr>\n    <tr>\n      <th>7264</th>\n      <td>28</td>\n      <td>79</td>\n      <td>60</td>\n      <td>14</td>\n      <td>28079060_14_6</td>\n      <td>2019</td>\n      <td>11</td>\n      <td>41.0</td>\n      <td>V</td>\n      <td>55.0</td>\n      <td>...</td>\n      <td>55.0</td>\n      <td>V</td>\n      <td>52.0</td>\n      <td>V</td>\n      <td>47.0</td>\n      <td>V</td>\n      <td>56.0</td>\n      <td>V</td>\n      <td>0.0</td>\n      <td>N</td>\n    </tr>\n    <tr>\n      <th>7265</th>\n      <td>28</td>\n      <td>79</td>\n      <td>60</td>\n      <td>14</td>\n      <td>28079060_14_6</td>\n      <td>2019</td>\n      <td>12</td>\n      <td>47.0</td>\n      <td>V</td>\n      <td>53.0</td>\n      <td>...</td>\n      <td>17.0</td>\n      <td>V</td>\n      <td>13.0</td>\n      <td>V</td>\n      <td>14.0</td>\n      <td>V</td>\n      <td>5.0</td>\n      <td>V</td>\n      <td>4.0</td>\n      <td>V</td>\n    </tr>\n  </tbody>\n</table>\n<p>7266 rows × 69 columns</p>\n</div>"
     },
     "metadata": {},
     "execution_count": 1
    }
   ],
   "source": [
    "import pandas as pd\n",
    "\n",
    "# importamos dataset\n",
    "df_2016 = pd.read_csv('DataFrames/emisiones-2016.csv', sep=';')\n",
    "df_2017 = pd.read_csv('DataFrames/emisiones-2017.csv', sep=';')\n",
    "df_2018 = pd.read_csv('DataFrames/emisiones-2018.csv', sep=';')\n",
    "df_2019 = pd.read_csv('DataFrames/emisiones-2019.csv', sep=';')\n",
    "\n",
    "dfs = [df_2016,\n",
    "       df_2017,\n",
    "       df_2018,\n",
    "       df_2019]\n",
    "\n",
    "dfPrincipal = pd.concat(dfs, ignore_index=True)\n",
    "dfPrincipal"
   ]
  },
  {
   "source": [
    "2. Filtrar columnas por Estación, Magnitud,Año,Mes,D01,D02,etc. "
   ],
   "cell_type": "markdown",
   "metadata": {}
  },
  {
   "cell_type": "code",
   "execution_count": 3,
   "metadata": {},
   "outputs": [
    {
     "output_type": "execute_result",
     "data": {
      "text/plain": [
       "      ESTACION  MAGNITUD   ANO  MES   D01    D02    D03   D04   D05   D06  \\\n",
       "0            4         1  2016    1   8.0    7.0    6.0   6.0   7.0   6.0   \n",
       "1            4         1  2016    2  12.0   13.0    9.0   9.0  11.0   9.0   \n",
       "2            4         1  2016    3  11.0   10.0    9.0   9.0   7.0   8.0   \n",
       "3            4         1  2016    4   8.0    9.0    9.0   8.0   8.0   9.0   \n",
       "4            4         1  2016    5   7.0    8.0    9.0   9.0   8.0   8.0   \n",
       "...        ...       ...   ...  ...   ...    ...    ...   ...   ...   ...   \n",
       "7261        60        14  2019    8  94.0  104.0  106.0  99.0  77.0  82.0   \n",
       "7262        60        14  2019    9  88.0   82.0   80.0  92.0  79.0  75.0   \n",
       "7263        60        14  2019   10  44.0   75.0   44.0  54.0  65.0  68.0   \n",
       "7264        60        14  2019   11  41.0   55.0   79.0  65.0  64.0  51.0   \n",
       "7265        60        14  2019   12  47.0   53.0   45.0  44.0  49.0  41.0   \n",
       "\n",
       "      ...   D22   D23    D24   D25   D26   D27   D28   D29    D30   D31  \n",
       "0     ...  10.0  11.0   11.0  13.0  12.0   9.0   7.0   8.0    9.0   9.0  \n",
       "1     ...  11.0  10.0    9.0   8.0   7.0   7.0   8.0   9.0    0.0   0.0  \n",
       "2     ...   8.0   8.0    9.0   9.0   9.0   8.0   7.0   8.0   10.0   8.0  \n",
       "3     ...   8.0   8.0    8.0   8.0   9.0   9.0   8.0   8.0    8.0   0.0  \n",
       "4     ...   7.0   7.0    8.0   7.0   7.0   7.0   7.0   7.0    7.0   7.0  \n",
       "...   ...   ...   ...    ...   ...   ...   ...   ...   ...    ...   ...  \n",
       "7261  ...  86.0  97.0  104.0  96.0  85.0  88.0  90.0  99.0  108.0  98.0  \n",
       "7262  ...  59.0  46.0   49.0  69.0  57.0  54.0  68.0  70.0   55.0   0.0  \n",
       "7263  ...  37.0  39.0   45.0  21.0  23.0  28.0  33.0  16.0   19.0  47.0  \n",
       "7264  ...  38.0  75.0   69.0  45.0  35.0  55.0  52.0  47.0   56.0   0.0  \n",
       "7265  ...  68.0  36.0    9.0  11.0  10.0  17.0  13.0  14.0    5.0   4.0  \n",
       "\n",
       "[7266 rows x 35 columns]"
      ],
      "text/html": "<div>\n<style scoped>\n    .dataframe tbody tr th:only-of-type {\n        vertical-align: middle;\n    }\n\n    .dataframe tbody tr th {\n        vertical-align: top;\n    }\n\n    .dataframe thead th {\n        text-align: right;\n    }\n</style>\n<table border=\"1\" class=\"dataframe\">\n  <thead>\n    <tr style=\"text-align: right;\">\n      <th></th>\n      <th>ESTACION</th>\n      <th>MAGNITUD</th>\n      <th>ANO</th>\n      <th>MES</th>\n      <th>D01</th>\n      <th>D02</th>\n      <th>D03</th>\n      <th>D04</th>\n      <th>D05</th>\n      <th>D06</th>\n      <th>...</th>\n      <th>D22</th>\n      <th>D23</th>\n      <th>D24</th>\n      <th>D25</th>\n      <th>D26</th>\n      <th>D27</th>\n      <th>D28</th>\n      <th>D29</th>\n      <th>D30</th>\n      <th>D31</th>\n    </tr>\n  </thead>\n  <tbody>\n    <tr>\n      <th>0</th>\n      <td>4</td>\n      <td>1</td>\n      <td>2016</td>\n      <td>1</td>\n      <td>8.0</td>\n      <td>7.0</td>\n      <td>6.0</td>\n      <td>6.0</td>\n      <td>7.0</td>\n      <td>6.0</td>\n      <td>...</td>\n      <td>10.0</td>\n      <td>11.0</td>\n      <td>11.0</td>\n      <td>13.0</td>\n      <td>12.0</td>\n      <td>9.0</td>\n      <td>7.0</td>\n      <td>8.0</td>\n      <td>9.0</td>\n      <td>9.0</td>\n    </tr>\n    <tr>\n      <th>1</th>\n      <td>4</td>\n      <td>1</td>\n      <td>2016</td>\n      <td>2</td>\n      <td>12.0</td>\n      <td>13.0</td>\n      <td>9.0</td>\n      <td>9.0</td>\n      <td>11.0</td>\n      <td>9.0</td>\n      <td>...</td>\n      <td>11.0</td>\n      <td>10.0</td>\n      <td>9.0</td>\n      <td>8.0</td>\n      <td>7.0</td>\n      <td>7.0</td>\n      <td>8.0</td>\n      <td>9.0</td>\n      <td>0.0</td>\n      <td>0.0</td>\n    </tr>\n    <tr>\n      <th>2</th>\n      <td>4</td>\n      <td>1</td>\n      <td>2016</td>\n      <td>3</td>\n      <td>11.0</td>\n      <td>10.0</td>\n      <td>9.0</td>\n      <td>9.0</td>\n      <td>7.0</td>\n      <td>8.0</td>\n      <td>...</td>\n      <td>8.0</td>\n      <td>8.0</td>\n      <td>9.0</td>\n      <td>9.0</td>\n      <td>9.0</td>\n      <td>8.0</td>\n      <td>7.0</td>\n      <td>8.0</td>\n      <td>10.0</td>\n      <td>8.0</td>\n    </tr>\n    <tr>\n      <th>3</th>\n      <td>4</td>\n      <td>1</td>\n      <td>2016</td>\n      <td>4</td>\n      <td>8.0</td>\n      <td>9.0</td>\n      <td>9.0</td>\n      <td>8.0</td>\n      <td>8.0</td>\n      <td>9.0</td>\n      <td>...</td>\n      <td>8.0</td>\n      <td>8.0</td>\n      <td>8.0</td>\n      <td>8.0</td>\n      <td>9.0</td>\n      <td>9.0</td>\n      <td>8.0</td>\n      <td>8.0</td>\n      <td>8.0</td>\n      <td>0.0</td>\n    </tr>\n    <tr>\n      <th>4</th>\n      <td>4</td>\n      <td>1</td>\n      <td>2016</td>\n      <td>5</td>\n      <td>7.0</td>\n      <td>8.0</td>\n      <td>9.0</td>\n      <td>9.0</td>\n      <td>8.0</td>\n      <td>8.0</td>\n      <td>...</td>\n      <td>7.0</td>\n      <td>7.0</td>\n      <td>8.0</td>\n      <td>7.0</td>\n      <td>7.0</td>\n      <td>7.0</td>\n      <td>7.0</td>\n      <td>7.0</td>\n      <td>7.0</td>\n      <td>7.0</td>\n    </tr>\n    <tr>\n      <th>...</th>\n      <td>...</td>\n      <td>...</td>\n      <td>...</td>\n      <td>...</td>\n      <td>...</td>\n      <td>...</td>\n      <td>...</td>\n      <td>...</td>\n      <td>...</td>\n      <td>...</td>\n      <td>...</td>\n      <td>...</td>\n      <td>...</td>\n      <td>...</td>\n      <td>...</td>\n      <td>...</td>\n      <td>...</td>\n      <td>...</td>\n      <td>...</td>\n      <td>...</td>\n      <td>...</td>\n    </tr>\n    <tr>\n      <th>7261</th>\n      <td>60</td>\n      <td>14</td>\n      <td>2019</td>\n      <td>8</td>\n      <td>94.0</td>\n      <td>104.0</td>\n      <td>106.0</td>\n      <td>99.0</td>\n      <td>77.0</td>\n      <td>82.0</td>\n      <td>...</td>\n      <td>86.0</td>\n      <td>97.0</td>\n      <td>104.0</td>\n      <td>96.0</td>\n      <td>85.0</td>\n      <td>88.0</td>\n      <td>90.0</td>\n      <td>99.0</td>\n      <td>108.0</td>\n      <td>98.0</td>\n    </tr>\n    <tr>\n      <th>7262</th>\n      <td>60</td>\n      <td>14</td>\n      <td>2019</td>\n      <td>9</td>\n      <td>88.0</td>\n      <td>82.0</td>\n      <td>80.0</td>\n      <td>92.0</td>\n      <td>79.0</td>\n      <td>75.0</td>\n      <td>...</td>\n      <td>59.0</td>\n      <td>46.0</td>\n      <td>49.0</td>\n      <td>69.0</td>\n      <td>57.0</td>\n      <td>54.0</td>\n      <td>68.0</td>\n      <td>70.0</td>\n      <td>55.0</td>\n      <td>0.0</td>\n    </tr>\n    <tr>\n      <th>7263</th>\n      <td>60</td>\n      <td>14</td>\n      <td>2019</td>\n      <td>10</td>\n      <td>44.0</td>\n      <td>75.0</td>\n      <td>44.0</td>\n      <td>54.0</td>\n      <td>65.0</td>\n      <td>68.0</td>\n      <td>...</td>\n      <td>37.0</td>\n      <td>39.0</td>\n      <td>45.0</td>\n      <td>21.0</td>\n      <td>23.0</td>\n      <td>28.0</td>\n      <td>33.0</td>\n      <td>16.0</td>\n      <td>19.0</td>\n      <td>47.0</td>\n    </tr>\n    <tr>\n      <th>7264</th>\n      <td>60</td>\n      <td>14</td>\n      <td>2019</td>\n      <td>11</td>\n      <td>41.0</td>\n      <td>55.0</td>\n      <td>79.0</td>\n      <td>65.0</td>\n      <td>64.0</td>\n      <td>51.0</td>\n      <td>...</td>\n      <td>38.0</td>\n      <td>75.0</td>\n      <td>69.0</td>\n      <td>45.0</td>\n      <td>35.0</td>\n      <td>55.0</td>\n      <td>52.0</td>\n      <td>47.0</td>\n      <td>56.0</td>\n      <td>0.0</td>\n    </tr>\n    <tr>\n      <th>7265</th>\n      <td>60</td>\n      <td>14</td>\n      <td>2019</td>\n      <td>12</td>\n      <td>47.0</td>\n      <td>53.0</td>\n      <td>45.0</td>\n      <td>44.0</td>\n      <td>49.0</td>\n      <td>41.0</td>\n      <td>...</td>\n      <td>68.0</td>\n      <td>36.0</td>\n      <td>9.0</td>\n      <td>11.0</td>\n      <td>10.0</td>\n      <td>17.0</td>\n      <td>13.0</td>\n      <td>14.0</td>\n      <td>5.0</td>\n      <td>4.0</td>\n    </tr>\n  </tbody>\n</table>\n<p>7266 rows × 35 columns</p>\n</div>"
     },
     "metadata": {},
     "execution_count": 3
    }
   ],
   "source": [
    "\n",
    "#Filtramos columnas por Estación, Magnitud,Año,Mes,D01,D02,etc.\n",
    "\n",
    "columnasFiltradas = [\"ESTACION\",\"MAGNITUD\",\"ANO\",\"MES\",\"D01\",\"D02\",\"D03\",\"D04\",\"D05\",\"D06\",\"D07\",\"D08\",\n",
    "                    \"D09\",\"D10\",\"D11\",\"D12\",\"D13\",\"D14\",\"D15\",\"D16\",\"D17\",\"D18\",\"D19\",\"D20\",\"D21\",\"D22\",\n",
    "                    \"D23\",\"D24\",\"D25\",\"D26\",\"D27\",\"D28\",\"D29\",\"D30\",\"D31\"]\n",
    "\n",
    "dfFiltrado = dfPrincipal.loc[:,columnasFiltradas]\n",
    "dfFiltrado"
   ]
  },
  {
   "cell_type": "code",
   "execution_count": null,
   "metadata": {},
   "outputs": [],
   "source": []
  }
 ],
 "metadata": {
  "kernelspec": {
   "display_name": "Python 3",
   "language": "python",
   "name": "python3"
  },
  "language_info": {
   "codemirror_mode": {
    "name": "ipython",
    "version": 3
   },
   "file_extension": ".py",
   "mimetype": "text/x-python",
   "name": "python",
   "nbconvert_exporter": "python",
   "pygments_lexer": "ipython3",
   "version": "3.8.3-final"
  }
 },
 "nbformat": 4,
 "nbformat_minor": 4
}